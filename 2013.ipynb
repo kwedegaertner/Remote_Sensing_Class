{
 "cells": [
  {
   "cell_type": "markdown",
   "id": "6f4d7549-d337-4a4a-874e-70763186b3a8",
   "metadata": {
    "tags": []
   },
   "source": [
    "## 1. Calling geemap"
   ]
  },
  {
   "cell_type": "code",
   "execution_count": 1,
   "id": "01866dd2-5897-4bd0-b45b-2046bc723688",
   "metadata": {},
   "outputs": [],
   "source": [
    "import ee\n",
    "ee.Initialize()\n",
    "import os\n",
    "import geemap\n",
    "Map = geemap.Map()"
   ]
  },
  {
   "cell_type": "markdown",
   "id": "3ce993eb-eab5-442f-8850-82fc1a5998b4",
   "metadata": {},
   "source": [
    "## 2. Define the POI ( Triangle Region of NC: Durham, Wake, and Orange Counties)"
   ]
  },
  {
   "cell_type": "code",
   "execution_count": 2,
   "id": "48ec6a58-0b25-4e2c-9d01-9d02740953d9",
   "metadata": {},
   "outputs": [
    {
     "name": "stdout",
     "output_type": "stream",
     "text": [
      "{'type': 'Point', 'coordinates': [-79.055847, 35.9132]}\n",
      "Total area of AOI: 3473740563.07451 square meters\n"
     ]
    }
   ],
   "source": [
    "# Define the rectangle geometry\n",
    "latitude = 35.913200\n",
    "longitude= -79.055847\n",
    "rtp = ee.Geometry.Point([longitude, latitude])\n",
    "\n",
    "# define ROI\n",
    "roi = ee.Geometry.Polygon(\n",
    "    [\n",
    "        [\n",
    "            [-79.127376, 36.058690], \n",
    "            [-78.439375, 36.058690], \n",
    "            [-78.439375, 35.541565], \n",
    "            [-79.139617, 35.541565], \n",
    "                        \n",
    "        ]\n",
    "    ],\n",
    "    None,\n",
    "    False,\n",
    ")\n",
    "\n",
    "# Print the geometry to check it\n",
    "print(rtp.getInfo())\n",
    "\n",
    "# Get the pixel area image\n",
    "pixelArea = ee.Image.pixelArea()\n",
    "\n",
    "# Calculate the total area of the AOI in square meters\n",
    "totalArea = pixelArea.reduceRegion(\n",
    "  reducer=ee.Reducer.sum(),\n",
    "  geometry=roi,\n",
    "  scale=roi.projection().nominalScale(),\n",
    "  maxPixels=1e13\n",
    ").get('area')\n",
    "\n",
    "print('Total area of AOI:', totalArea.getInfo(), 'square meters')"
   ]
  },
  {
   "cell_type": "code",
   "execution_count": null,
   "id": "85582a6b-ca30-4490-a0d0-39c89ccadf2c",
   "metadata": {},
   "outputs": [],
   "source": []
  },
  {
   "cell_type": "markdown",
   "id": "735efa71-657d-4add-ba26-67f35c2699d5",
   "metadata": {},
   "source": [
    "## 3. Calling Satellites "
   ]
  },
  {
   "cell_type": "markdown",
   "id": "16517b9f-ab60-4bc3-84c7-88cfbe911070",
   "metadata": {},
   "source": [
    "## Landsat"
   ]
  },
  {
   "cell_type": "markdown",
   "id": "83dfc59b-0dc8-47fb-a299-c50d15f91c0c",
   "metadata": {},
   "source": [
    "## Call 2013 Image. This image will be used to train the model"
   ]
  },
  {
   "cell_type": "code",
   "execution_count": 4,
   "id": "b1e3d02d-888c-4e4d-9348-ce887dcfbe9d",
   "metadata": {},
   "outputs": [
    {
     "data": {
      "application/vnd.jupyter.widget-view+json": {
       "model_id": "d8cc15771de5448eb59313c67cf27741",
       "version_major": 2,
       "version_minor": 0
      },
      "text/plain": [
       "Map(bottom=103424.0, center=[35.799336436832874, -78.78645704174697], controls=(WidgetControl(options=['positi…"
      ]
     },
     "metadata": {},
     "output_type": "display_data"
    }
   ],
   "source": [
    "#2013\n",
    "landsat = ee.ImageCollection(\"LANDSAT/LC08/C02/T1_L2\")\n",
    "landsatImage = landsat.filterDate('2013-06-01', '2013-06-30').filterBounds(rtp)\n",
    "landsatImage = landsatImage.sort('CLOUD_COVER')\n",
    "\n",
    "landsatBands = ['SR_B3', 'SR_B2', 'SR_B1']\n",
    "im2013=landsatImage.first()\n",
    "im2013 = im2013.select('SR_B.').multiply(0.0000275).add(-0.2)\n",
    "im2013=im2013.clip(roi)\n",
    "trueColor = {\n",
    "  'dimensions': 500,  \n",
    "  'bands': ['SR_B4', 'SR_B3', 'SR_B2'],\n",
    "  'min': 0,\n",
    "  'max': 0.3,\n",
    "}\n",
    "Map.addLayer(im2013, trueColor, name='2013')\n",
    "Map.centerObject(im2013, 10)\n",
    "Map"
   ]
  },
  {
   "cell_type": "markdown",
   "id": "bd2e7dab-b594-4a2d-8fee-0ef6fcbbceea",
   "metadata": {},
   "source": [
    "## Make Polygons around Land Use Areas"
   ]
  },
  {
   "cell_type": "code",
   "execution_count": 5,
   "id": "0cc8cfc3-d3d4-44eb-8f63-a5c2b822ebb2",
   "metadata": {},
   "outputs": [
    {
     "data": {
      "application/vnd.jupyter.widget-view+json": {
       "model_id": "d8cc15771de5448eb59313c67cf27741",
       "version_major": 2,
       "version_minor": 0
      },
      "text/plain": [
       "Map(bottom=103421.0, center=[35.799336436832874, -78.78645704174697], controls=(WidgetControl(options=['positi…"
      ]
     },
     "metadata": {},
     "output_type": "display_data"
    }
   ],
   "source": [
    "# FOR Buildings: \\\n",
    "# how I did this: \n",
    "# 1. I zoomed into the Landsat image to a building area\n",
    "# 2. Click on the polygon icon of the left, and define an area with points, forming a closed polygon\n",
    "# 3. Run this cell. The last draw polygon is stored in \"Map.user_roi\"\n",
    "polygon = Map.user_roi\n",
    "\n",
    "# Or you can enter defined coordinates as the commented lines below.\n",
    "# // Create an ee.Geometry.\n",
    "polygon = ee.Geometry.Polygon([\n",
    "                   [-78.6828, 35.8410],\n",
    "                   [-78.6812, 35.8422],\n",
    "                   [-78.6779, 35.8398],\n",
    "                   [-78.6799, 35.8386]]);\n",
    "\n",
    "#Create a Feature from the Geometry.\n",
    "building = ee.Feature(polygon, {'class': 0, 'name': 'building'});\n",
    "Map.addLayer(building, {'fill_color':'pink', 'outline': 1}, name='building')\n",
    "\n",
    "\n",
    "#Second building\n",
    "polygon = Map.user_roi\n",
    "\n",
    "# // Create an ee.Geometry.\n",
    "polygon = ee.Geometry.Polygon([\n",
    "                   [-78.9599, 35.9666],\n",
    "                   [-78.9568, 35.9677],\n",
    "                   [-78.9562, 35.9671],\n",
    "                   [-78.9596, 35.9659]]);\n",
    "                   \n",
    "\n",
    "# // Create a Feature from the Geometry.\n",
    "building2 = ee.Feature(polygon, {'class': 0, 'name': 'building2'});\n",
    "Map.addLayer(building2, {'fill_color':'pink', 'outline': 1}, name='building2')\n",
    "\n",
    "\n",
    "\n",
    "#Third building\n",
    "polygon = Map.user_roi\n",
    "\n",
    "# // Create an ee.Geometry.\n",
    "polygon = ee.Geometry.Polygon([\n",
    "                   [-78.6135, 35.8244],\n",
    "                   [-78.6120, 35.8238],\n",
    "                   [-78.6129, 35.8229],\n",
    "                   [-78.6143, 35.8237]]);\n",
    "                   \n",
    "\n",
    "# // Create a Feature from the Geometry.\n",
    "building3 = ee.Feature(polygon, {'class': 0, 'name': 'building3'});\n",
    "Map.addLayer(building3, {'fill_color':'pink', 'outline': 1}, name='building3')\n",
    "\n",
    "\n",
    "\n",
    "#Fourth building\n",
    "polygon = Map.user_roi\n",
    "\n",
    "# // Create an ee.Geometry.\n",
    "polygon = ee.Geometry.Polygon([\n",
    "                   [-78.8101, 35.8387],\n",
    "                   [-78.8066, 35.8373],\n",
    "                   [-78.8074, 35.8362],\n",
    "                   [-78.8107, 35.8375]]);\n",
    "                   \n",
    "\n",
    "# // Create a Feature from the Geometry.\n",
    "building4 = ee.Feature(polygon, {'class': 0, 'name': 'building4'});\n",
    "Map.addLayer(building4, {'fill_color':'pink', 'outline': 1}, name='building4')\n",
    "\n",
    "\n",
    "#Fifth building\n",
    "polygon = Map.user_roi\n",
    "\n",
    "# // Create an ee.Geometry.\n",
    "polygon = ee.Geometry.Polygon([\n",
    "                   [-78.872, 35.971],\n",
    "                   [-78.870, 35.970],\n",
    "                   [-78.872, 35.963],\n",
    "                   [-78.875, 35.963]]);\n",
    "                   \n",
    "\n",
    "# // Create a Feature from the Geometry.\n",
    "building5 = ee.Feature(polygon, {'class': 0, 'name': 'building5'});\n",
    "Map.addLayer(building5, {'fill_color':'pink', 'outline': 1}, name='building5')\n",
    "\n",
    "\n",
    "#Sixth building\n",
    "polygon = Map.user_roi\n",
    "\n",
    "# // Create an ee.Geometry.\n",
    "polygon = ee.Geometry.Polygon([\n",
    "                   [-78.848, 35.871],\n",
    "                   [-78.845, 35.871],\n",
    "                   [-78.845, 35.869],\n",
    "                   [-78.848, 35.869]]);\n",
    "                   \n",
    "\n",
    "# // Create a Feature from the Geometry.\n",
    "building6 = ee.Feature(polygon, {'class': 0, 'name': 'building6'});\n",
    "Map.addLayer(building6, {'fill_color':'pink', 'outline': 1}, name='building6')\n",
    "\n",
    "\n",
    "#Seventh building\n",
    "polygon = Map.user_roi\n",
    "\n",
    "# // Create an ee.Geometry.\n",
    "polygon = ee.Geometry.Polygon([\n",
    "                   [-78.855, 35.917],\n",
    "                   [-78.854, 35.916],\n",
    "                   [-78.856, 35.915],\n",
    "                   [-78.857, 35.915]]);\n",
    "                   \n",
    "\n",
    "# // Create a Feature from the Geometry.\n",
    "building7 = ee.Feature(polygon, {'class': 0, 'name': 'building7'});\n",
    "Map.addLayer(building7, {'fill_color':'pink', 'outline': 1}, name='building7')\n",
    "Map\n"
   ]
  },
  {
   "cell_type": "code",
   "execution_count": 6,
   "id": "e0b8f415-959f-4d55-90ae-d0b67a91be78",
   "metadata": {},
   "outputs": [
    {
     "data": {
      "application/vnd.jupyter.widget-view+json": {
       "model_id": "d8cc15771de5448eb59313c67cf27741",
       "version_major": 2,
       "version_minor": 0
      },
      "text/plain": [
       "Map(bottom=103421.0, center=[35.799336436832874, -78.78645704174697], controls=(WidgetControl(options=['positi…"
      ]
     },
     "metadata": {},
     "output_type": "display_data"
    }
   ],
   "source": [
    "# FOR Roads: \\\n",
    "\n",
    "#First Road\n",
    "polygon = Map.user_roi\n",
    "\n",
    "# // Create an ee.Geometry.\n",
    "polygon = ee.Geometry.Polygon([\n",
    "                   [-78.737, 35.767],\n",
    "                   [-78.736, 35.767],\n",
    "                   [-78.733, 35.764],\n",
    "                   [-78.735, 35.763]]);\n",
    "\n",
    "#Create a Feature from the Geometry.\n",
    "road = ee.Feature(polygon, {'class': 1, 'name': 'road'});\n",
    "Map.addLayer(road, {'fill_color':'grey', 'outline': 1}, name='road')\n",
    "\n",
    "\n",
    "#Second road\n",
    "polygon = Map.user_roi\n",
    "\n",
    "# // Create an ee.Geometry.\n",
    "polygon = ee.Geometry.Polygon([\n",
    "                   [-78.910, 35.908],\n",
    "                   [-78.901, 35.908],\n",
    "                   [-78.901, 35.907],\n",
    "                   [-78.909, 35.908]]);\n",
    "                   \n",
    "\n",
    "# // Create a Feature from the Geometry.\n",
    "road2 = ee.Feature(polygon, {'class': 1, 'name': 'road2'});\n",
    "Map.addLayer(road2, {'fill_color':'grey', 'outline': 1}, name='road2')\n",
    "\n",
    "\n",
    "#Third road\n",
    "polygon = Map.user_roi\n",
    "\n",
    "# // Create an ee.Geometry.\n",
    "polygon = ee.Geometry.Polygon([\n",
    "                   [-78.594, 35.747],\n",
    "                   [-78.593, 35.747],\n",
    "                   [-78.586, 35.730],\n",
    "                   [-78.587, 35.730]]);\n",
    "                   \n",
    "\n",
    "# // Create a Feature from the Geometry.\n",
    "road3 = ee.Feature(polygon, {'class': 1, 'name': 'road3'});\n",
    "Map.addLayer(road3, {'fill_color':'grey', 'outline': 1}, name='road3')\n",
    "\n",
    "\n",
    "#Fourth road\n",
    "polygon = Map.user_roi\n",
    "\n",
    "# // Create an ee.Geometry.\n",
    "polygon = ee.Geometry.Polygon([\n",
    "                   [-78.761, 35.830],\n",
    "                   [-78.760, 35.830],\n",
    "                   [-78.743, 35.821],\n",
    "                   [-78.744, 35.820]]);\n",
    "                   \n",
    "\n",
    "# // Create a Feature from the Geometry.\n",
    "road4 = ee.Feature(polygon, {'class': 1, 'name': 'road4'});\n",
    "Map.addLayer(road4, {'fill_color':'grey', 'outline': 1}, name='road4')\n",
    "\n",
    "\n",
    "#Fifth road\n",
    "polygon = Map.user_roi\n",
    "\n",
    "# // Create an ee.Geometry.\n",
    "polygon = ee.Geometry.Polygon([\n",
    "                   [-78.665, 35.758],\n",
    "                   [-78.663, 35.758],\n",
    "                   [-78.663, 35.757],\n",
    "                   [-78.665, 35.757]]);\n",
    "                   \n",
    "\n",
    "# // Create a Feature from the Geometry.\n",
    "road5 = ee.Feature(polygon, {'class': 1, 'name': 'road5'});\n",
    "Map.addLayer(road5, {'fill_color':'grey', 'outline': 1}, name='road5')\n",
    "\n",
    "#Sixth road\n",
    "polygon = Map.user_roi\n",
    "\n",
    "# // Create an ee.Geometry.\n",
    "polygon = ee.Geometry.Polygon([\n",
    "                   [-78.892, 35.756],\n",
    "                   [-78.891, 35.756],\n",
    "                   [-78.892, 35.735],\n",
    "                   [-78.893, 35.735]]);\n",
    "                   \n",
    "\n",
    "# // Create a Feature from the Geometry.\n",
    "road6 = ee.Feature(polygon, {'class': 1, 'name': 'road6'});\n",
    "Map.addLayer(road6, {'fill_color':'grey', 'outline': 1}, name='road6')\n",
    "Map"
   ]
  },
  {
   "cell_type": "code",
   "execution_count": 7,
   "id": "b552f43d-bb20-42ce-a31f-020d7554831b",
   "metadata": {},
   "outputs": [
    {
     "data": {
      "application/vnd.jupyter.widget-view+json": {
       "model_id": "d8cc15771de5448eb59313c67cf27741",
       "version_major": 2,
       "version_minor": 0
      },
      "text/plain": [
       "Map(bottom=103421.0, center=[35.799336436832874, -78.78645704174697], controls=(WidgetControl(options=['positi…"
      ]
     },
     "metadata": {},
     "output_type": "display_data"
    }
   ],
   "source": [
    "# FOR Agricultural Fields: \\\n",
    "\n",
    "# First farmland\n",
    "polygon = Map.user_roi\n",
    "\n",
    "\n",
    "# // Create an ee.Geometry.\n",
    "polygon = ee.Geometry.Polygon([\n",
    "                   [-78.706, 35.584],\n",
    "                   [-78.702, 35.587],\n",
    "                   [-78.702, 35.583],\n",
    "                   [-78.704, 35.582]]);\n",
    "\n",
    "#Create a Feature from the Geometry.\n",
    "farmland = ee.Feature(polygon, {'class': 2, 'name': 'farmland'});\n",
    "Map.addLayer(farmland, {'fill_color':'yellow', 'outline': 1}, name='farmland')\n",
    "\n",
    "\n",
    "#Second farmland\n",
    "polygon = Map.user_roi\n",
    "\n",
    "# // Create an ee.Geometry.\n",
    "polygon = ee.Geometry.Polygon([\n",
    "                   [-78.661, 35.640],\n",
    "                   [-78.656, 35.640],\n",
    "                   [-78.656, 35.635],\n",
    "                   [-78.661, 35.635]]);\n",
    "\n",
    "#Create a Feature from the Geometry.\n",
    "farmland2 = ee.Feature(polygon, {'class': 2, 'name': 'farmland2'});\n",
    "Map.addLayer(farmland2, {'fill_color':'yellow', 'outline': 1}, name='farmland2')\n",
    "\n",
    "\n",
    "#Third farmland\n",
    "polygon = Map.user_roi\n",
    "\n",
    "# // Create an ee.Geometry.\n",
    "polygon = ee.Geometry.Polygon([\n",
    "                   [-78.682, 35.556],\n",
    "                   [-78.678, 35.552],\n",
    "                   [-78.680, 35.551],\n",
    "                   [-78.683, 35.554]]);\n",
    "\n",
    "#Create a Feature from the Geometry.\n",
    "farmland3 = ee.Feature(polygon, {'class': 2, 'name': 'farmland3'});\n",
    "Map.addLayer(farmland3, {'fill_color':'yellow', 'outline': 1}, name='farmland3')\n",
    "\n",
    "\n",
    "#Fourth farmland\n",
    "polygon = Map.user_roi\n",
    "\n",
    "# // Create an ee.Geometry.\n",
    "polygon = ee.Geometry.Polygon([\n",
    "                   [-78.832, 35.599],\n",
    "                   [-78.828, 35.601],\n",
    "                   [-78.827, 35.598],\n",
    "                   [-78.829, 35.597]]);\n",
    "\n",
    "#Create a Feature from the Geometry.\n",
    "farmland4 = ee.Feature(polygon, {'class': 2, 'name': 'farmland4'});\n",
    "Map.addLayer(farmland4, {'fill_color':'yellow', 'outline': 1}, name='farmland4')\n",
    "\n",
    "\n",
    "#Fifth farmland\n",
    "polygon = Map.user_roi\n",
    "\n",
    "# // Create an ee.Geometry.\n",
    "polygon = ee.Geometry.Polygon([\n",
    "                   [-78.821, 35.573],\n",
    "                   [-78.819, 35.573],\n",
    "                   [-78.819, 35.570],\n",
    "                   [-78.821, 35.570]]);\n",
    "\n",
    "#Create a Feature from the Geometry.\n",
    "farmland5 = ee.Feature(polygon, {'class': 2, 'name': 'farmland5'});\n",
    "Map.addLayer(farmland5, {'fill_color':'yellow', 'outline': 1}, name='farmland5')\n",
    "\n",
    "Map"
   ]
  },
  {
   "cell_type": "code",
   "execution_count": 8,
   "id": "87707a4d-de86-47f3-be0a-0a4915dd7498",
   "metadata": {},
   "outputs": [
    {
     "data": {
      "application/vnd.jupyter.widget-view+json": {
       "model_id": "d8cc15771de5448eb59313c67cf27741",
       "version_major": 2,
       "version_minor": 0
      },
      "text/plain": [
       "Map(bottom=103421.0, center=[35.799336436832874, -78.78645704174697], controls=(WidgetControl(options=['positi…"
      ]
     },
     "metadata": {},
     "output_type": "display_data"
    }
   ],
   "source": [
    "# FOR Water: \\\n",
    "\n",
    "#First Water\n",
    "polygon = Map.user_roi\n",
    "\n",
    "# Or you can enter defined coordinates as the commented lines below.\n",
    "# // Create an ee.Geometry.\n",
    "polygon = ee.Geometry.Polygon([\n",
    "                   [-79.001, 35.816],\n",
    "                   [-78.987, 35.808],\n",
    "                   [-79.002, 35.794],\n",
    "                   [-79.008, 35.802]]);\n",
    "\n",
    "#Create a Feature from the Geometry.\n",
    "water = ee.Feature(polygon, {'class': 3, 'name': 'water'});\n",
    "Map.addLayer(water, {'fill_color':'blue', 'outline': 1}, name='water')\n",
    "\n",
    "#Second Water\n",
    "polygon = Map.user_roi\n",
    "\n",
    "# // Create an ee.Geometry.\n",
    "polygon = ee.Geometry.Polygon([\n",
    "                   [-78.725, 36.034],\n",
    "                   [-78.709, 36.034],\n",
    "                   [-78.709, 36.017],\n",
    "                   [-78.719, 36.017]]);\n",
    "\n",
    "#Create a Feature from the Geometry.\n",
    "water2 = ee.Feature(polygon, {'class': 3, 'name': 'water2'});\n",
    "Map.addLayer(water2, {'fill_color':'blue', 'outline': 1}, name='water2')\n",
    "\n",
    "\n",
    "#Third Water\n",
    "polygon = Map.user_roi\n",
    "\n",
    "# // Create an ee.Geometry.\n",
    "polygon = ee.Geometry.Polygon([\n",
    "                   [-78.804, 35.838],\n",
    "                   [-78.788, 35.838],\n",
    "                   [-78.788, 35.834],\n",
    "                   [-78.804, 35.834]]);\n",
    "\n",
    "#Create a Feature from the Geometry.\n",
    "water3 = ee.Feature(polygon, {'class': 3, 'name': 'water3'});\n",
    "Map.addLayer(water3, {'fill_color':'blue', 'outline': 1}, name='water3')\n",
    "\n",
    "Map"
   ]
  },
  {
   "cell_type": "code",
   "execution_count": 9,
   "id": "3560cb26-6270-401b-a9e0-d18dd5189320",
   "metadata": {},
   "outputs": [
    {
     "data": {
      "application/vnd.jupyter.widget-view+json": {
       "model_id": "d8cc15771de5448eb59313c67cf27741",
       "version_major": 2,
       "version_minor": 0
      },
      "text/plain": [
       "Map(bottom=103421.0, center=[35.799336436832874, -78.78645704174697], controls=(WidgetControl(options=['positi…"
      ]
     },
     "metadata": {},
     "output_type": "display_data"
    }
   ],
   "source": [
    "# FOR Forest: \\\n",
    "\n",
    "#First Forest\n",
    "polygon = Map.user_roi\n",
    "\n",
    "# Or you can enter defined coordinates as the commented lines below.\n",
    "# // Create an ee.Geometry.\n",
    "polygon = ee.Geometry.Polygon([\n",
    "                   [-78.772, 35.853],\n",
    "                   [-78.756, 35.861],\n",
    "                   [-78.743, 35.844],\n",
    "                   [-78.760, 35.839]]);\n",
    "\n",
    "#Create a Feature from the Geometry.\n",
    "forest = ee.Feature(polygon, {'class': 4, 'name': 'forest'});\n",
    "Map.addLayer(forest, {'fill_color':'green', 'outline': 1}, name='forest')\n",
    "\n",
    "\n",
    "#Second Forest\n",
    "polygon = Map.user_roi\n",
    "\n",
    "# // Create an ee.Geometry.\n",
    "polygon = ee.Geometry.Polygon([\n",
    "                   [-78.638, 35.998],\n",
    "                   [-78.621, 35.999],\n",
    "                   [-78.621, 35.990],\n",
    "                   [-78.634, 35.991]]);\n",
    "\n",
    "#Create a Feature from the Geometry.\n",
    "forest2 = ee.Feature(polygon, {'class': 4, 'name': 'forest2'});\n",
    "Map.addLayer(forest2, {'fill_color':'green', 'outline': 1}, name='forest2')\n",
    "\n",
    "\n",
    "#Third Forest\n",
    "polygon = Map.user_roi\n",
    "\n",
    "# // Create an ee.Geometry.\n",
    "polygon = ee.Geometry.Polygon([\n",
    "                   [-78.995, 35.628],\n",
    "                   [-78.985, 35.628],\n",
    "                   [-78.985, 35.618],\n",
    "                   [-78.995, 35.618]]);\n",
    "\n",
    "#Create a Feature from the Geometry.\n",
    "forest3 = ee.Feature(polygon, {'class': 4, 'name': 'forest3'});\n",
    "Map.addLayer(forest3, {'fill_color':'green', 'outline': 1}, name='forest3')\n",
    "\n",
    "\n",
    "#Fourth Forest\n",
    "polygon = Map.user_roi\n",
    "\n",
    "# // Create an ee.Geometry.\n",
    "polygon = ee.Geometry.Polygon([\n",
    "                   [-78.620, 35.962],\n",
    "                   [-78.611, 35.961],\n",
    "                   [-78.612, 35.958],\n",
    "                   [-78.618, 35.959]]);\n",
    "\n",
    "#Create a Feature from the Geometry.\n",
    "forest4 = ee.Feature(polygon, {'class': 4, 'name': 'forest4'});\n",
    "Map.addLayer(forest4, {'fill_color':'green', 'outline': 1}, name='forest4')\n",
    "Map"
   ]
  },
  {
   "cell_type": "code",
   "execution_count": 10,
   "id": "1ceb784a-ed3c-450c-af8f-9f1040943aaa",
   "metadata": {},
   "outputs": [
    {
     "data": {
      "application/vnd.jupyter.widget-view+json": {
       "model_id": "d8cc15771de5448eb59313c67cf27741",
       "version_major": 2,
       "version_minor": 0
      },
      "text/plain": [
       "Map(bottom=103421.0, center=[35.799336436832874, -78.78645704174697], controls=(WidgetControl(options=['positi…"
      ]
     },
     "metadata": {},
     "output_type": "display_data"
    }
   ],
   "source": [
    "# FOR Open Area/Grass: \\\n",
    "\n",
    "#First Grass\n",
    "polygon = Map.user_roi\n",
    "\n",
    "# Or you can enter defined coordinates as the commented lines below.\n",
    "# // Create an ee.Geometry.\n",
    "polygon = ee.Geometry.Polygon([\n",
    "                   [-78.775, 35.866],\n",
    "                   [-78.771, 35.868],\n",
    "                   [-78.767, 35.864],\n",
    "                   [-78.770, 35.862]]);\n",
    "\n",
    "#Create a Feature from the Geometry.\n",
    "grass = ee.Feature(polygon, {'class': 5, 'name': 'grass'});\n",
    "Map.addLayer(grass, {'fill_color':'lightgreen', 'outline': 1}, name='grass')\n",
    "\n",
    "# Second Grass\n",
    "polygon = Map.user_roi\n",
    "\n",
    "# // Create an ee.Geometry.\n",
    "polygon = ee.Geometry.Polygon([\n",
    "                   [-78.719, 35.817],\n",
    "                   [-78.715, 35.814],\n",
    "                   [-78.719, 35.811],\n",
    "                   [-78.721, 35.813]]);\n",
    "\n",
    "#Create a Feature from the Geometry.\n",
    "grass2 = ee.Feature(polygon, {'class': 5, 'name': 'grass2'});\n",
    "Map.addLayer(grass2, {'fill_color':'lightgreen', 'outline': 1}, name='grass2')\n",
    "\n",
    "\n",
    "# Third Grass\n",
    "polygon = Map.user_roi\n",
    "\n",
    "# // Create an ee.Geometry.\n",
    "polygon = ee.Geometry.Polygon([\n",
    "                   [-78.501, 36.036],\n",
    "                   [-78.497, 36.034],\n",
    "                   [-78.499, 36.032],\n",
    "                   [-78.505, 36.031]]);\n",
    "\n",
    "#Create a Feature from the Geometry.\n",
    "grass3 = ee.Feature(polygon, {'class': 5, 'name': 'grass3'});\n",
    "Map.addLayer(grass3, {'fill_color':'lightgreen', 'outline': 1}, name='grass3')\n",
    "\n",
    "\n",
    "# Fourth Grass\n",
    "polygon = Map.user_roi\n",
    "\n",
    "# // Create an ee.Geometry.\n",
    "polygon = ee.Geometry.Polygon([\n",
    "                   [-78.683, 35.730],\n",
    "                   [-78.679, 35.730],\n",
    "                   [-78.680, 35.725],\n",
    "                   [-78.683, 35.725]]);\n",
    "\n",
    "#Create a Feature from the Geometry.\n",
    "grass4 = ee.Feature(polygon, {'class': 5, 'name': 'grass4'});\n",
    "Map.addLayer(grass4, {'fill_color':'lightgreen', 'outline': 1}, name='grass4')\n",
    "Map"
   ]
  },
  {
   "cell_type": "markdown",
   "id": "3e34d51d-b839-484c-a521-7c711c354c48",
   "metadata": {},
   "source": [
    "# Train Computer to recognize land use areas"
   ]
  },
  {
   "cell_type": "code",
   "execution_count": 11,
   "id": "d45d2a1b-c57f-49ef-9f82-012266a8fdf8",
   "metadata": {},
   "outputs": [],
   "source": [
    "trainingFeatures = ee.FeatureCollection([building, building2, building3, building4, building5, building6, building7, \n",
    "                                         road, road2, road3, road4, road5, road6, \n",
    "                                         farmland, farmland2, farmland3, farmland4, farmland5, \n",
    "                                         water, water2, water3,\n",
    "                                        forest, forest2, forest3, forest4,\n",
    "                                        grass, grass2, grass3, grass4])"
   ]
  },
  {
   "cell_type": "code",
   "execution_count": 12,
   "id": "490f84b7-6333-462b-b0c3-7b37654197f0",
   "metadata": {},
   "outputs": [],
   "source": [
    "predictionBands = ['SR_B3', 'SR_B2', 'SR_B1', 'SR_B4', 'SR_B5', 'SR_B7']"
   ]
  },
  {
   "cell_type": "code",
   "execution_count": 13,
   "id": "79875a2c-63fc-4502-9e2b-cb1c6ae3f012",
   "metadata": {},
   "outputs": [
    {
     "name": "stdout",
     "output_type": "stream",
     "text": [
      "{'type': 'Feature', 'geometry': {'type': 'Polygon', 'coordinates': [[[-78.6828, 35.841], [-78.6799, 35.8386], [-78.6779, 35.8398], [-78.6812, 35.8422], [-78.6828, 35.841]]]}, 'id': '0', 'properties': {'class': 0, 'name': 'building'}}\n"
     ]
    }
   ],
   "source": [
    "print(trainingFeatures.first().getInfo())"
   ]
  },
  {
   "cell_type": "code",
   "execution_count": 14,
   "id": "474a39ad-9b8a-47b6-adc8-e28526d06670",
   "metadata": {},
   "outputs": [],
   "source": [
    "classifierTraining = im2013.select(predictionBands).sampleRegions(\n",
    "      collection= trainingFeatures, \n",
    "      properties= ['class'], \n",
    "      scale= 30\n",
    "    );"
   ]
  },
  {
   "cell_type": "code",
   "execution_count": 15,
   "id": "41668791-7987-41fa-9457-e67a09d118a8",
   "metadata": {},
   "outputs": [],
   "source": [
    "# // Randomly split the data into 60% for training, and 40% for testing\n",
    "trainingTesting = classifierTraining.randomColumn('random',111009);\n",
    "\n",
    "training = trainingTesting.filter(ee.Filter.lt('random', 0.66));\n",
    "\n",
    "testing = trainingTesting.filter(ee.Filter.gte('random', 0.66));"
   ]
  },
  {
   "cell_type": "markdown",
   "id": "f20718bd-7f3c-4c52-9314-7ec8591f3728",
   "metadata": {},
   "source": [
    "## Random Tree Classification"
   ]
  },
  {
   "cell_type": "code",
   "execution_count": 16,
   "id": "09c24dce-dfb2-47c7-9c20-1724b24d77a5",
   "metadata": {},
   "outputs": [],
   "source": [
    "# RANDOM TREES\n",
    "\n",
    "# hyperparameter to tune\n",
    "trees_val=20\n",
    "\n",
    "rfClassification = ee.Classifier.smileRandomForest(numberOfTrees=trees_val, seed=111009).train(\n",
    "      features= training, \n",
    "      classProperty= 'class', \n",
    "      inputProperties= predictionBands\n",
    "    )"
   ]
  },
  {
   "cell_type": "code",
   "execution_count": 17,
   "id": "acbb6078-dd29-43d3-a6c0-2ceb6ae99612",
   "metadata": {},
   "outputs": [
    {
     "data": {
      "application/vnd.jupyter.widget-view+json": {
       "model_id": "d8cc15771de5448eb59313c67cf27741",
       "version_major": 2,
       "version_minor": 0
      },
      "text/plain": [
       "Map(bottom=103421.0, center=[35.799336436832874, -78.78645704174697], controls=(WidgetControl(options=['positi…"
      ]
     },
     "metadata": {},
     "output_type": "display_data"
    }
   ],
   "source": [
    "# // Perform the RF regression on the landsat image\n",
    "rfClassificationImage = im2013.select(predictionBands).classify(rfClassification);\n",
    "    \n",
    "# // Visualize the RF regression\n",
    "Map.addLayer(rfClassificationImage,  {'min': 0, 'max': 5,\n",
    "                                   'palette':['pink','grey','yellow','blue','green','lightgreen']}, 'RF classification');\n",
    "\n",
    "Map"
   ]
  },
  {
   "cell_type": "markdown",
   "id": "1bb5eb6a-2c90-4074-8b0a-71532df2c1df",
   "metadata": {},
   "source": [
    "## Random Forest Accuracy"
   ]
  },
  {
   "cell_type": "code",
   "execution_count": 18,
   "id": "e5189156-2ed8-4770-a834-cdb779711b98",
   "metadata": {},
   "outputs": [
    {
     "name": "stdout",
     "output_type": "stream",
     "text": [
      "ConfusionMatrix\n",
      "[[ 136   14    5    0    0    4]\n",
      " [  12  230    4    0   26   10]\n",
      " [   0    3  211    0    6   28]\n",
      " [   0    1    0 1975    1    0]\n",
      " [   1   16    7    0 2179   35]\n",
      " [   9   14   41    0   31  200]]\n",
      "Overall Accuracy: 0.9484516253125601\n",
      "Producers Accuracy: [[0.8553459119496856], [0.8156028368794326], [0.8508064516129032], [0.9989883662114315], [0.9736371760500446], [0.6779661016949152]]\n",
      "Consumers Accuracy: [[0.8607594936708861, 0.8273381294964028, 0.7873134328358209, 1, 0.9714667855550602, 0.7220216606498195]]\n",
      "Kappa: 0.9219574654710464\n"
     ]
    }
   ],
   "source": [
    "# // Perform the RF classification on the test set\n",
    "\n",
    "# print(test.first().getInfo())\n",
    "# // Get a confusion matrix representing expected accuracy.\n",
    "test=testing.classify(rfClassification)\n",
    "testAccuracy = test.errorMatrix('class', 'classification');\n",
    "\n",
    "import numpy as np\n",
    "errormaxtrix=np.array(testAccuracy.array().getInfo())\n",
    "\n",
    "print(testAccuracy.name());\n",
    "print(errormaxtrix)\n",
    "print('Overall Accuracy:', testAccuracy.accuracy().getInfo());\n",
    "print('Producers Accuracy:', testAccuracy.producersAccuracy().getInfo());\n",
    "print('Consumers Accuracy:', testAccuracy.consumersAccuracy().getInfo());\n",
    "print('Kappa:', testAccuracy.kappa().getInfo());"
   ]
  },
  {
   "cell_type": "markdown",
   "id": "726a968e-9b4d-4ec1-b2c7-5a303e2583a4",
   "metadata": {},
   "source": [
    "# Figure out how many 'trees' are best for RF Classification"
   ]
  },
  {
   "cell_type": "code",
   "execution_count": 18,
   "id": "d112f289-d56e-4a6c-86f1-92873910353c",
   "metadata": {},
   "outputs": [
    {
     "data": {
      "image/png": "[encoded data removed]",
      "text/plain": [
       "<Figure size 432x288 with 1 Axes>"
      ]
     },
     "metadata": {
      "needs_background": "light"
     },
     "output_type": "display_data"
    }
   ],
   "source": [
    "numTrees = ee.List.sequence(1, 20, 1)\n",
    "\n",
    "\n",
    "def trees(t):\n",
    "    rfclass = ee.Classifier.smileRandomForest(numberOfTrees=t, seed=111009).train(\n",
    "    features= training, \n",
    "    classProperty= 'class', \n",
    "    inputProperties= predictionBands)\n",
    "    \n",
    "    rfTesting = testing.classify(rfclass)\n",
    "    testAccuracy = rfTesting.errorMatrix('class', 'classification');\n",
    "    kappa= testAccuracy.kappa();       \n",
    "    return kappa\n",
    "\n",
    "\n",
    "kappa_trees=numTrees.map(trees)\n",
    "value_info = kappa_trees.getInfo()\n",
    "\n",
    "# print(rmse_trees.getInfo())\n",
    "\n",
    "import pandas as pd\n",
    "df =pd.DataFrame(value_info,columns=['kappa'])\n",
    "df['numTrees'] = numTrees.getInfo() \n",
    "\n",
    "ax =df.plot.line(x='numTrees', \n",
    "             y='kappa',\n",
    "             title= 'Impact of Number of Trees in Random Forest'\n",
    "             )\n",
    "ax.grid()"
   ]
  },
  {
   "cell_type": "markdown",
   "id": "b65b17be-ec36-4aee-923f-55aa2d11e61b",
   "metadata": {},
   "source": [
    "## Add Legend to map"
   ]
  },
  {
   "cell_type": "code",
   "execution_count": 29,
   "id": "0eec9702-b7c2-4fa1-94ec-e0ad1af56242",
   "metadata": {},
   "outputs": [
    {
     "data": {
      "application/vnd.jupyter.widget-view+json": {
       "model_id": "a9a75d355f8246ac963552433a2428e0",
       "version_major": 2,
       "version_minor": 0
      },
      "text/plain": [
       "Map(bottom=103491.0, center=[35.72087288213255, -78.81317138671876], controls=(WidgetControl(options=['positio…"
      ]
     },
     "metadata": {},
     "output_type": "display_data"
    }
   ],
   "source": [
    "#Define the legend labels and colors\n",
    "legend_dict = {\n",
    "    'buildings': '#ff69b4',\n",
    "    'roads': '#808080',\n",
    "    'farmland': '#ffff00',\n",
    "    'water': '#0000ff',\n",
    "    'forest': '#008000',\n",
    "    'grass': '#90ee90',\n",
    "}\n",
    "\n",
    "# Add the legend to the map\n",
    "Map.add_legend(legend_title='Legend', legend_dict=legend_dict)\n",
    "\n",
    "# Display the map\n",
    "Map"
   ]
  },
  {
   "cell_type": "markdown",
   "id": "ec54069b-f193-465d-8d76-f955157b5729",
   "metadata": {},
   "source": [
    "## Zonal Statistics"
   ]
  },
  {
   "cell_type": "code",
   "execution_count": 19,
   "id": "69970e44-f8cf-4e42-8b35-1b1ed1944276",
   "metadata": {},
   "outputs": [
    {
     "name": "stdout",
     "output_type": "stream",
     "text": [
      "Total area by class:\n",
      "{'groups': [{'class': 0, 'sum': 69271217.43628864}, {'class': 1, 'sum': 440618733.15808207}, {'class': 2, 'sum': 217367177.07333702}, {'class': 3, 'sum': 141621983.11101982}, {'class': 4, 'sum': 2286421534.7876487}, {'class': 5, 'sum': 444703265.7452557}]}\n"
     ]
    }
   ],
   "source": [
    "import ee\n",
    "areaImage = ee.Image.pixelArea().addBands(\n",
    "      rfClassificationImage)\n",
    "areas = areaImage.reduceRegion(**{\n",
    "    'reducer': ee.Reducer.sum().group(**{'groupField': 1, 'groupName': 'class'}),\n",
    "    'geometry': rfClassificationImage.geometry(),\n",
    "    'scale': 30,\n",
    "    'maxPixels': 1e10\n",
    "})\n",
    " \n",
    "# Print the results\n",
    "print('Total area by class:')\n",
    "print(areas.getInfo())"
   ]
  },
  {
   "cell_type": "markdown",
   "id": "4932c192-1582-4b75-812b-d52d1d44e375",
   "metadata": {
    "tags": []
   },
   "source": [
    "## Convert to CSV Format"
   ]
  },
  {
   "cell_type": "code",
   "execution_count": 20,
   "id": "e3f9e1a8-833f-4978-ba18-318e46af4184",
   "metadata": {},
   "outputs": [
    {
     "name": "stdout",
     "output_type": "stream",
     "text": [
      "class,sum\n",
      "0,69271217.43628864\n",
      "1,440618733.15808207\n",
      "2,217367177.07333702\n",
      "3,141621983.11101982\n",
      "4,2286421534.7876487\n",
      "5,444703265.7452557\n",
      "\n"
     ]
    }
   ],
   "source": [
    "import pandas as pd\n",
    "# Convert the result to a pandas DataFrame\n",
    "df = pd.DataFrame(areas.getInfo()['groups'])\n",
    "\n",
    "# Print the DataFrame\n",
    "print(df.to_csv(index=False))"
   ]
  },
  {
   "cell_type": "code",
   "execution_count": null,
   "id": "e38c47be-2a90-486b-91d2-1be6b4005727",
   "metadata": {},
   "outputs": [],
   "source": []
  }
 ],
 "metadata": {
  "kernelspec": {
   "display_name": "Python 3 (ipykernel)",
   "language": "python",
   "name": "python3"
  },
  "language_info": {
   "codemirror_mode": {
    "name": "ipython",
    "version": 3
   },
   "file_extension": ".py",
   "mimetype": "text/x-python",
   "name": "python",
   "nbconvert_exporter": "python",
   "pygments_lexer": "ipython3",
   "version": "3.9.7"
  }
 },
 "nbformat": 4,
 "nbformat_minor": 5
}
