{
 "cells": [
  {
   "cell_type": "markdown",
   "id": "039dc649-e056-4694-8122-f2fee0739783",
   "metadata": {
    "tags": []
   },
   "source": [
    "# Practice #1: Learning how to use Jupyter Notebooks in Cuahsi Hydroshare\n",
    "\n",
    "## By Kurt Wedegaertner 2023\n",
    "\n",
    "This is an exersice where we learn how to manage and run code in this Python Environment"
   ]
  },
  {
   "cell_type": "raw",
   "id": "378f6bdc-2d35-4626-a2ed-a186630db64f",
   "metadata": {},
   "source": [
    "# note: pass the following command n a terminal before running this notebook \n",
    "\n",
    "pip install -U geemap"
   ]
  },
  {
   "cell_type": "markdown",
   "id": "b20d2914-77bb-4403-9582-a3972dfda067",
   "metadata": {},
   "source": [
    "## 1. calling geemap\n",
    "\n",
    "I am copying code from geemap 108 notebook to avoid the gee token set up"
   ]
  },
  {
   "cell_type": "code",
   "execution_count": 1,
   "id": "8be98d89-5442-4145-9e37-6b69d9ac3844",
   "metadata": {},
   "outputs": [],
   "source": [
    "import ee\n",
    "import geemap\n",
    "import geemap.colormaps as cm"
   ]
  },
  {
   "cell_type": "markdown",
   "id": "1d4f06a9-d1f8-4088-9688-0ce955c2e6b0",
   "metadata": {},
   "source": [
    "## 2. generate a map"
   ]
  },
  {
   "cell_type": "code",
   "execution_count": 2,
   "id": "da14390e-cf6b-463b-aa2c-793ff8b97302",
   "metadata": {},
   "outputs": [
    {
     "data": {
      "text/html": [
       "<p>To authorize access needed by Earth Engine, open the following\n",
       "        URL in a web browser and follow the instructions:</p>\n",
       "        <p><a href=https://code.earthengine.google.com/client-auth?scopes=https%3A//www.googleapis.com/auth/earthengine%20https%3A//www.googleapis.com/auth/devstorage.full_control&request_id=rqM1WE5q6-IMOLMNt1pYLrFlW-7aJYTT3BwIGl477QM&tc=Kwehvj0V5CbDm-B5DEIJ8fHOESXktVVDGWK2P4bpz_s&cc=JMuUX_PSIelVj2z7w7CRg6QSp6wohVXWRVxs2hXl52E>https://code.earthengine.google.com/client-auth?scopes=https%3A//www.googleapis.com/auth/earthengine%20https%3A//www.googleapis.com/auth/devstorage.full_control&request_id=rqM1WE5q6-IMOLMNt1pYLrFlW-7aJYTT3BwIGl477QM&tc=Kwehvj0V5CbDm-B5DEIJ8fHOESXktVVDGWK2P4bpz_s&cc=JMuUX_PSIelVj2z7w7CRg6QSp6wohVXWRVxs2hXl52E</a></p>\n",
       "        <p>The authorization workflow will generate a code, which you should paste in the box below.</p>\n",
       "        "
      ],
      "text/plain": [
       "<IPython.core.display.HTML object>"
      ]
     },
     "metadata": {},
     "output_type": "display_data"
    },
    {
     "name": "stdin",
     "output_type": "stream",
     "text": [
      "Enter verification code:  4/1AWtgzh7o9ltdBy6dMRyeSM6F0Go5nJAKsX1Zen_zsxI8wRebINApMi-XPSA\n"
     ]
    },
    {
     "name": "stdout",
     "output_type": "stream",
     "text": [
      "\n",
      "Successfully saved authorization token.\n"
     ]
    },
    {
     "data": {
      "application/vnd.jupyter.widget-view+json": {
       "model_id": "e881453828104c58bc489f6c9b724d94",
       "version_major": 2,
       "version_minor": 0
      },
      "text/plain": [
       "Map(center=[40, -100], controls=(WidgetControl(options=['position', 'transparent_bg'], widget=HBox(children=(T…"
      ]
     },
     "metadata": {},
     "output_type": "display_data"
    }
   ],
   "source": [
    "Map = geemap.Map(center=[40, -100], zoom=4)\n",
    "Map"
   ]
  },
  {
   "cell_type": "markdown",
   "id": "c0455d9f-5a61-4a3a-abc0-68129e383a5f",
   "metadata": {},
   "source": [
    "## 3. Define a point of interest\n",
    "\n",
    "Let's find coordinates on interest using the https://www.latlong.net/ website (Roy,UT)"
   ]
  },
  {
   "cell_type": "code",
   "execution_count": 16,
   "id": "509ccab1-0e33-42e3-b0f8-7ac6b74fd617",
   "metadata": {},
   "outputs": [],
   "source": [
    "latitude = 41.167381\n",
    "longitude= -112.033829\n",
    "geometry = ee.Geometry.Rectangle([-112.988297, 41.596638, -111.894083, 40.649062]);"
   ]
  },
  {
   "cell_type": "code",
   "execution_count": 6,
   "id": "0ff14091-d463-41d8-a62a-e81fd48790cd",
   "metadata": {},
   "outputs": [],
   "source": [
    "point = ee.Geometry.Point([longitude, latitude])"
   ]
  },
  {
   "cell_type": "markdown",
   "id": "c0ba2afb-8555-44b1-b324-487d4e6ed974",
   "metadata": {},
   "source": [
    "## 4. Retrieve satellite imagery: Landsat 8"
   ]
  },
  {
   "cell_type": "code",
   "execution_count": 24,
   "id": "0fda517f-6a99-4642-81bf-86b9b56171f8",
   "metadata": {},
   "outputs": [],
   "source": [
    "landsat = ee.ImageCollection(\"LANDSAT/LC08/C02/T1_L2\")"
   ]
  },
  {
   "cell_type": "code",
   "execution_count": 36,
   "id": "952ee863-3543-4c03-bdbf-71a4e53df9af",
   "metadata": {},
   "outputs": [],
   "source": [
    "# Note that we need to cast the result of first() to Image.\n",
    "salt_lake = landsat.filterDate('2013-08-01', '2013-08-31').filterBounds(geometry)"
   ]
  },
  {
   "cell_type": "code",
   "execution_count": 32,
   "id": "9ba51420-38d9-4a9d-b182-87df63faa5bb",
   "metadata": {},
   "outputs": [],
   "source": [
    "# Print the image band names to the console. Check in GEE website what wavebands these results indicate.\n",
    "# band_names = image.bandNames()\n",
    "# print(band_names.getInfo())"
   ]
  },
  {
   "cell_type": "code",
   "execution_count": 21,
   "id": "ed6bdfe8-ab6e-4979-8984-0519c87019b0",
   "metadata": {},
   "outputs": [],
   "source": [
    "# select only reflectance bands\n",
    "# image = image.select(['SR_B1', 'SR_B2', 'SR_B3', 'SR_B4', 'SR_B5', 'SR_B6', 'SR_B7'])\n",
    "# The image requires the scale = 0.0001 as shown above.\n",
    "image = image.multiply(2.75e-05).add(-0.2)"
   ]
  },
  {
   "cell_type": "code",
   "execution_count": 37,
   "id": "b80fca52-b001-4a72-9309-102c28673522",
   "metadata": {},
   "outputs": [
    {
     "data": {
      "application/vnd.jupyter.widget-view+json": {
       "model_id": "6e6fc83d7b5b4920bb915cd7f24e2986",
       "version_major": 2,
       "version_minor": 0
      },
      "text/plain": [
       "Map(center=[41.167381, -112.033829], controls=(WidgetControl(options=['position', 'transparent_bg'], widget=HB…"
      ]
     },
     "metadata": {},
     "output_type": "display_data"
    }
   ],
   "source": [
    "#// Add the image to the map, using the visualization parameters.\n",
    "Map = geemap.Map(center=(latitude, longitude), zoom=12)\n",
    "Map"
   ]
  },
  {
   "cell_type": "code",
   "execution_count": 43,
   "id": "c08c097f-bbb0-4be2-8353-7fddca83d8b4",
   "metadata": {},
   "outputs": [
    {
     "data": {
      "application/vnd.jupyter.widget-view+json": {
       "model_id": "6e6fc83d7b5b4920bb915cd7f24e2986",
       "version_major": 2,
       "version_minor": 0
      },
      "text/plain": [
       "Map(bottom=98477.0, center=[41.11143411567734, -112.58857727050783], controls=(WidgetControl(options=['positio…"
      ]
     },
     "metadata": {},
     "output_type": "display_data"
    }
   ],
   "source": [
    "# // Center the map and display the image.\n",
    "#Map.setCenter(-122.1899, 37.5010, 10); # San Francisco Bay\n",
    "Map.addLayer(salt_lake, {'bands': ['SR_B4', 'SR_B3', 'SR_B2'], 'max': 20000}, name='Landsat')\n",
    "Map"
   ]
  },
  {
   "cell_type": "markdown",
   "id": "fc8c8b53-842d-4027-9076-2a86f75071ed",
   "metadata": {},
   "source": [
    "## 5. detecting water bodies in image"
   ]
  },
  {
   "cell_type": "code",
   "execution_count": 54,
   "id": "adc60f8b-d207-4aee-aa41-f953ebf8874f",
   "metadata": {},
   "outputs": [],
   "source": [
    "def cal_ndwi(image):\n",
    "    ndwi = image.normalizedDifference(['SR_B3', 'SR_B5']).rename('NDWI');\n",
    "    return image.addBands(ndwi);\n",
    "\n",
    "\n",
    "addNDWI = salt_lake.map(cal_ndwi);"
   ]
  },
  {
   "cell_type": "markdown",
   "id": "45e7230c-f754-4abe-8249-8a48c55b131a",
   "metadata": {},
   "source": [
    "# lets see the ndwi calc in map"
   ]
  },
  {
   "cell_type": "code",
   "execution_count": 59,
   "id": "6ee88583-c125-42fd-aafb-244b4090d63c",
   "metadata": {},
   "outputs": [
    {
     "data": {
      "application/vnd.jupyter.widget-view+json": {
       "model_id": "6e6fc83d7b5b4920bb915cd7f24e2986",
       "version_major": 2,
       "version_minor": 0
      },
      "text/plain": [
       "Map(bottom=24823.0, center=[41.19932314127607, -111.69525146484376], controls=(WidgetControl(options=['positio…"
      ]
     },
     "metadata": {},
     "output_type": "display_data"
    }
   ],
   "source": [
    "Map.addLayer(addNDWI, {'bands': 'NDWI', 'max': 1}, name='NDWI')\n",
    "Map"
   ]
  },
  {
   "cell_type": "code",
   "execution_count": 60,
   "id": "cce9c9f6-ac94-4428-a0cf-e42c8be09264",
   "metadata": {},
   "outputs": [
    {
     "data": {
      "application/vnd.jupyter.widget-view+json": {
       "model_id": "e3b00325733049ed99bb518053fc85b4",
       "version_major": 2,
       "version_minor": 0
      },
      "text/plain": [
       "Map(center=[41.167381, -112.033829], controls=(WidgetControl(options=['position', 'transparent_bg'], widget=HB…"
      ]
     },
     "metadata": {},
     "output_type": "display_data"
    }
   ],
   "source": [
    "Map2 = geemap.Map(center=(latitude, longitude), zoom=12)\n",
    "Map2"
   ]
  },
  {
   "cell_type": "code",
   "execution_count": 61,
   "id": "6ccadbc3-9569-41a5-8726-5c656e62299b",
   "metadata": {},
   "outputs": [
    {
     "data": {
      "application/vnd.jupyter.widget-view+json": {
       "model_id": "e3b00325733049ed99bb518053fc85b4",
       "version_major": 2,
       "version_minor": 0
      },
      "text/plain": [
       "Map(bottom=392792.0, center=[41.167381, -112.033829], controls=(WidgetControl(options=['position', 'transparen…"
      ]
     },
     "metadata": {},
     "output_type": "display_data"
    }
   ],
   "source": [
    "Map2.addLayer(addNDWI, {'bands': 'NDWI', 'max': 1}, name='NDWI')\n",
    "Map2"
   ]
  },
  {
   "cell_type": "code",
   "execution_count": null,
   "id": "d363b607-6c98-46b5-8ba1-8212db8d86ee",
   "metadata": {},
   "outputs": [],
   "source": []
  }
 ],
 "metadata": {
  "kernelspec": {
   "display_name": "Python 3 (ipykernel)",
   "language": "python",
   "name": "python3"
  },
  "language_info": {
   "codemirror_mode": {
    "name": "ipython",
    "version": 3
   },
   "file_extension": ".py",
   "mimetype": "text/x-python",
   "name": "python",
   "nbconvert_exporter": "python",
   "pygments_lexer": "ipython3",
   "version": "3.9.7"
  }
 },
 "nbformat": 4,
 "nbformat_minor": 5
}
