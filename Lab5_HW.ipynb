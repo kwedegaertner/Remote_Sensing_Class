{
 "cells": [
  {
   "cell_type": "markdown",
   "id": "3752fa07-e80a-43a5-a529-3fc9145bebbe",
   "metadata": {},
   "source": [
    "## Lab 5 Homework: Image Classification"
   ]
  },
  {
   "cell_type": "markdown",
   "id": "224b3eb4-190f-4373-b988-86f26f10574a",
   "metadata": {},
   "source": [
    "### Kurt Wedegaertner |  CEE 5003  |  03/27/23"
   ]
  },
  {
   "cell_type": "markdown",
   "id": "38e2f4c4-5204-431a-a3b3-2afbef6ff73b",
   "metadata": {},
   "source": [
    "# 1. Call geemap"
   ]
  },
  {
   "cell_type": "code",
   "execution_count": 1,
   "id": "09cc6ac9-37bf-48bf-8955-abefed86531e",
   "metadata": {},
   "outputs": [
    {
     "data": {
      "application/vnd.jupyter.widget-view+json": {
       "model_id": "ef3b43d81cd344b9abdb1e1758e48f10",
       "version_major": 2,
       "version_minor": 0
      },
      "text/plain": [
       "Map(center=[20, 0], controls=(WidgetControl(options=['position', 'transparent_bg'], widget=HBox(children=(Togg…"
      ]
     },
     "metadata": {},
     "output_type": "display_data"
    }
   ],
   "source": [
    "import ee\n",
    "ee.Initialize()\n",
    "\n",
    "import geemap\n",
    "Map = geemap.Map()\n",
    "Map"
   ]
  },
  {
   "cell_type": "markdown",
   "id": "cf0fd61b-8a68-4824-b78b-7af277960506",
   "metadata": {},
   "source": [
    "# 2. Determine a POI and call Landsat Imagery"
   ]
  },
  {
   "cell_type": "code",
   "execution_count": 2,
   "id": "67bfe981-91db-4951-b968-6fd18810c433",
   "metadata": {},
   "outputs": [
    {
     "data": {
      "application/vnd.jupyter.widget-view+json": {
       "model_id": "ef3b43d81cd344b9abdb1e1758e48f10",
       "version_major": 2,
       "version_minor": 0
      },
      "text/plain": [
       "Map(center=[41.856689, -111.364273], controls=(WidgetControl(options=['position', 'transparent_bg'], widget=HB…"
      ]
     },
     "metadata": {},
     "output_type": "display_data"
    }
   ],
   "source": [
    "point = ee.Geometry.Point([-111.364273, 41.856689])\n",
    "# point = Bear Lake Region ofUTah/Idaho\n",
    "\n",
    "landsat = ee.ImageCollection('LANDSAT/LC08/C02/T1_L2') \\\n",
    "    .filterBounds(point) \\\n",
    "    .filterDate('2021-05-01', '2021-07-31') \\\n",
    "    .sort('CLOUD_COVER') \\\n",
    "    .first() \\\n",
    "    .select('SR_B[1-7]')\n",
    "\n",
    "landsat = landsat.multiply(0.0000275).add(-0.2)\n",
    "\n",
    "\n",
    "vis_params = {\n",
    "    'min': 0,\n",
    "    'max': 0.2,\n",
    "    'bands': ['SR_B5', 'SR_B4', 'SR_B3']\n",
    "}\n",
    "\n",
    "Map.centerObject(point, 8)\n",
    "Map.addLayer(landsat, vis_params, 'false color composite')\n",
    "\n",
    "Map"
   ]
  },
  {
   "cell_type": "markdown",
   "id": "e866b32e-7f12-488e-a0df-d01dd3acf582",
   "metadata": {},
   "source": [
    "# 3. Create a NDVI Layer in order to Determine Differences in Land Cover"
   ]
  },
  {
   "cell_type": "code",
   "execution_count": 3,
   "id": "78f72e70-1c61-4e7f-8fab-d52f17289613",
   "metadata": {},
   "outputs": [
    {
     "data": {
      "application/vnd.jupyter.widget-view+json": {
       "model_id": "ef3b43d81cd344b9abdb1e1758e48f10",
       "version_major": 2,
       "version_minor": 0
      },
      "text/plain": [
       "Map(center=[41.856689, -111.364273], controls=(WidgetControl(options=['position', 'transparent_bg'], widget=HB…"
      ]
     },
     "metadata": {},
     "output_type": "display_data"
    }
   ],
   "source": [
    "img_name ='ndvi'\n",
    "ndvi=landsat.normalizedDifference(['SR_B5', 'SR_B4'])\n",
    "\n",
    "vis_params = {\n",
    "  'min': -0.2,\n",
    "  'max': 1.0,\n",
    "  'palette': ['blue','white','brown','yellow', 'lime', 'green','navy']}\n",
    "\n",
    "Map.addLayer(ndvi,vis_params,img_name)\n",
    "\n",
    "colors = vis_params['palette']\n",
    "vmin = vis_params['min']\n",
    "vmax = vis_params['max']\n",
    "\n",
    "Map.add_colorbar_branca(colors=colors, vmin=vmin, vmax=vmax, layer_name=img_name)\n",
    "\n",
    "Map"
   ]
  },
  {
   "cell_type": "markdown",
   "id": "9bcfa36e-53d5-40c5-b6b0-449c38e1ba51",
   "metadata": {},
   "source": [
    "# 4. Make a training dataset to recognize differences in land cover"
   ]
  },
  {
   "cell_type": "markdown",
   "id": "3f30c379-85fc-49a3-983c-896e95399854",
   "metadata": {},
   "source": [
    "### Bare Soil"
   ]
  },
  {
   "cell_type": "code",
   "execution_count": 24,
   "id": "4b0ea7f3-7ebb-42d2-8f48-6b75a71941f1",
   "metadata": {},
   "outputs": [
    {
     "data": {
      "application/vnd.jupyter.widget-view+json": {
       "model_id": "ef3b43d81cd344b9abdb1e1758e48f10",
       "version_major": 2,
       "version_minor": 0
      },
      "text/plain": [
       "Map(bottom=1559343.0, center=[41.86936908105971, -111.6152572631836], controls=(WidgetControl(options=['positi…"
      ]
     },
     "metadata": {},
     "output_type": "display_data"
    }
   ],
   "source": [
    "# Find an area of bare soil and define it using the geometry rectangle\n",
    "polygon = ee.Geometry.Polygon([\n",
    "                   [-110.622, 41.579],\n",
    "                   [-110.614, 41.579],\n",
    "                   [-110.614, 41.570],\n",
    "                   [-110.622, 41.571]]);\n",
    "# Labels the area as 'baresoil'\n",
    "baresoil = ee.Feature(polygon, {'class': 2, 'name': 'bare soil'});\n",
    "Map.addLayer(baresoil, {'fill_color':'yellow', 'outline': 1}, name='baresoil')\n",
    "\n",
    "# Bare soil 2\n",
    "polygon = ee.Geometry.Polygon([\n",
    "                   [-112.3218, 41.3827],\n",
    "                   [-112.2814, 41.3829],\n",
    "                   [-112.2831, 41.3640],\n",
    "                   [-112.3226, 41.3637]]);\n",
    "# Labels the area as 'baresoil_2'\n",
    "baresoil_2 = ee.Feature(polygon, {'class': 2, 'name': 'bare soil_2'});\n",
    "Map.addLayer(baresoil_2, {'fill_color':'yellow', 'outline': 1}, name='baresoil_2')\n",
    "\n",
    "\n",
    "\n",
    "\n",
    "Map"
   ]
  },
  {
   "cell_type": "markdown",
   "id": "838f9380-1507-4a5f-868f-efcbae47170d",
   "metadata": {},
   "source": [
    "### Vegetation"
   ]
  },
  {
   "cell_type": "code",
   "execution_count": 26,
   "id": "40a28fd8-28dc-4604-9058-cfa3f68f801f",
   "metadata": {},
   "outputs": [
    {
     "data": {
      "application/vnd.jupyter.widget-view+json": {
       "model_id": "ef3b43d81cd344b9abdb1e1758e48f10",
       "version_major": 2,
       "version_minor": 0
      },
      "text/plain": [
       "Map(bottom=1559343.0, center=[41.86936908105971, -111.6152572631836], controls=(WidgetControl(options=['positi…"
      ]
     },
     "metadata": {},
     "output_type": "display_data"
    }
   ],
   "source": [
    "# Find an area of vegetation and define it using the geometry rectangle\n",
    "polygon = ee.Geometry.Polygon([\n",
    "                 [-111.667, 41.731],\n",
    "                 [-111.627, 41.730],\n",
    "                 [-111.626, 41.711],\n",
    "                 [-111.665, 41.711]]);\n",
    "# Labels the area as 'vegetation'\n",
    "vegetation = ee.Feature(polygon, {'class': 1, 'name': 'vegetation'});\n",
    "Map.addLayer(vegetation, {'fill_color':'green', 'outline': 1}, name='vegetation')\n",
    "\n",
    "# Vegetation 2\n",
    "polygon = ee.Geometry.Polygon([\n",
    "                 [-111.6350, 41.8752],\n",
    "                 [-111.6118, 41.8748],\n",
    "                 [-111.6118, 41.8645],\n",
    "                 [-111.6272, 41.8654]]);\n",
    "# Labels the area as 'vegetation_2'\n",
    "vegetation_2 = ee.Feature(polygon, {'class': 1, 'name': 'vegetation_2'});\n",
    "Map.addLayer(vegetation_2, {'fill_color':'green', 'outline': 1}, name='vegetation_2')\n",
    "Map"
   ]
  },
  {
   "cell_type": "markdown",
   "id": "f14a3a51-ffae-44be-8b04-aa6063cb971e",
   "metadata": {},
   "source": [
    "### Water"
   ]
  },
  {
   "cell_type": "code",
   "execution_count": 28,
   "id": "8653655d-a937-482f-9e09-bd107d539021",
   "metadata": {},
   "outputs": [
    {
     "data": {
      "application/vnd.jupyter.widget-view+json": {
       "model_id": "ef3b43d81cd344b9abdb1e1758e48f10",
       "version_major": 2,
       "version_minor": 0
      },
      "text/plain": [
       "Map(bottom=392879.0, center=[41.144794118797314, -112.55321502685548], controls=(WidgetControl(options=['posit…"
      ]
     },
     "metadata": {},
     "output_type": "display_data"
    }
   ],
   "source": [
    "# Find an area of water and define it using the geometry rectangle\n",
    "polygon = ee.Geometry.Polygon([\n",
    "                   [-111.305, 42.077],\n",
    "                   [-111.284, 42.076],\n",
    "                   [-111.285, 42.064],\n",
    "                   [-111.303, 42.065]]);\n",
    "\n",
    "# Labels the area as 'water'\n",
    "water = ee.Feature(polygon, {'class': 0, 'name': 'water'});\n",
    "Map.addLayer(water, {'fill_color':'blue', 'outline': 1}, name='water')\n",
    "\n",
    "# water 2\n",
    "polygon = ee.Geometry.Polygon([\n",
    "                   [-112.6751, 41.1789],\n",
    "                   [-112.5872, 41.1786],\n",
    "                   [-112.5882, 41.1130],\n",
    "                   [-112.6758, 41.1127]]);\n",
    "\n",
    "# Labels the area as 'water_2'\n",
    "water_2 = ee.Feature(polygon, {'class': 0, 'name': 'water_2'});\n",
    "Map.addLayer(water_2, {'fill_color':'blue', 'outline': 1}, name='water_2')\n",
    "Map"
   ]
  },
  {
   "cell_type": "markdown",
   "id": "d1f9782c-9a3b-4c8b-9f7e-e7d902cfc3b8",
   "metadata": {},
   "source": [
    "# 5. Merge Features into a Feature Collection and Specify the Bands of the Landsat Composite to be Used as Predictors"
   ]
  },
  {
   "cell_type": "code",
   "execution_count": 29,
   "id": "313b02b0-88a3-49d6-814f-ff92f9bfdf1a",
   "metadata": {},
   "outputs": [
    {
     "name": "stdout",
     "output_type": "stream",
     "text": [
      "{'type': 'Feature', 'geometry': {'type': 'Polygon', 'coordinates': [[[-111.305, 42.077], [-111.303, 42.065], [-111.285, 42.064], [-111.284, 42.076], [-111.305, 42.077]]]}, 'id': '0', 'properties': {'class': 0, 'name': 'water'}}\n"
     ]
    }
   ],
   "source": [
    "# add additional features to this if you create more to strengthen the model\n",
    "trainingFeatures = ee.FeatureCollection([water, vegetation, baresoil, baresoil_2, vegetation_2, water_2])\n",
    "\n",
    "predictionBands = ['SR_B2', 'SR_B3', 'SR_B4', 'SR_B5' ,'SR_B6','SR_B7']\n",
    "print(trainingFeatures.first().getInfo())\n",
    "\n",
    "classifierTraining = landsat.select(predictionBands).sampleRegions(\n",
    "      collection= trainingFeatures, \n",
    "      properties= ['class'], \n",
    "      scale= 30\n",
    "    );"
   ]
  },
  {
   "cell_type": "code",
   "execution_count": 30,
   "id": "d67a94d4-fe56-4898-8d8f-8cb18bc0d8f5",
   "metadata": {},
   "outputs": [],
   "source": [
    "# ranonly splis data into 60% for training, and 40% for testing\n",
    "trainingTesting = classifierTraining.randomColumn('random',111009);\n",
    "\n",
    "training = trainingTesting.filter(ee.Filter.lt('random', 0.66));\n",
    "\n",
    "testing = trainingTesting.filter(ee.Filter.gte('random', 0.66));"
   ]
  },
  {
   "cell_type": "markdown",
   "id": "216d541e-4dab-4448-a74c-755e5e9cdefe",
   "metadata": {},
   "source": [
    "# 6. Train Models"
   ]
  },
  {
   "cell_type": "markdown",
   "id": "3d8a5ab1-cdc2-4f81-a720-197fcce40e22",
   "metadata": {},
   "source": [
    "### CART Model"
   ]
  },
  {
   "cell_type": "code",
   "execution_count": 31,
   "id": "13c4420e-c9fc-475c-a4f9-944f3e91b502",
   "metadata": {},
   "outputs": [],
   "source": [
    "#hyperparameter to tune\n",
    "leaf_val=1\n",
    "\n",
    "cartclassifier = ee.Classifier.smileCart(minLeafPopulation=leaf_val).train(\n",
    "      features= training, \n",
    "      classProperty= 'class', \n",
    "      inputProperties= predictionBands\n",
    "    );"
   ]
  },
  {
   "cell_type": "code",
   "execution_count": 32,
   "id": "3442cb19-69b1-4efb-9959-6a2931a2fba0",
   "metadata": {},
   "outputs": [
    {
     "data": {
      "application/vnd.jupyter.widget-view+json": {
       "model_id": "ef3b43d81cd344b9abdb1e1758e48f10",
       "version_major": 2,
       "version_minor": 0
      },
      "text/plain": [
       "Map(bottom=98250.0, center=[41.34588656996289, -112.05642700195314], controls=(WidgetControl(options=['positio…"
      ]
     },
     "metadata": {},
     "output_type": "display_data"
    }
   ],
   "source": [
    "# Make Predictions\n",
    "cartClasifficationImage = landsat.select(predictionBands).classify(cartclassifier);\n",
    "# Visualize\n",
    "Map.addLayer(cartClasifficationImage, {'min': 0, 'max': 2,\n",
    "                                   'palette':['blue', 'green','yellow']},'CART classification');\n",
    "Map"
   ]
  },
  {
   "cell_type": "markdown",
   "id": "2c640ab3-55a6-469f-872a-d0476865adf3",
   "metadata": {},
   "source": [
    "### Random Forest Model"
   ]
  },
  {
   "cell_type": "code",
   "execution_count": 33,
   "id": "34210c36-6aa3-48bc-8cfb-b36bdd3daa0b",
   "metadata": {},
   "outputs": [],
   "source": [
    "# hyperparameter to tune\n",
    "trees_val=13\n",
    "\n",
    "rfClassification = ee.Classifier.smileRandomForest(numberOfTrees=trees_val, seed=111009).train(\n",
    "      features= training, \n",
    "      classProperty= 'class', \n",
    "      inputProperties= predictionBands\n",
    "    )"
   ]
  },
  {
   "cell_type": "code",
   "execution_count": 34,
   "id": "8aa2634a-652b-4e54-9136-3d5168382634",
   "metadata": {},
   "outputs": [
    {
     "data": {
      "application/vnd.jupyter.widget-view+json": {
       "model_id": "ef3b43d81cd344b9abdb1e1758e48f10",
       "version_major": 2,
       "version_minor": 0
      },
      "text/plain": [
       "Map(bottom=98250.0, center=[41.34588656996289, -112.05642700195314], controls=(WidgetControl(options=['positio…"
      ]
     },
     "metadata": {},
     "output_type": "display_data"
    }
   ],
   "source": [
    "# Performs the RF regression \n",
    "rfClassificationImage = landsat.select(predictionBands).classify(rfClassification);\n",
    "    \n",
    "# Visualize\n",
    "Map.addLayer(rfClassificationImage,  {'min': 0, 'max': 2,\n",
    "                                   'palette':['blue','green', 'yellow']}, 'RF classification');\n",
    "\n",
    "Map"
   ]
  },
  {
   "cell_type": "markdown",
   "id": "95109579-5088-4c36-bf8e-77bf1c728c31",
   "metadata": {},
   "source": [
    "### Support Vector Machine"
   ]
  },
  {
   "cell_type": "code",
   "execution_count": 35,
   "id": "2cef1f6d-c6b4-44cf-8372-b8981932077c",
   "metadata": {},
   "outputs": [],
   "source": [
    "# hyperparameter to tune\n",
    "gamma_val =0.1\n",
    "\n",
    "# Create an SVM classifier with custom parameters.\n",
    "svClassification = ee.Classifier.libsvm(svmType='C_SVC',kernelType='RBF',gamma=gamma_val).train(\n",
    "      features= training, \n",
    "      classProperty= 'class', \n",
    "      inputProperties= predictionBands\n",
    "    )"
   ]
  },
  {
   "cell_type": "code",
   "execution_count": 37,
   "id": "3d2aadd8-14cf-48b1-adcd-ae2b64714c8b",
   "metadata": {},
   "outputs": [
    {
     "data": {
      "application/vnd.jupyter.widget-view+json": {
       "model_id": "ef3b43d81cd344b9abdb1e1758e48f10",
       "version_major": 2,
       "version_minor": 0
      },
      "text/plain": [
       "Map(bottom=390470.0, center=[41.764653945369396, -111.82743072509766], controls=(WidgetControl(options=['posit…"
      ]
     },
     "metadata": {},
     "output_type": "display_data"
    }
   ],
   "source": [
    "# Performs the RF regression\n",
    "svClassificationImage = landsat.select(predictionBands).classify(svClassification);\n",
    "    \n",
    "# Visualize\n",
    "Map.addLayer(svClassificationImage,{'min': 0, 'max': 2,\n",
    "                                   'palette':['blue', 'green','yellow']}, 'SV CLassification');\n",
    "Map"
   ]
  },
  {
   "cell_type": "markdown",
   "id": "8c1555c9-7b3c-49d2-8863-05e656259253",
   "metadata": {},
   "source": [
    "# 7. Perform an Accuracy Assessment "
   ]
  },
  {
   "cell_type": "markdown",
   "id": "bd823b90-1751-4d4f-a096-5c0e69642ac6",
   "metadata": {},
   "source": [
    "### CART Assessment"
   ]
  },
  {
   "cell_type": "code",
   "execution_count": 38,
   "id": "ea3f7aad-9dc3-4eba-9cdc-3dfb4357f906",
   "metadata": {},
   "outputs": [
    {
     "name": "stdout",
     "output_type": "stream",
     "text": [
      "ConfusionMatrix\n",
      "[[21109     0     0]\n",
      " [    0  3312     0]\n",
      " [    0     0  2905]]\n",
      "Overall Accuracy: 1\n",
      "Producers Accuracy: [[1], [1], [1]]\n",
      "Consumers Accuracy: [[1, 1, 1]]\n",
      "Kappa: 1\n"
     ]
    }
   ],
   "source": [
    "# Perform the CART classification on the test set\n",
    "\n",
    "test=testing.classify(cartclassifier)\n",
    "# print(test.first().getInfo())\n",
    "# // Get a confusion matrix representing expected accuracy.\n",
    "testAccuracy = test.errorMatrix('class', 'classification');\n",
    "\n",
    "import numpy as np\n",
    "errormaxtrix=np.array(testAccuracy.array().getInfo())\n",
    "\n",
    "print(testAccuracy.name());\n",
    "print(errormaxtrix)\n",
    "print('Overall Accuracy:', testAccuracy.accuracy().getInfo());\n",
    "print('Producers Accuracy:', testAccuracy.producersAccuracy().getInfo());\n",
    "print('Consumers Accuracy:', testAccuracy.consumersAccuracy().getInfo());\n",
    "print('Kappa:', testAccuracy.kappa().getInfo());"
   ]
  },
  {
   "cell_type": "markdown",
   "id": "acfe30f1-2673-4a36-8382-2788b2d8835e",
   "metadata": {},
   "source": [
    "### Random Trees Assessment"
   ]
  },
  {
   "cell_type": "code",
   "execution_count": 39,
   "id": "00e1d02b-5f87-4334-b02a-bdd5664a6514",
   "metadata": {},
   "outputs": [
    {
     "name": "stdout",
     "output_type": "stream",
     "text": [
      "ConfusionMatrix\n",
      "[[21109     0     0]\n",
      " [    0  3312     0]\n",
      " [    0     0  2905]]\n",
      "Overall Accuracy: 1\n",
      "Producers Accuracy: [[1], [1], [1]]\n",
      "Consumers Accuracy: [[1, 1, 1]]\n",
      "Kappa: 1\n"
     ]
    }
   ],
   "source": [
    "# Perform the RF classification on the test set\n",
    "\n",
    "test=testing.classify(rfClassification)\n",
    "# print(test.first().getInfo())\n",
    "# Get a confusion matrix representing expected accuracy.\n",
    "testAccuracy = test.errorMatrix('class', 'classification');\n",
    "\n",
    "errormaxtrix=np.array(testAccuracy.array().getInfo())\n",
    "\n",
    "print(testAccuracy.name());\n",
    "print(errormaxtrix)\n",
    "print('Overall Accuracy:', testAccuracy.accuracy().getInfo());\n",
    "print('Producers Accuracy:', testAccuracy.producersAccuracy().getInfo());\n",
    "print('Consumers Accuracy:', testAccuracy.consumersAccuracy().getInfo());\n",
    "print('Kappa:', testAccuracy.kappa().getInfo());"
   ]
  },
  {
   "cell_type": "markdown",
   "id": "b4c190eb-9bdb-4946-944c-f78bdd324b4f",
   "metadata": {},
   "source": [
    "### SVM Assessment"
   ]
  },
  {
   "cell_type": "code",
   "execution_count": 40,
   "id": "7e6dda78-e0c9-475b-b2d0-937d51ebad70",
   "metadata": {},
   "outputs": [
    {
     "name": "stdout",
     "output_type": "stream",
     "text": [
      "ConfusionMatrix\n",
      "[[21109     0     0]\n",
      " [    0  3312     0]\n",
      " [    0     0  2905]]\n",
      "Overall Accuracy: 1\n",
      "Producers Accuracy: [[1], [1], [1]]\n",
      "Consumers Accuracy: [[1, 1, 1]]\n",
      "Kappa: 1\n"
     ]
    }
   ],
   "source": [
    "# Perform the SVR classification on the test set\n",
    "\n",
    "test=testing.classify(svClassification)\n",
    "# print(test.first().getInfo())\n",
    "# Get a confusion matrix representing expected accuracy.\n",
    "testAccuracy = test.errorMatrix('class', 'classification');\n",
    "\n",
    "errormaxtrix=np.array(testAccuracy.array().getInfo())\n",
    "\n",
    "print(testAccuracy.name());\n",
    "print(errormaxtrix)\n",
    "print('Overall Accuracy:', testAccuracy.accuracy().getInfo());\n",
    "print('Producers Accuracy:', testAccuracy.producersAccuracy().getInfo());\n",
    "print('Consumers Accuracy:', testAccuracy.consumersAccuracy().getInfo());\n",
    "print('Kappa:', testAccuracy.kappa().getInfo());"
   ]
  },
  {
   "cell_type": "code",
   "execution_count": null,
   "id": "0071c2bf-a002-4451-b34a-19122c3572ca",
   "metadata": {},
   "outputs": [],
   "source": []
  }
 ],
 "metadata": {
  "kernelspec": {
   "display_name": "Python 3 (ipykernel)",
   "language": "python",
   "name": "python3"
  },
  "language_info": {
   "codemirror_mode": {
    "name": "ipython",
    "version": 3
   },
   "file_extension": ".py",
   "mimetype": "text/x-python",
   "name": "python",
   "nbconvert_exporter": "python",
   "pygments_lexer": "ipython3",
   "version": "3.9.7"
  }
 },
 "nbformat": 4,
 "nbformat_minor": 5
}
