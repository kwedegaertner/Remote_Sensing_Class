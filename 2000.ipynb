{
 "cells": [
  {
   "cell_type": "markdown",
   "id": "dd2721ed-d747-44f0-aef4-0b78ea693744",
   "metadata": {
    "tags": []
   },
   "source": [
    "## 1. Calling geemap"
   ]
  },
  {
   "cell_type": "code",
   "execution_count": 1,
   "id": "0ab258e8-016e-4ae6-8516-0c59599bd64c",
   "metadata": {},
   "outputs": [],
   "source": [
    "import ee\n",
    "ee.Initialize()\n",
    "import os\n",
    "import geemap\n",
    "Map = geemap.Map()"
   ]
  },
  {
   "cell_type": "markdown",
   "id": "9215f6fa-e768-4c43-bfc6-0c0d5ff59229",
   "metadata": {},
   "source": [
    "## 2. Define the POI ( Triangle Region of NC: Durham, Wake, and Orange Counties)"
   ]
  },
  {
   "cell_type": "code",
   "execution_count": 2,
   "id": "921c53f4-6668-434a-adeb-65232a987ccd",
   "metadata": {},
   "outputs": [
    {
     "name": "stdout",
     "output_type": "stream",
     "text": [
      "{'type': 'Point', 'coordinates': [-79.055847, 35.9132]}\n",
      "Total area of AOI: 3473740563.07451 square meters\n"
     ]
    }
   ],
   "source": [
    "# Define the rectangle geometry\n",
    "latitude = 35.913200\n",
    "longitude= -79.055847\n",
    "rtp = ee.Geometry.Point([longitude, latitude])\n",
    "\n",
    "# define ROI\n",
    "roi = ee.Geometry.Polygon(\n",
    "    [\n",
    "        [\n",
    "            [-79.127376, 36.058690], \n",
    "            [-78.439375, 36.058690], \n",
    "            [-78.439375, 35.541565], \n",
    "            [-79.139617, 35.541565], \n",
    "                        \n",
    "        ]\n",
    "    ],\n",
    "    None,\n",
    "    False,\n",
    ")\n",
    "\n",
    "# Print the geometry to check it\n",
    "print(rtp.getInfo())\n",
    "\n",
    "# Get the pixel area image\n",
    "pixelArea = ee.Image.pixelArea()\n",
    "\n",
    "# Calculate the total area of the AOI in square meters\n",
    "totalArea = pixelArea.reduceRegion(\n",
    "  reducer=ee.Reducer.sum(),\n",
    "  geometry=roi,\n",
    "  scale=roi.projection().nominalScale(),\n",
    "  maxPixels=1e13\n",
    ").get('area')\n",
    "\n",
    "print('Total area of AOI:', totalArea.getInfo(), 'square meters')"
   ]
  },
  {
   "cell_type": "code",
   "execution_count": null,
   "id": "155d513a-e109-4302-bc92-25fb841e1ee4",
   "metadata": {},
   "outputs": [],
   "source": []
  },
  {
   "cell_type": "markdown",
   "id": "080fa37f-9b2b-462d-9c1a-7ea191bf35d9",
   "metadata": {},
   "source": [
    "## 3. Calling Satellites "
   ]
  },
  {
   "cell_type": "markdown",
   "id": "25f20b47-cb52-43e7-85e4-274fe95a0790",
   "metadata": {},
   "source": [
    "## Landsat"
   ]
  },
  {
   "cell_type": "markdown",
   "id": "70884b74-ce24-4f96-9a51-fec669b3a3c0",
   "metadata": {},
   "source": [
    "## Call 2000 Image. This image will be used to train the model"
   ]
  },
  {
   "cell_type": "code",
   "execution_count": 3,
   "id": "82cb090e-28c0-4c1c-a74b-a942c0a9a41d",
   "metadata": {},
   "outputs": [
    {
     "data": {
      "application/vnd.jupyter.widget-view+json": {
       "model_id": "12254c520ab14a6cb60e17167558b0b6",
       "version_major": 2,
       "version_minor": 0
      },
      "text/plain": [
       "Map(center=[35.799336436832874, -78.78645704174697], controls=(WidgetControl(options=['position', 'transparent…"
      ]
     },
     "metadata": {},
     "output_type": "display_data"
    }
   ],
   "source": [
    "#2000\n",
    "landsat = ee.ImageCollection(\"LANDSAT/LE07/C02/T1_L2\")\n",
    "landsatImage = landsat.filterDate('2000-08-01', '2000-08-31').filterBounds(rtp)\n",
    "landsatImage = landsatImage.sort('CLOUD_COVER')\n",
    "\n",
    "landsatBands = ['SR_B3', 'SR_B2', 'SR_B1']\n",
    "im2000=landsatImage.first()\n",
    "im2000 = im2000.select('SR_B.').multiply(0.0000275).add(-0.2)\n",
    "im2000=im2000.clip(roi)\n",
    "Map.addLayer(im2000, {'bands': ['SR_B3', 'SR_B2', 'SR_B1'],'min': 0.0, 'max': 0.3}, name='2000')\n",
    "Map.centerObject(im2000, 10)\n",
    "Map"
   ]
  },
  {
   "cell_type": "markdown",
   "id": "9bd625b0-a352-4bec-b70b-241ca6171a98",
   "metadata": {},
   "source": [
    "## Make Polygons around Land Use Areas"
   ]
  },
  {
   "cell_type": "code",
   "execution_count": 4,
   "id": "4c437451-45e6-4f7c-bf9d-c6160473c4ec",
   "metadata": {},
   "outputs": [
    {
     "data": {
      "application/vnd.jupyter.widget-view+json": {
       "model_id": "12254c520ab14a6cb60e17167558b0b6",
       "version_major": 2,
       "version_minor": 0
      },
      "text/plain": [
       "Map(center=[35.799336436832874, -78.78645704174697], controls=(WidgetControl(options=['position', 'transparent…"
      ]
     },
     "metadata": {},
     "output_type": "display_data"
    }
   ],
   "source": [
    "# FOR Buildings: \\\n",
    "# how I did this: \n",
    "# 1. I zoomed into the Landsat image to a building area\n",
    "# 2. Click on the polygon icon of the left, and define an area with points, forming a closed polygon\n",
    "# 3. Run this cell. The last draw polygon is stored in \"Map.user_roi\"\n",
    "polygon = Map.user_roi\n",
    "\n",
    "# Or you can enter defined coordinates as the commented lines below.\n",
    "# // Create an ee.Geometry.\n",
    "polygon = ee.Geometry.Polygon([\n",
    "                   [-78.6828, 35.8410],\n",
    "                   [-78.6812, 35.8422],\n",
    "                   [-78.6779, 35.8398],\n",
    "                   [-78.6799, 35.8386]]);\n",
    "\n",
    "#Create a Feature from the Geometry.\n",
    "building = ee.Feature(polygon, {'class': 0, 'name': 'building'});\n",
    "Map.addLayer(building, {'fill_color':'pink', 'outline': 1}, name='building')\n",
    "\n",
    "\n",
    "#Second building\n",
    "polygon = Map.user_roi\n",
    "\n",
    "# // Create an ee.Geometry.\n",
    "polygon = ee.Geometry.Polygon([\n",
    "                   [-78.9599, 35.9666],\n",
    "                   [-78.9568, 35.9677],\n",
    "                   [-78.9562, 35.9671],\n",
    "                   [-78.9596, 35.9659]]);\n",
    "                   \n",
    "\n",
    "# // Create a Feature from the Geometry.\n",
    "building2 = ee.Feature(polygon, {'class': 0, 'name': 'building2'});\n",
    "Map.addLayer(building2, {'fill_color':'pink', 'outline': 1}, name='building2')\n",
    "\n",
    "\n",
    "\n",
    "#Third building\n",
    "polygon = Map.user_roi\n",
    "\n",
    "# // Create an ee.Geometry.\n",
    "polygon = ee.Geometry.Polygon([\n",
    "                   [-78.6135, 35.8244],\n",
    "                   [-78.6120, 35.8238],\n",
    "                   [-78.6129, 35.8229],\n",
    "                   [-78.6143, 35.8237]]);\n",
    "                   \n",
    "\n",
    "# // Create a Feature from the Geometry.\n",
    "building3 = ee.Feature(polygon, {'class': 0, 'name': 'building3'});\n",
    "Map.addLayer(building3, {'fill_color':'pink', 'outline': 1}, name='building3')\n",
    "\n",
    "\n",
    "\n",
    "#Fourth building\n",
    "polygon = Map.user_roi\n",
    "\n",
    "# // Create an ee.Geometry.\n",
    "polygon = ee.Geometry.Polygon([\n",
    "                   [-78.8101, 35.8387],\n",
    "                   [-78.8066, 35.8373],\n",
    "                   [-78.8074, 35.8362],\n",
    "                   [-78.8107, 35.8375]]);\n",
    "                   \n",
    "\n",
    "# // Create a Feature from the Geometry.\n",
    "building4 = ee.Feature(polygon, {'class': 0, 'name': 'building4'});\n",
    "Map.addLayer(building4, {'fill_color':'pink', 'outline': 1}, name='building4')\n",
    "\n",
    "\n",
    "#Fifth building\n",
    "polygon = Map.user_roi\n",
    "\n",
    "# // Create an ee.Geometry.\n",
    "polygon = ee.Geometry.Polygon([\n",
    "                   [-78.872, 35.971],\n",
    "                   [-78.870, 35.970],\n",
    "                   [-78.872, 35.963],\n",
    "                   [-78.875, 35.963]]);\n",
    "                   \n",
    "\n",
    "# // Create a Feature from the Geometry.\n",
    "building5 = ee.Feature(polygon, {'class': 0, 'name': 'building5'});\n",
    "Map.addLayer(building5, {'fill_color':'pink', 'outline': 1}, name='building5')\n",
    "\n",
    "\n",
    "#Sixth building\n",
    "polygon = Map.user_roi\n",
    "\n",
    "# // Create an ee.Geometry.\n",
    "polygon = ee.Geometry.Polygon([\n",
    "                   [-78.848, 35.871],\n",
    "                   [-78.845, 35.871],\n",
    "                   [-78.845, 35.869],\n",
    "                   [-78.848, 35.869]]);\n",
    "                   \n",
    "\n",
    "# // Create a Feature from the Geometry.\n",
    "building6 = ee.Feature(polygon, {'class': 0, 'name': 'building6'});\n",
    "Map.addLayer(building6, {'fill_color':'pink', 'outline': 1}, name='building6')\n",
    "\n",
    "\n",
    "#Seventh building\n",
    "polygon = Map.user_roi\n",
    "\n",
    "# // Create an ee.Geometry.\n",
    "polygon = ee.Geometry.Polygon([\n",
    "                   [-78.855, 35.917],\n",
    "                   [-78.854, 35.916],\n",
    "                   [-78.856, 35.915],\n",
    "                   [-78.857, 35.915]]);\n",
    "                   \n",
    "\n",
    "# // Create a Feature from the Geometry.\n",
    "building7 = ee.Feature(polygon, {'class': 0, 'name': 'building7'});\n",
    "Map.addLayer(building7, {'fill_color':'pink', 'outline': 1}, name='building7')\n",
    "Map\n"
   ]
  },
  {
   "cell_type": "code",
   "execution_count": 5,
   "id": "0e65344a-a861-4740-b5d0-2a6f87f3b98b",
   "metadata": {},
   "outputs": [
    {
     "data": {
      "application/vnd.jupyter.widget-view+json": {
       "model_id": "12254c520ab14a6cb60e17167558b0b6",
       "version_major": 2,
       "version_minor": 0
      },
      "text/plain": [
       "Map(center=[35.799336436832874, -78.78645704174697], controls=(WidgetControl(options=['position', 'transparent…"
      ]
     },
     "metadata": {},
     "output_type": "display_data"
    }
   ],
   "source": [
    "# FOR Roads: \\\n",
    "\n",
    "#First Road\n",
    "polygon = Map.user_roi\n",
    "\n",
    "# // Create an ee.Geometry.\n",
    "polygon = ee.Geometry.Polygon([\n",
    "                   [-78.737, 35.767],\n",
    "                   [-78.736, 35.767],\n",
    "                   [-78.733, 35.764],\n",
    "                   [-78.735, 35.763]]);\n",
    "\n",
    "#Create a Feature from the Geometry.\n",
    "road = ee.Feature(polygon, {'class': 1, 'name': 'road'});\n",
    "Map.addLayer(road, {'fill_color':'grey', 'outline': 1}, name='road')\n",
    "\n",
    "\n",
    "#Second road\n",
    "polygon = Map.user_roi\n",
    "\n",
    "# // Create an ee.Geometry.\n",
    "polygon = ee.Geometry.Polygon([\n",
    "                   [-78.910, 35.908],\n",
    "                   [-78.901, 35.908],\n",
    "                   [-78.901, 35.907],\n",
    "                   [-78.909, 35.908]]);\n",
    "                   \n",
    "\n",
    "# // Create a Feature from the Geometry.\n",
    "road2 = ee.Feature(polygon, {'class': 1, 'name': 'road2'});\n",
    "Map.addLayer(road2, {'fill_color':'grey', 'outline': 1}, name='road2')\n",
    "\n",
    "\n",
    "#Third road\n",
    "polygon = Map.user_roi\n",
    "\n",
    "# // Create an ee.Geometry.\n",
    "polygon = ee.Geometry.Polygon([\n",
    "                   [-78.594, 35.747],\n",
    "                   [-78.593, 35.747],\n",
    "                   [-78.586, 35.730],\n",
    "                   [-78.587, 35.730]]);\n",
    "                   \n",
    "\n",
    "# // Create a Feature from the Geometry.\n",
    "road3 = ee.Feature(polygon, {'class': 1, 'name': 'road3'});\n",
    "Map.addLayer(road3, {'fill_color':'grey', 'outline': 1}, name='road3')\n",
    "\n",
    "\n",
    "#Fourth road\n",
    "polygon = Map.user_roi\n",
    "\n",
    "# // Create an ee.Geometry.\n",
    "polygon = ee.Geometry.Polygon([\n",
    "                   [-78.761, 35.830],\n",
    "                   [-78.760, 35.830],\n",
    "                   [-78.743, 35.821],\n",
    "                   [-78.744, 35.820]]);\n",
    "                   \n",
    "\n",
    "# // Create a Feature from the Geometry.\n",
    "road4 = ee.Feature(polygon, {'class': 1, 'name': 'road4'});\n",
    "Map.addLayer(road4, {'fill_color':'grey', 'outline': 1}, name='road4')\n",
    "\n",
    "\n",
    "#Fifth road\n",
    "polygon = Map.user_roi\n",
    "\n",
    "# // Create an ee.Geometry.\n",
    "polygon = ee.Geometry.Polygon([\n",
    "                   [-78.665, 35.758],\n",
    "                   [-78.663, 35.758],\n",
    "                   [-78.663, 35.757],\n",
    "                   [-78.665, 35.757]]);\n",
    "                   \n",
    "\n",
    "# // Create a Feature from the Geometry.\n",
    "road5 = ee.Feature(polygon, {'class': 1, 'name': 'road5'});\n",
    "Map.addLayer(road5, {'fill_color':'grey', 'outline': 1}, name='road5')\n",
    "Map"
   ]
  },
  {
   "cell_type": "code",
   "execution_count": 6,
   "id": "38791c21-c7d5-4db8-9cd2-9a284766ebda",
   "metadata": {},
   "outputs": [
    {
     "data": {
      "application/vnd.jupyter.widget-view+json": {
       "model_id": "12254c520ab14a6cb60e17167558b0b6",
       "version_major": 2,
       "version_minor": 0
      },
      "text/plain": [
       "Map(center=[35.799336436832874, -78.78645704174697], controls=(WidgetControl(options=['position', 'transparent…"
      ]
     },
     "metadata": {},
     "output_type": "display_data"
    }
   ],
   "source": [
    "# FOR Agricultural Fields: \\\n",
    "\n",
    "# First farmland\n",
    "polygon = Map.user_roi\n",
    "\n",
    "\n",
    "# // Create an ee.Geometry.\n",
    "polygon = ee.Geometry.Polygon([\n",
    "                   [-78.706, 35.584],\n",
    "                   [-78.702, 35.587],\n",
    "                   [-78.702, 35.583],\n",
    "                   [-78.704, 35.582]]);\n",
    "\n",
    "#Create a Feature from the Geometry.\n",
    "farmland = ee.Feature(polygon, {'class': 2, 'name': 'farmland'});\n",
    "Map.addLayer(farmland, {'fill_color':'yellow', 'outline': 1}, name='farmland')\n",
    "\n",
    "\n",
    "#Second farmland\n",
    "polygon = Map.user_roi\n",
    "\n",
    "# // Create an ee.Geometry.\n",
    "polygon = ee.Geometry.Polygon([\n",
    "                   [-78.661, 35.640],\n",
    "                   [-78.656, 35.640],\n",
    "                   [-78.656, 35.635],\n",
    "                   [-78.661, 35.635]]);\n",
    "\n",
    "#Create a Feature from the Geometry.\n",
    "farmland2 = ee.Feature(polygon, {'class': 2, 'name': 'farmland2'});\n",
    "Map.addLayer(farmland2, {'fill_color':'yellow', 'outline': 1}, name='farmland2')\n",
    "\n",
    "\n",
    "#Third farmland\n",
    "polygon = Map.user_roi\n",
    "\n",
    "# // Create an ee.Geometry.\n",
    "polygon = ee.Geometry.Polygon([\n",
    "                   [-78.682, 35.556],\n",
    "                   [-78.678, 35.552],\n",
    "                   [-78.680, 35.551],\n",
    "                   [-78.683, 35.554]]);\n",
    "\n",
    "#Create a Feature from the Geometry.\n",
    "farmland3 = ee.Feature(polygon, {'class': 2, 'name': 'farmland3'});\n",
    "Map.addLayer(farmland3, {'fill_color':'yellow', 'outline': 1}, name='farmland3')\n",
    "\n",
    "\n",
    "#Fourth farmland\n",
    "polygon = Map.user_roi\n",
    "\n",
    "# // Create an ee.Geometry.\n",
    "polygon = ee.Geometry.Polygon([\n",
    "                   [-78.832, 35.599],\n",
    "                   [-78.828, 35.601],\n",
    "                   [-78.827, 35.598],\n",
    "                   [-78.829, 35.597]]);\n",
    "\n",
    "#Create a Feature from the Geometry.\n",
    "farmland4 = ee.Feature(polygon, {'class': 2, 'name': 'farmland4'});\n",
    "Map.addLayer(farmland4, {'fill_color':'yellow', 'outline': 1}, name='farmland4')\n",
    "\n",
    "\n",
    "#Fifth farmland\n",
    "polygon = Map.user_roi\n",
    "\n",
    "# // Create an ee.Geometry.\n",
    "polygon = ee.Geometry.Polygon([\n",
    "                   [-78.821, 35.573],\n",
    "                   [-78.819, 35.573],\n",
    "                   [-78.819, 35.570],\n",
    "                   [-78.821, 35.570]]);\n",
    "\n",
    "#Create a Feature from the Geometry.\n",
    "farmland5 = ee.Feature(polygon, {'class': 2, 'name': 'farmland5'});\n",
    "Map.addLayer(farmland5, {'fill_color':'yellow', 'outline': 1}, name='farmland5')\n",
    "\n",
    "Map"
   ]
  },
  {
   "cell_type": "code",
   "execution_count": 7,
   "id": "71f4c7e3-d369-468f-8388-434219680423",
   "metadata": {},
   "outputs": [
    {
     "data": {
      "application/vnd.jupyter.widget-view+json": {
       "model_id": "12254c520ab14a6cb60e17167558b0b6",
       "version_major": 2,
       "version_minor": 0
      },
      "text/plain": [
       "Map(center=[35.799336436832874, -78.78645704174697], controls=(WidgetControl(options=['position', 'transparent…"
      ]
     },
     "metadata": {},
     "output_type": "display_data"
    }
   ],
   "source": [
    "# FOR Water: \\\n",
    "\n",
    "#First Water\n",
    "polygon = Map.user_roi\n",
    "\n",
    "# Or you can enter defined coordinates as the commented lines below.\n",
    "# // Create an ee.Geometry.\n",
    "polygon = ee.Geometry.Polygon([\n",
    "                   [-79.001, 35.816],\n",
    "                   [-78.987, 35.808],\n",
    "                   [-79.002, 35.794],\n",
    "                   [-79.008, 35.802]]);\n",
    "\n",
    "#Create a Feature from the Geometry.\n",
    "water = ee.Feature(polygon, {'class': 3, 'name': 'water'});\n",
    "Map.addLayer(water, {'fill_color':'blue', 'outline': 1}, name='water')\n",
    "\n",
    "#Second Water\n",
    "polygon = Map.user_roi\n",
    "\n",
    "# // Create an ee.Geometry.\n",
    "polygon = ee.Geometry.Polygon([\n",
    "                   [-78.725, 36.034],\n",
    "                   [-78.709, 36.034],\n",
    "                   [-78.709, 36.017],\n",
    "                   [-78.719, 36.017]]);\n",
    "\n",
    "#Create a Feature from the Geometry.\n",
    "water2 = ee.Feature(polygon, {'class': 3, 'name': 'water2'});\n",
    "Map.addLayer(water2, {'fill_color':'blue', 'outline': 1}, name='water2')\n",
    "\n",
    "\n",
    "#Third Water\n",
    "polygon = Map.user_roi\n",
    "\n",
    "# // Create an ee.Geometry.\n",
    "polygon = ee.Geometry.Polygon([\n",
    "                   [-78.804, 35.838],\n",
    "                   [-78.788, 35.838],\n",
    "                   [-78.788, 35.834],\n",
    "                   [-78.804, 35.834]]);\n",
    "\n",
    "#Create a Feature from the Geometry.\n",
    "water3 = ee.Feature(polygon, {'class': 3, 'name': 'water3'});\n",
    "Map.addLayer(water3, {'fill_color':'blue', 'outline': 1}, name='water3')\n",
    "\n",
    "Map"
   ]
  },
  {
   "cell_type": "code",
   "execution_count": 8,
   "id": "66c68d07-2f9c-44d4-be8c-5373066fb4fa",
   "metadata": {},
   "outputs": [
    {
     "data": {
      "application/vnd.jupyter.widget-view+json": {
       "model_id": "12254c520ab14a6cb60e17167558b0b6",
       "version_major": 2,
       "version_minor": 0
      },
      "text/plain": [
       "Map(center=[35.799336436832874, -78.78645704174697], controls=(WidgetControl(options=['position', 'transparent…"
      ]
     },
     "metadata": {},
     "output_type": "display_data"
    }
   ],
   "source": [
    "# FOR Forest: \\\n",
    "\n",
    "#First Forest\n",
    "polygon = Map.user_roi\n",
    "\n",
    "# Or you can enter defined coordinates as the commented lines below.\n",
    "# // Create an ee.Geometry.\n",
    "polygon = ee.Geometry.Polygon([\n",
    "                   [-78.772, 35.853],\n",
    "                   [-78.756, 35.861],\n",
    "                   [-78.743, 35.844],\n",
    "                   [-78.760, 35.839]]);\n",
    "\n",
    "#Create a Feature from the Geometry.\n",
    "forest = ee.Feature(polygon, {'class': 4, 'name': 'forest'});\n",
    "Map.addLayer(forest, {'fill_color':'green', 'outline': 1}, name='forest')\n",
    "\n",
    "\n",
    "#Second Forest\n",
    "polygon = Map.user_roi\n",
    "\n",
    "# // Create an ee.Geometry.\n",
    "polygon = ee.Geometry.Polygon([\n",
    "                   [-78.638, 35.998],\n",
    "                   [-78.621, 35.999],\n",
    "                   [-78.621, 35.990],\n",
    "                   [-78.634, 35.991]]);\n",
    "\n",
    "#Create a Feature from the Geometry.\n",
    "forest2 = ee.Feature(polygon, {'class': 4, 'name': 'forest2'});\n",
    "Map.addLayer(forest2, {'fill_color':'green', 'outline': 1}, name='forest2')\n",
    "\n",
    "\n",
    "#Third Forest\n",
    "polygon = Map.user_roi\n",
    "\n",
    "# // Create an ee.Geometry.\n",
    "polygon = ee.Geometry.Polygon([\n",
    "                   [-78.995, 35.628],\n",
    "                   [-78.985, 35.628],\n",
    "                   [-78.985, 35.618],\n",
    "                   [-78.995, 35.618]]);\n",
    "\n",
    "#Create a Feature from the Geometry.\n",
    "forest3 = ee.Feature(polygon, {'class': 4, 'name': 'forest3'});\n",
    "Map.addLayer(forest3, {'fill_color':'green', 'outline': 1}, name='forest3')\n",
    "\n",
    "\n",
    "#Fourth Forest\n",
    "polygon = Map.user_roi\n",
    "\n",
    "# // Create an ee.Geometry.\n",
    "polygon = ee.Geometry.Polygon([\n",
    "                   [-78.620, 35.962],\n",
    "                   [-78.611, 35.961],\n",
    "                   [-78.612, 35.958],\n",
    "                   [-78.618, 35.959]]);\n",
    "\n",
    "#Create a Feature from the Geometry.\n",
    "forest4 = ee.Feature(polygon, {'class': 4, 'name': 'forest4'});\n",
    "Map.addLayer(forest4, {'fill_color':'green', 'outline': 1}, name='forest4')\n",
    "Map"
   ]
  },
  {
   "cell_type": "code",
   "execution_count": 9,
   "id": "784a5843-363d-4be7-97a5-5a2234c5bd22",
   "metadata": {},
   "outputs": [
    {
     "data": {
      "application/vnd.jupyter.widget-view+json": {
       "model_id": "12254c520ab14a6cb60e17167558b0b6",
       "version_major": 2,
       "version_minor": 0
      },
      "text/plain": [
       "Map(center=[35.799336436832874, -78.78645704174697], controls=(WidgetControl(options=['position', 'transparent…"
      ]
     },
     "metadata": {},
     "output_type": "display_data"
    }
   ],
   "source": [
    "# FOR Open Area/Grass: \\\n",
    "\n",
    "#First Grass\n",
    "polygon = Map.user_roi\n",
    "\n",
    "# Or you can enter defined coordinates as the commented lines below.\n",
    "# // Create an ee.Geometry.\n",
    "polygon = ee.Geometry.Polygon([\n",
    "                   [-78.775, 35.866],\n",
    "                   [-78.771, 35.868],\n",
    "                   [-78.767, 35.864],\n",
    "                   [-78.770, 35.862]]);\n",
    "\n",
    "#Create a Feature from the Geometry.\n",
    "grass = ee.Feature(polygon, {'class': 5, 'name': 'grass'});\n",
    "Map.addLayer(grass, {'fill_color':'lightgreen', 'outline': 1}, name='grass')\n",
    "\n",
    "# Second Grass\n",
    "polygon = Map.user_roi\n",
    "\n",
    "# // Create an ee.Geometry.\n",
    "polygon = ee.Geometry.Polygon([\n",
    "                   [-78.719, 35.817],\n",
    "                   [-78.715, 35.814],\n",
    "                   [-78.719, 35.811],\n",
    "                   [-78.721, 35.813]]);\n",
    "\n",
    "#Create a Feature from the Geometry.\n",
    "grass2 = ee.Feature(polygon, {'class': 5, 'name': 'grass2'});\n",
    "Map.addLayer(grass2, {'fill_color':'lightgreen', 'outline': 1}, name='grass2')\n",
    "\n",
    "\n",
    "# Third Grass\n",
    "polygon = Map.user_roi\n",
    "\n",
    "# // Create an ee.Geometry.\n",
    "polygon = ee.Geometry.Polygon([\n",
    "                   [-78.501, 36.036],\n",
    "                   [-78.497, 36.034],\n",
    "                   [-78.499, 36.032],\n",
    "                   [-78.505, 36.031]]);\n",
    "\n",
    "#Create a Feature from the Geometry.\n",
    "grass3 = ee.Feature(polygon, {'class': 5, 'name': 'grass3'});\n",
    "Map.addLayer(grass3, {'fill_color':'lightgreen', 'outline': 1}, name='grass3')\n",
    "\n",
    "\n",
    "# Fourth Grass\n",
    "polygon = Map.user_roi\n",
    "\n",
    "# // Create an ee.Geometry.\n",
    "polygon = ee.Geometry.Polygon([\n",
    "                   [-78.683, 35.730],\n",
    "                   [-78.679, 35.730],\n",
    "                   [-78.680, 35.725],\n",
    "                   [-78.683, 35.725]]);\n",
    "\n",
    "#Create a Feature from the Geometry.\n",
    "grass4 = ee.Feature(polygon, {'class': 5, 'name': 'grass4'});\n",
    "Map.addLayer(grass4, {'fill_color':'lightgreen', 'outline': 1}, name='grass4')\n",
    "Map"
   ]
  },
  {
   "cell_type": "markdown",
   "id": "1df5511b-6dc3-439a-9b40-4342ebbe2619",
   "metadata": {},
   "source": [
    "# Train Computer to recognize land use areas"
   ]
  },
  {
   "cell_type": "code",
   "execution_count": 10,
   "id": "e0d654b7-7528-4191-bb9b-e058ca35a1b6",
   "metadata": {},
   "outputs": [],
   "source": [
    "trainingFeatures = ee.FeatureCollection([building, building2, building3, building4, building5, building6, building7, \n",
    "                                         road, road2, road3, road4, road5, \n",
    "                                         farmland, farmland2, farmland3, farmland4, farmland5, \n",
    "                                         water, water2, water3,\n",
    "                                        forest, forest2, forest3, forest4,\n",
    "                                        grass, grass2, grass3, grass4])"
   ]
  },
  {
   "cell_type": "code",
   "execution_count": 11,
   "id": "8205aa3a-6492-4020-a327-030b62de2acb",
   "metadata": {},
   "outputs": [],
   "source": [
    "predictionBands = ['SR_B3', 'SR_B2', 'SR_B1', 'SR_B4', 'SR_B5', 'SR_B7']"
   ]
  },
  {
   "cell_type": "code",
   "execution_count": 12,
   "id": "ba2c2363-8442-453d-b8c6-d3d08aff7622",
   "metadata": {},
   "outputs": [
    {
     "name": "stdout",
     "output_type": "stream",
     "text": [
      "{'type': 'Feature', 'geometry': {'type': 'Polygon', 'coordinates': [[[-78.6828, 35.841], [-78.6799, 35.8386], [-78.6779, 35.8398], [-78.6812, 35.8422], [-78.6828, 35.841]]]}, 'id': '0', 'properties': {'class': 0, 'name': 'building'}}\n"
     ]
    }
   ],
   "source": [
    "print(trainingFeatures.first().getInfo())"
   ]
  },
  {
   "cell_type": "code",
   "execution_count": 13,
   "id": "650fd1d5-43cf-4e37-baac-87ac411699ea",
   "metadata": {},
   "outputs": [],
   "source": [
    "classifierTraining = im2000.select(predictionBands).sampleRegions(\n",
    "      collection= trainingFeatures, \n",
    "      properties= ['class'], \n",
    "      scale= 30\n",
    "    );"
   ]
  },
  {
   "cell_type": "code",
   "execution_count": 14,
   "id": "ac2387bc-fd46-4446-850a-142f84ffa877",
   "metadata": {},
   "outputs": [],
   "source": [
    "# // Randomly split the data into 60% for training, and 40% for testing\n",
    "trainingTesting = classifierTraining.randomColumn('random',111009);\n",
    "\n",
    "training = trainingTesting.filter(ee.Filter.lt('random', 0.66));\n",
    "\n",
    "testing = trainingTesting.filter(ee.Filter.gte('random', 0.66));"
   ]
  },
  {
   "cell_type": "markdown",
   "id": "4623344a-bee2-4f76-831a-a6e78d7bb2b2",
   "metadata": {},
   "source": [
    "## Random Tree Classification"
   ]
  },
  {
   "cell_type": "code",
   "execution_count": 15,
   "id": "cdd48877-8b9c-487c-b30c-9196a13e21dc",
   "metadata": {},
   "outputs": [],
   "source": [
    "# RANDOM TREES\n",
    "\n",
    "# hyperparameter to tune\n",
    "trees_val=14\n",
    "\n",
    "rfClassification = ee.Classifier.smileRandomForest(numberOfTrees=trees_val, seed=111009).train(\n",
    "      features= training, \n",
    "      classProperty= 'class', \n",
    "      inputProperties= predictionBands\n",
    "    )"
   ]
  },
  {
   "cell_type": "code",
   "execution_count": 16,
   "id": "b88d670c-4a9e-41a5-9543-ce499fdba3a0",
   "metadata": {},
   "outputs": [
    {
     "data": {
      "application/vnd.jupyter.widget-view+json": {
       "model_id": "12254c520ab14a6cb60e17167558b0b6",
       "version_major": 2,
       "version_minor": 0
      },
      "text/plain": [
       "Map(bottom=103421.0, center=[35.799336436832874, -78.78645704174697], controls=(WidgetControl(options=['positi…"
      ]
     },
     "metadata": {},
     "output_type": "display_data"
    }
   ],
   "source": [
    "# // Perform the RF regression on the landsat image\n",
    "rfClassificationImage = im2000.select(predictionBands).classify(rfClassification);\n",
    "    \n",
    "# // Visualize the RF regression\n",
    "Map.addLayer(rfClassificationImage,  {'min': 0, 'max': 5,\n",
    "                                   'palette':['pink','grey','yellow','blue','green','lightgreen']}, 'RF classification');\n",
    "\n",
    "Map"
   ]
  },
  {
   "cell_type": "markdown",
   "id": "7fc098b6-476d-48c8-a608-471c9f88e63e",
   "metadata": {},
   "source": [
    "## Random Forest Accuracy"
   ]
  },
  {
   "cell_type": "code",
   "execution_count": 22,
   "id": "9e471008-6753-467d-895c-d6072ee1047d",
   "metadata": {},
   "outputs": [
    {
     "name": "stdout",
     "output_type": "stream",
     "text": [
      "ConfusionMatrix\n",
      "[[ 157    2    0    0    0    1]\n",
      " [   2  139    2    0   10    5]\n",
      " [   0    1  220    0    8   18]\n",
      " [   0    0    0 1886    0    0]\n",
      " [   0    5    0    0 2200    9]\n",
      " [  12    2   12    0   21  245]]\n",
      "Overall Accuracy: 0.9778091587653823\n",
      "Producers Accuracy: [[0.98125], [0.879746835443038], [0.8906882591093117], [1], [0.993676603432701], [0.839041095890411]]\n",
      "Consumers Accuracy: [[0.9181286549707602, 0.9328859060402684, 0.9401709401709402, 1, 0.9825815096025011, 0.8812949640287769]]\n",
      "Kappa: 0.9656367653524921\n"
     ]
    }
   ],
   "source": [
    "# // Perform the RF classification on the test set\n",
    "\n",
    "# print(test.first().getInfo())\n",
    "# // Get a confusion matrix representing expected accuracy.\n",
    "test=testing.classify(rfClassification)\n",
    "testAccuracy = test.errorMatrix('class', 'classification');\n",
    "\n",
    "import numpy as np\n",
    "errormaxtrix=np.array(testAccuracy.array().getInfo())\n",
    "\n",
    "print(testAccuracy.name());\n",
    "print(errormaxtrix)\n",
    "print('Overall Accuracy:', testAccuracy.accuracy().getInfo());\n",
    "print('Producers Accuracy:', testAccuracy.producersAccuracy().getInfo());\n",
    "print('Consumers Accuracy:', testAccuracy.consumersAccuracy().getInfo());\n",
    "print('Kappa:', testAccuracy.kappa().getInfo());"
   ]
  },
  {
   "cell_type": "markdown",
   "id": "cffd2dd6-90e1-4137-ac52-835115c86663",
   "metadata": {},
   "source": [
    "# Figure out how many 'trees' are best for RF Classification"
   ]
  },
  {
   "cell_type": "code",
   "execution_count": null,
   "id": "6cd45ae3-1300-4a34-9aa8-4ed0a0bd1e02",
   "metadata": {},
   "outputs": [],
   "source": [
    "numTrees = ee.List.sequence(1, 20, 1)\n",
    "\n",
    "\n",
    "def trees(t):\n",
    "    rfclass = ee.Classifier.smileRandomForest(numberOfTrees=t, seed=111009).train(\n",
    "    features= training, \n",
    "    classProperty= 'class', \n",
    "    inputProperties= predictionBands)\n",
    "    \n",
    "    rfTesting = testing.classify(rfclass)\n",
    "    testAccuracy = rfTesting.errorMatrix('class', 'classification');\n",
    "    kappa= testAccuracy.kappa();       \n",
    "    return kappa\n",
    "\n",
    "\n",
    "kappa_trees=numTrees.map(trees)\n",
    "value_info = kappa_trees.getInfo()\n",
    "\n",
    "# print(rmse_trees.getInfo())\n",
    "\n",
    "import pandas as pd\n",
    "df =pd.DataFrame(value_info,columns=['kappa'])\n",
    "df['numTrees'] = numTrees.getInfo() \n",
    "\n",
    "ax =df.plot.line(x='numTrees', \n",
    "             y='kappa',\n",
    "             title= 'Impact of Number of Trees in Random Forest'\n",
    "             )\n",
    "ax.grid()"
   ]
  },
  {
   "cell_type": "markdown",
   "id": "42b33822-aa50-4b7a-bfe8-df69013befcd",
   "metadata": {},
   "source": [
    "## Add Legend to map"
   ]
  },
  {
   "cell_type": "code",
   "execution_count": null,
   "id": "5557aa9d-54d4-4147-a0f9-1818c7f5075d",
   "metadata": {},
   "outputs": [],
   "source": [
    "#Define the legend labels and colors\n",
    "legend_dict = {\n",
    "    'buildings': '#ff69b4',\n",
    "    'roads': '#808080',\n",
    "    'farmland': '#ffff00',\n",
    "    'water': '#0000ff',\n",
    "    'forest': '#008000',\n",
    "    'grass': '#90ee90',\n",
    "}\n",
    "\n",
    "# Add the legend to the map\n",
    "Map.add_legend(legend_title='Legend', legend_dict=legend_dict)\n",
    "\n",
    "# Display the map\n",
    "Map"
   ]
  },
  {
   "cell_type": "code",
   "execution_count": null,
   "id": "d88ca454-0d99-4434-8c35-3ec559b04ee3",
   "metadata": {},
   "outputs": [],
   "source": [
    "#Map = geemap.Map()\n",
    "\n",
    "legend_keys = ['Buildings', 'Roads', 'Agriculture', 'Water', 'Forest', 'Grass']\n",
    "# colorS can be defined using either hex code or RGB (0-255, 0-255, 0-255)\n",
    "legend_colors = ['pink','grey','yellow','blue','green','lightgreen']\n",
    "#legend_colors = [(255, 0, 0), (127, 255, 0), (127, 18, 25), (36, 70, 180), (96, 68, 123)]\n",
    "\n",
    "Map.add_legend(\n",
    "    legend_keys=legend_keys, legend_colors=legend_colors, position='bottomleft'\n",
    ")\n",
    "Map"
   ]
  },
  {
   "cell_type": "markdown",
   "id": "4697a582-1593-491c-854e-04ce295e270f",
   "metadata": {},
   "source": [
    "## Zonal Statistics"
   ]
  },
  {
   "cell_type": "code",
   "execution_count": 17,
   "id": "f4116dc0-a457-47cf-a09a-58613fd7d9ed",
   "metadata": {},
   "outputs": [
    {
     "name": "stdout",
     "output_type": "stream",
     "text": [
      "Total area by class:\n",
      "{'groups': [{'class': 0, 'sum': 74949322.18488099}, {'class': 1, 'sum': 520045400.9558126}, {'class': 2, 'sum': 223168788.4603976}, {'class': 3, 'sum': 132154069.40749773}, {'class': 4, 'sum': 2235618657.5554314}, {'class': 5, 'sum': 414117899.7257618}]}\n"
     ]
    }
   ],
   "source": [
    "import ee\n",
    "areaImage = ee.Image.pixelArea().addBands(\n",
    "      rfClassificationImage)\n",
    "areas = areaImage.reduceRegion(**{\n",
    "    'reducer': ee.Reducer.sum().group(**{'groupField': 1, 'groupName': 'class'}),\n",
    "    'geometry': rfClassificationImage.geometry(),\n",
    "    'scale': 30,\n",
    "    'maxPixels': 1e10\n",
    "})\n",
    " \n",
    "# Print the results\n",
    "print('Total area by class:')\n",
    "print(areas.getInfo())"
   ]
  },
  {
   "cell_type": "markdown",
   "id": "7698bf17-62eb-4019-a1d0-61ee233dffba",
   "metadata": {
    "tags": []
   },
   "source": [
    "## Convert to CSV Format"
   ]
  },
  {
   "cell_type": "code",
   "execution_count": 18,
   "id": "b99cb2cd-6f98-4bdb-918f-0ba34f48f1cf",
   "metadata": {},
   "outputs": [
    {
     "name": "stdout",
     "output_type": "stream",
     "text": [
      "class,sum\n",
      "0,74949322.18488099\n",
      "1,520045400.9558126\n",
      "2,223168788.4603976\n",
      "3,132154069.40749773\n",
      "4,2235618657.5554314\n",
      "5,414117899.7257618\n",
      "\n"
     ]
    }
   ],
   "source": [
    "import pandas as pd\n",
    "# Convert the result to a pandas DataFrame\n",
    "df = pd.DataFrame(areas.getInfo()['groups'])\n",
    "\n",
    "# Print the DataFrame\n",
    "print(df.to_csv(index=False))"
   ]
  },
  {
   "cell_type": "code",
   "execution_count": null,
   "id": "485f1470-450d-4b15-8df9-32a4369a8814",
   "metadata": {},
   "outputs": [],
   "source": []
  }
 ],
 "metadata": {
  "kernelspec": {
   "display_name": "Python 3 (ipykernel)",
   "language": "python",
   "name": "python3"
  },
  "language_info": {
   "codemirror_mode": {
    "name": "ipython",
    "version": 3
   },
   "file_extension": ".py",
   "mimetype": "text/x-python",
   "name": "python",
   "nbconvert_exporter": "python",
   "pygments_lexer": "ipython3",
   "version": "3.9.7"
  }
 },
 "nbformat": 4,
 "nbformat_minor": 5
}
