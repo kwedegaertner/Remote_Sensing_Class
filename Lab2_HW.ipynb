{
 "cells": [
  {
   "cell_type": "markdown",
   "id": "8003f37f-ef4a-42ed-9938-d89392899907",
   "metadata": {},
   "source": [
    "### Assignment by Kurt Wedegaertner 2/28/2023"
   ]
  },
  {
   "cell_type": "markdown",
   "id": "8eaeb390-61db-4a02-bba3-adc0b3579747",
   "metadata": {},
   "source": [
    "### Lab 2 Homework Satelites in natural and read false color"
   ]
  },
  {
   "cell_type": "markdown",
   "id": "52599973-3d4a-4254-8181-363a2673d5d6",
   "metadata": {},
   "source": [
    "## 1. Calling geemap"
   ]
  },
  {
   "cell_type": "code",
   "execution_count": null,
   "id": "536bf270-381e-4a6f-a7f4-8147cd3b7596",
   "metadata": {},
   "outputs": [],
   "source": [
    "import ee\n",
    "ee.Initialize()\n",
    "\n",
    "import geemap\n",
    "\n",
    "Map = geemap.Map() \n",
    "Map"
   ]
  },
  {
   "cell_type": "markdown",
   "id": "995c9a06-e89c-4b31-95e2-cfd51f028376",
   "metadata": {},
   "source": [
    "## 2. Define POI"
   ]
  },
  {
   "cell_type": "code",
   "execution_count": null,
   "id": "b59d8a42-be71-4d9b-83ea-7d31ed4c7824",
   "metadata": {},
   "outputs": [],
   "source": [
    "latitude =41.735210\n",
    "longitude = -111.834862\n",
    "loganPoint = ee.Geometry.Point([longitude, latitude]);"
   ]
  },
  {
   "cell_type": "markdown",
   "id": "6319eedd-a40a-4799-a3a3-0de078502dff",
   "metadata": {},
   "source": [
    "## 3. Calling Satellites "
   ]
  },
  {
   "cell_type": "markdown",
   "id": "67fffd70-8123-4159-bac1-5ff346f64461",
   "metadata": {},
   "source": [
    "## ASTER"
   ]
  },
  {
   "cell_type": "code",
   "execution_count": null,
   "id": "9c6255cd-7eff-4cb1-89de-480daf79250e",
   "metadata": {},
   "outputs": [],
   "source": [
    "aster = ee.ImageCollection(\"ASTER/AST_L1T_003\")\n",
    "asterImages = aster.filterDate('2019-04-01', '2019-10-31').filterBounds(loganPoint);\n",
    "asterImage = asterImages.mosaic();\n",
    "band_names = asterImage.bandNames()\n",
    "print(band_names.getInfo())"
   ]
  },
  {
   "cell_type": "code",
   "execution_count": null,
   "id": "e28174d9-5412-4889-be9e-33ba49d11b2e",
   "metadata": {},
   "outputs": [],
   "source": [
    "asterScale = asterImage.select('B01').projection().nominalScale();\n",
    "\n",
    "print('ASTER scale:', asterScale.getInfo());"
   ]
  },
  {
   "cell_type": "code",
   "execution_count": null,
   "id": "784e3a44-24bb-4c92-92fc-e91b4ea3d293",
   "metadata": {},
   "outputs": [],
   "source": [
    "## false color image\n",
    "asterBands=  ['B3N', 'B02', 'B01']\n",
    "Map.addLayer(asterImage, {'bands':asterBands,'min': 0, 'max': 255, 'region': loganPoint}, name='ASTER Image')\n",
    "Map"
   ]
  },
  {
   "cell_type": "code",
   "execution_count": null,
   "id": "fd34dd99-afae-43e4-b408-1f938ac3a4ef",
   "metadata": {},
   "outputs": [],
   "source": [
    "## natural color\n",
    "asterBands=  ['B02']\n",
    "Map.addLayer(asterImage, {'bands':asterBands,'min': 0, 'max': 255, 'region': loganPoint}, name='ASTER-Visible Image')\n",
    "Map"
   ]
  },
  {
   "cell_type": "markdown",
   "id": "4190cba4-b0bf-4426-ba49-8313faf64b4b",
   "metadata": {},
   "source": [
    "## SENTINAL-2"
   ]
  },
  {
   "cell_type": "code",
   "execution_count": null,
   "id": "b0500b61-ef98-4a81-a29a-624256f1f37f",
   "metadata": {},
   "outputs": [],
   "source": [
    "S2 = ee.ImageCollection('COPERNICUS/S2')\n",
    "S2Images = S2.filterDate('2018-01-01', '2018-12-31').filterBounds(loganPoint);\n",
    "S2Image = S2Images.mosaic();\n",
    "band_names = S2Image.bandNames()\n",
    "print(band_names.getInfo())"
   ]
  },
  {
   "cell_type": "code",
   "execution_count": null,
   "id": "56c015e8-cb01-4259-a914-16e9445dca31",
   "metadata": {},
   "outputs": [],
   "source": [
    "S2Scale = S2Image.select('B4').projection().nominalScale();\n",
    "\n",
    "print('S2 scale:', S2Scale.getInfo());"
   ]
  },
  {
   "cell_type": "code",
   "execution_count": null,
   "id": "5002435a-6f14-4efd-910f-0302a74d74d5",
   "metadata": {},
   "outputs": [],
   "source": [
    "# natural color\n",
    "S2Bands=  ['B4', 'B3', 'B2']\n",
    "S2Image = S2Image.multiply(.0001)\n",
    "Map.addLayer(S2Image, {'bands':S2Bands,'min': 0.0, 'max': 1, 'region': loganPoint}, name='SENTINAL-2 Image')\n",
    "Map"
   ]
  },
  {
   "cell_type": "code",
   "execution_count": null,
   "id": "4d2a593d-22e2-4c16-a6f4-db5d41c047b0",
   "metadata": {},
   "outputs": [],
   "source": [
    "# false color\n",
    "S2Bands=  ['B5', 'B4', 'B3']\n",
    "S2Image = S2Image.multiply(.0001)\n",
    "Map.addLayer(S2Image, {'bands':S2Bands,'min': 0.0, 'max': 1 , 'region': loganPoint}, name='SENTINAL-2 false color Image')\n",
    "Map"
   ]
  },
  {
   "cell_type": "markdown",
   "id": "310faf5b-a1e5-46fd-850b-dc806c4719be",
   "metadata": {},
   "source": [
    "## Sentinal-3"
   ]
  },
  {
   "cell_type": "code",
   "execution_count": null,
   "id": "5cfc9a2c-d830-4f41-a83d-55ba79cc7407",
   "metadata": {},
   "outputs": [],
   "source": [
    "S3 = ee.ImageCollection(\"COPERNICUS/S3/OLCI\")\n",
    "S3Images = S3.filterDate('2018-04-01', '2018-05-04').filterBounds(loganPoint)\n",
    "S3Image = S3Images.mosaic();\n",
    "band_names = S3Image.bandNames()\n",
    "print(band_names.getInfo())"
   ]
  },
  {
   "cell_type": "code",
   "execution_count": null,
   "id": "d8b05f22-0051-4e1d-a9c1-1ed480a271ef",
   "metadata": {},
   "outputs": [],
   "source": [
    "S3Scale = S3Image.select('Oa02_radiance').projection().nominalScale();\n",
    "\n",
    "print('S3 scale:', S3Scale.getInfo());"
   ]
  },
  {
   "cell_type": "code",
   "execution_count": null,
   "id": "64ab834c-17be-4d32-bf0b-81d4a10cdafc",
   "metadata": {},
   "outputs": [],
   "source": [
    "# natural color\n",
    "S3Bands =  ['Oa08_radiance', 'Oa06_radiance', 'Oa04_radiance']\n",
    "S3Image = S3Image.multiply(0.0001)\n",
    "Map.addLayer(S3Image, {'bands':S3Bands,'min': 0.0, 'max': 0.1,'region': loganPoint}, name='SENTINAL-3 Image')\n",
    "Map"
   ]
  },
  {
   "cell_type": "code",
   "execution_count": null,
   "id": "ff55a25c-ef86-4327-a650-668466e379c7",
   "metadata": {},
   "outputs": [],
   "source": [
    "# false color\n",
    "S3Bands =  ['Oa19_radiance']\n",
    "S3Image = S3Image.multiply(.0001)\n",
    "Map.addLayer(S3Image, {'bands':S3Bands,'min': 0.0, 'max': 0.1,'gamma': 1.5,'region': loganPoint}, name='SENTINAL-3 false color Image')\n",
    "Map"
   ]
  },
  {
   "cell_type": "markdown",
   "id": "58df2116-1d8a-4155-9b45-709f213412d5",
   "metadata": {},
   "source": [
    "## Proba-V"
   ]
  },
  {
   "cell_type": "code",
   "execution_count": null,
   "id": "1ded6ecf-9258-4985-894c-82a29b603b99",
   "metadata": {},
   "outputs": [],
   "source": [
    "ProbaV = ee.ImageCollection(\"VITO/PROBAV/C1/S1_TOC_100M\")\n",
    "ProbaVImages = ProbaV.filterDate('2019-04-01', '2019-09-20').filterBounds(loganPoint)\n",
    "ProbaVImage = ProbaVImages.mosaic();\n",
    "band_names = ProbaVImage.bandNames()\n",
    "print(band_names.getInfo())"
   ]
  },
  {
   "cell_type": "code",
   "execution_count": null,
   "id": "bbf165d0-8129-4e52-9d3e-2e002a75c9f2",
   "metadata": {},
   "outputs": [],
   "source": [
    "ProbaVScale = ProbaVImage.select('RED').projection().nominalScale();\n",
    "\n",
    "print('ProbaV scale:', ProbaVScale.getInfo());"
   ]
  },
  {
   "cell_type": "code",
   "execution_count": null,
   "id": "2644dbd3-66d0-433f-b83f-342036243502",
   "metadata": {},
   "outputs": [],
   "source": [
    "# natural color\n",
    "ProbaVBands =  ['RED', 'NIR', 'BLUE']\n",
    "Map.addLayer(ProbaVImage, {'bands':ProbaVBands,'min': 20, 'max': 2000,'region': loganPoint}, name='Proba-V Image')\n",
    "Map"
   ]
  },
  {
   "cell_type": "code",
   "execution_count": null,
   "id": "741fd1b5-0f67-4d80-b910-70aafeb041f3",
   "metadata": {},
   "outputs": [],
   "source": [
    "# false color\n",
    "ProbaVBands =  ['NIR']\n",
    "Map.addLayer(ProbaVImage, {'bands':ProbaVBands,'min': 20, 'max': 2000,'region': loganPoint}, name='Proba-V fasle color Image')\n",
    "Map"
   ]
  },
  {
   "cell_type": "markdown",
   "id": "baf1d8d5-0ed6-48ff-9442-46e353712d10",
   "metadata": {},
   "source": [
    "## VIRIS"
   ]
  },
  {
   "cell_type": "code",
   "execution_count": null,
   "id": "d5e2a724-890b-4b5f-8c94-2fa16e8fcb82",
   "metadata": {},
   "outputs": [],
   "source": [
    "viris = ee.ImageCollection(\"NOAA/VIIRS/001/VNP09GA\")\n",
    "virisImages = viris.filterDate('2019-04-01', '2019-09-20').filterBounds(loganPoint)\n",
    "virisImage = virisImages.mosaic();\n",
    "band_names = virisImage.bandNames()\n",
    "print(band_names.getInfo())"
   ]
  },
  {
   "cell_type": "code",
   "execution_count": null,
   "id": "b0528888-9aca-46f3-ac50-076b840cf19f",
   "metadata": {},
   "outputs": [],
   "source": [
    "virisScale = virisImage.select('I1').projection().nominalScale();\n",
    "\n",
    "print('viris scale:', virisScale.getInfo());"
   ]
  },
  {
   "cell_type": "code",
   "execution_count": null,
   "id": "7d60c022-fd4d-41eb-b1c2-b832c4ddcca2",
   "metadata": {},
   "outputs": [],
   "source": [
    "#natural color\n",
    "virisBands =  ['M5', 'M4', 'M3']\n",
    "Map.addLayer(virisImage, {'bands':virisBands,'min': 0.0, 'max': 3000,'region': loganPoint}, name='VIRIS Image')\n",
    "Map"
   ]
  },
  {
   "cell_type": "code",
   "execution_count": null,
   "id": "ac6a8afe-9099-436f-b25f-4df628d09545",
   "metadata": {},
   "outputs": [],
   "source": [
    "# false color\n",
    "virisBands =  ['M4', 'M3', 'M2']\n",
    "Map.addLayer(virisImage, {'bands':virisBands,'min': 0.0, 'max': 3000,'region': loganPoint}, name='VIRIS false coolor Image')\n",
    "Map"
   ]
  },
  {
   "cell_type": "markdown",
   "id": "a18696a2-68d4-4ffb-a55d-e6bddcda25d5",
   "metadata": {},
   "source": [
    "## HYPERSPECTRAL SENSOR EO-1 "
   ]
  },
  {
   "cell_type": "code",
   "execution_count": null,
   "id": "bd3d648b-1709-4bfb-bb9c-8465002f11de",
   "metadata": {},
   "outputs": [],
   "source": [
    "EO1 = ee.ImageCollection(\"EO1/HYPERION\")\n",
    "EO1Images = EO1.filterDate('2001-04-01', '2017-09-20').filterBounds(loganPoint)\n",
    "EO1Image = EO1Images.mosaic();\n",
    "band_names = EO1Image.bandNames()\n",
    "print(band_names.getInfo())"
   ]
  },
  {
   "cell_type": "code",
   "execution_count": null,
   "id": "381abe59-5bb6-43bc-95fd-92b89f1074a2",
   "metadata": {},
   "outputs": [],
   "source": [
    "EO1Scale = EO1Image.select('B010').projection().nominalScale();\n",
    "\n",
    "print('EO1 scale:', EO1Scale.getInfo());"
   ]
  },
  {
   "cell_type": "code",
   "execution_count": null,
   "id": "2bda40bd-d984-4aee-8182-3647a5e76c1b",
   "metadata": {},
   "outputs": [],
   "source": [
    "#natural color\n",
    "EO1Bands =  ['B050', 'B023', 'B015']\n",
    "Map.addLayer(EO1Image, {'bands':EO1Bands,'min': 1000.0, 'max': 14000.0, 'gamma': 2.5,'region': loganPoint}, name='EO1 Image')\n",
    "Map"
   ]
  },
  {
   "cell_type": "code",
   "execution_count": null,
   "id": "1be6a070-9506-4573-b761-f1cbf5d15c3c",
   "metadata": {},
   "outputs": [],
   "source": []
  }
 ],
 "metadata": {
  "kernelspec": {
   "display_name": "Python 3 (ipykernel)",
   "language": "python",
   "name": "python3"
  },
  "language_info": {
   "codemirror_mode": {
    "name": "ipython",
    "version": 3
   },
   "file_extension": ".py",
   "mimetype": "text/x-python",
   "name": "python",
   "nbconvert_exporter": "python",
   "pygments_lexer": "ipython3",
   "version": "3.9.7"
  }
 },
 "nbformat": 4,
 "nbformat_minor": 5
}
