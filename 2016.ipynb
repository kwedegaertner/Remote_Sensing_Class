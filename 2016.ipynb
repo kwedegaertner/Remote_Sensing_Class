{
 "cells": [
  {
   "cell_type": "markdown",
   "id": "43f116fb-e4b5-4ba2-862a-a50a6d5f30ca",
   "metadata": {
    "tags": []
   },
   "source": [
    "## 1. Calling geemap"
   ]
  },
  {
   "cell_type": "code",
   "execution_count": 1,
   "id": "e913d843-f6c8-43d5-bed1-3eb521f2287b",
   "metadata": {},
   "outputs": [],
   "source": [
    "import ee\n",
    "ee.Initialize()\n",
    "import os\n",
    "import geemap\n",
    "Map = geemap.Map()"
   ]
  },
  {
   "cell_type": "markdown",
   "id": "fc9e9385-091b-4430-acb2-ab81864bfad2",
   "metadata": {},
   "source": [
    "## 2. Define the POI ( Triangle Region of NC: Durham, Wake, and Orange Counties)"
   ]
  },
  {
   "cell_type": "code",
   "execution_count": 2,
   "id": "8465e696-6b87-4f68-b861-90e3d4c8a8b0",
   "metadata": {},
   "outputs": [
    {
     "name": "stdout",
     "output_type": "stream",
     "text": [
      "{'type': 'Point', 'coordinates': [-79.055847, 35.9132]}\n",
      "Total area of AOI: 3473740563.07451 square meters\n"
     ]
    }
   ],
   "source": [
    "# Define the rectangle geometry\n",
    "latitude = 35.913200\n",
    "longitude= -79.055847\n",
    "rtp = ee.Geometry.Point([longitude, latitude])\n",
    "\n",
    "# define ROI\n",
    "roi = ee.Geometry.Polygon(\n",
    "    [\n",
    "        [\n",
    "            [-79.127376, 36.058690], \n",
    "            [-78.439375, 36.058690], \n",
    "            [-78.439375, 35.541565], \n",
    "            [-79.139617, 35.541565], \n",
    "                        \n",
    "        ]\n",
    "    ],\n",
    "    None,\n",
    "    False,\n",
    ")\n",
    "\n",
    "# Print the geometry to check it\n",
    "print(rtp.getInfo())\n",
    "\n",
    "# Get the pixel area image\n",
    "pixelArea = ee.Image.pixelArea()\n",
    "\n",
    "# Calculate the total area of the AOI in square meters\n",
    "totalArea = pixelArea.reduceRegion(\n",
    "  reducer=ee.Reducer.sum(),\n",
    "  geometry=roi,\n",
    "  scale=roi.projection().nominalScale(),\n",
    "  maxPixels=1e13\n",
    ").get('area')\n",
    "\n",
    "print('Total area of AOI:', totalArea.getInfo(), 'square meters')"
   ]
  },
  {
   "cell_type": "code",
   "execution_count": null,
   "id": "a130021f-2225-4552-9e61-45179b29f7d7",
   "metadata": {},
   "outputs": [],
   "source": []
  },
  {
   "cell_type": "markdown",
   "id": "ccba8b88-96d4-43b2-906c-1620278b069c",
   "metadata": {},
   "source": [
    "## 3. Calling Satellites "
   ]
  },
  {
   "cell_type": "markdown",
   "id": "b3b828f0-9428-4528-b956-91b994bcb730",
   "metadata": {},
   "source": [
    "## Landsat"
   ]
  },
  {
   "cell_type": "markdown",
   "id": "c0d653d8-4f36-44e9-b07e-4eb66c781dd6",
   "metadata": {},
   "source": [
    "## Call 2007 Image. This image will be used to train the model"
   ]
  },
  {
   "cell_type": "code",
   "execution_count": 3,
   "id": "7df52662-8ad4-4df5-bb3a-2e3f4c7080e7",
   "metadata": {},
   "outputs": [
    {
     "data": {
      "application/vnd.jupyter.widget-view+json": {
       "model_id": "3072857133dd4df485d46bad69327750",
       "version_major": 2,
       "version_minor": 0
      },
      "text/plain": [
       "Map(center=[35.799336436832874, -78.78645704174697], controls=(WidgetControl(options=['position', 'transparent…"
      ]
     },
     "metadata": {},
     "output_type": "display_data"
    }
   ],
   "source": [
    "#2016\n",
    "landsat = ee.ImageCollection(\"LANDSAT/LC08/C02/T1_L2\")\n",
    "landsatImage = landsat.filterDate('2016-07-01', '2016-07-31').filterBounds(rtp)\n",
    "landsatImage = landsatImage.sort('CLOUD_COVER')\n",
    "\n",
    "landsatBands = ['SR_B3', 'SR_B2', 'SR_B1']\n",
    "im2016=landsatImage.first()\n",
    "im2016 = im2016.select('SR_B.').multiply(0.0000275).add(-0.2)\n",
    "im2016=im2016.clip(roi)\n",
    "trueColor = {\n",
    "  'dimensions': 500,  \n",
    "  'bands': ['SR_B4', 'SR_B3', 'SR_B2'],\n",
    "  'min': 0,\n",
    "  'max': 0.3,\n",
    "}\n",
    "Map.addLayer(im2016, trueColor, name='2016')\n",
    "Map.centerObject(im2016, 10)\n",
    "Map"
   ]
  },
  {
   "cell_type": "markdown",
   "id": "e61a39e6-34d9-4a32-af22-12b613ea7925",
   "metadata": {},
   "source": [
    "## Make Polygons around Land Use Areas"
   ]
  },
  {
   "cell_type": "code",
   "execution_count": 4,
   "id": "043bd1bc-3ec9-4ac8-a49d-f336329436bd",
   "metadata": {},
   "outputs": [
    {
     "data": {
      "application/vnd.jupyter.widget-view+json": {
       "model_id": "3072857133dd4df485d46bad69327750",
       "version_major": 2,
       "version_minor": 0
      },
      "text/plain": [
       "Map(bottom=103421.0, center=[35.799336436832874, -78.78645704174697], controls=(WidgetControl(options=['positi…"
      ]
     },
     "metadata": {},
     "output_type": "display_data"
    }
   ],
   "source": [
    "# FOR Buildings: \\\n",
    "# how I did this: \n",
    "# 1. I zoomed into the Landsat image to a building area\n",
    "# 2. Click on the polygon icon of the left, and define an area with points, forming a closed polygon\n",
    "# 3. Run this cell. The last draw polygon is stored in \"Map.user_roi\"\n",
    "polygon = Map.user_roi\n",
    "\n",
    "# Or you can enter defined coordinates as the commented lines below.\n",
    "# // Create an ee.Geometry.\n",
    "polygon = ee.Geometry.Polygon([\n",
    "                   [-78.6828, 35.8410],\n",
    "                   [-78.6812, 35.8422],\n",
    "                   [-78.6779, 35.8398],\n",
    "                   [-78.6799, 35.8386]]);\n",
    "\n",
    "#Create a Feature from the Geometry.\n",
    "building = ee.Feature(polygon, {'class': 0, 'name': 'building'});\n",
    "Map.addLayer(building, {'fill_color':'pink', 'outline': 1}, name='building')\n",
    "\n",
    "\n",
    "#Second building\n",
    "polygon = Map.user_roi\n",
    "\n",
    "# // Create an ee.Geometry.\n",
    "polygon = ee.Geometry.Polygon([\n",
    "                   [-78.9599, 35.9666],\n",
    "                   [-78.9568, 35.9677],\n",
    "                   [-78.9562, 35.9671],\n",
    "                   [-78.9596, 35.9659]]);\n",
    "                   \n",
    "\n",
    "# // Create a Feature from the Geometry.\n",
    "building2 = ee.Feature(polygon, {'class': 0, 'name': 'building2'});\n",
    "Map.addLayer(building2, {'fill_color':'pink', 'outline': 1}, name='building2')\n",
    "\n",
    "\n",
    "\n",
    "#Third building\n",
    "polygon = Map.user_roi\n",
    "\n",
    "# // Create an ee.Geometry.\n",
    "polygon = ee.Geometry.Polygon([\n",
    "                   [-78.6135, 35.8244],\n",
    "                   [-78.6120, 35.8238],\n",
    "                   [-78.6129, 35.8229],\n",
    "                   [-78.6143, 35.8237]]);\n",
    "                   \n",
    "\n",
    "# // Create a Feature from the Geometry.\n",
    "building3 = ee.Feature(polygon, {'class': 0, 'name': 'building3'});\n",
    "Map.addLayer(building3, {'fill_color':'pink', 'outline': 1}, name='building3')\n",
    "\n",
    "\n",
    "\n",
    "#Fourth building\n",
    "polygon = Map.user_roi\n",
    "\n",
    "# // Create an ee.Geometry.\n",
    "polygon = ee.Geometry.Polygon([\n",
    "                   [-78.8101, 35.8387],\n",
    "                   [-78.8066, 35.8373],\n",
    "                   [-78.8074, 35.8362],\n",
    "                   [-78.8107, 35.8375]]);\n",
    "                   \n",
    "\n",
    "# // Create a Feature from the Geometry.\n",
    "building4 = ee.Feature(polygon, {'class': 0, 'name': 'building4'});\n",
    "Map.addLayer(building4, {'fill_color':'pink', 'outline': 1}, name='building4')\n",
    "\n",
    "\n",
    "#Fifth building\n",
    "polygon = Map.user_roi\n",
    "\n",
    "# // Create an ee.Geometry.\n",
    "polygon = ee.Geometry.Polygon([\n",
    "                   [-78.872, 35.971],\n",
    "                   [-78.870, 35.970],\n",
    "                   [-78.872, 35.963],\n",
    "                   [-78.875, 35.963]]);\n",
    "                   \n",
    "\n",
    "# // Create a Feature from the Geometry.\n",
    "building5 = ee.Feature(polygon, {'class': 0, 'name': 'building5'});\n",
    "Map.addLayer(building5, {'fill_color':'pink', 'outline': 1}, name='building5')\n",
    "\n",
    "\n",
    "#Sixth building\n",
    "polygon = Map.user_roi\n",
    "\n",
    "# // Create an ee.Geometry.\n",
    "polygon = ee.Geometry.Polygon([\n",
    "                   [-78.848, 35.871],\n",
    "                   [-78.845, 35.871],\n",
    "                   [-78.845, 35.869],\n",
    "                   [-78.848, 35.869]]);\n",
    "                   \n",
    "\n",
    "# // Create a Feature from the Geometry.\n",
    "building6 = ee.Feature(polygon, {'class': 0, 'name': 'building6'});\n",
    "Map.addLayer(building6, {'fill_color':'pink', 'outline': 1}, name='building6')\n",
    "\n",
    "\n",
    "#Seventh building\n",
    "polygon = Map.user_roi\n",
    "\n",
    "# // Create an ee.Geometry.\n",
    "polygon = ee.Geometry.Polygon([\n",
    "                   [-78.855, 35.917],\n",
    "                   [-78.854, 35.916],\n",
    "                   [-78.856, 35.915],\n",
    "                   [-78.857, 35.915]]);\n",
    "                   \n",
    "\n",
    "# // Create a Feature from the Geometry.\n",
    "building7 = ee.Feature(polygon, {'class': 0, 'name': 'building7'});\n",
    "Map.addLayer(building7, {'fill_color':'pink', 'outline': 1}, name='building7')\n",
    "Map\n"
   ]
  },
  {
   "cell_type": "code",
   "execution_count": 5,
   "id": "de1e1047-8c1b-445a-9845-5c7062001365",
   "metadata": {},
   "outputs": [
    {
     "data": {
      "application/vnd.jupyter.widget-view+json": {
       "model_id": "3072857133dd4df485d46bad69327750",
       "version_major": 2,
       "version_minor": 0
      },
      "text/plain": [
       "Map(bottom=103421.0, center=[35.799336436832874, -78.78645704174697], controls=(WidgetControl(options=['positi…"
      ]
     },
     "metadata": {},
     "output_type": "display_data"
    }
   ],
   "source": [
    "# FOR Roads: \\\n",
    "\n",
    "#First Road\n",
    "polygon = Map.user_roi\n",
    "\n",
    "# // Create an ee.Geometry.\n",
    "polygon = ee.Geometry.Polygon([\n",
    "                   [-78.737, 35.767],\n",
    "                   [-78.736, 35.767],\n",
    "                   [-78.733, 35.764],\n",
    "                   [-78.735, 35.763]]);\n",
    "\n",
    "#Create a Feature from the Geometry.\n",
    "road = ee.Feature(polygon, {'class': 1, 'name': 'road'});\n",
    "Map.addLayer(road, {'fill_color':'grey', 'outline': 1}, name='road')\n",
    "\n",
    "\n",
    "#Second road\n",
    "polygon = Map.user_roi\n",
    "\n",
    "# // Create an ee.Geometry.\n",
    "polygon = ee.Geometry.Polygon([\n",
    "                   [-78.910, 35.908],\n",
    "                   [-78.901, 35.908],\n",
    "                   [-78.901, 35.907],\n",
    "                   [-78.909, 35.908]]);\n",
    "                   \n",
    "\n",
    "# // Create a Feature from the Geometry.\n",
    "road2 = ee.Feature(polygon, {'class': 1, 'name': 'road2'});\n",
    "Map.addLayer(road2, {'fill_color':'grey', 'outline': 1}, name='road2')\n",
    "\n",
    "\n",
    "#Third road\n",
    "polygon = Map.user_roi\n",
    "\n",
    "# // Create an ee.Geometry.\n",
    "polygon = ee.Geometry.Polygon([\n",
    "                   [-78.594, 35.747],\n",
    "                   [-78.593, 35.747],\n",
    "                   [-78.586, 35.730],\n",
    "                   [-78.587, 35.730]]);\n",
    "                   \n",
    "\n",
    "# // Create a Feature from the Geometry.\n",
    "road3 = ee.Feature(polygon, {'class': 1, 'name': 'road3'});\n",
    "Map.addLayer(road3, {'fill_color':'grey', 'outline': 1}, name='road3')\n",
    "\n",
    "\n",
    "#Fourth road\n",
    "polygon = Map.user_roi\n",
    "\n",
    "# // Create an ee.Geometry.\n",
    "polygon = ee.Geometry.Polygon([\n",
    "                   [-78.761, 35.830],\n",
    "                   [-78.760, 35.830],\n",
    "                   [-78.743, 35.821],\n",
    "                   [-78.744, 35.820]]);\n",
    "                   \n",
    "\n",
    "# // Create a Feature from the Geometry.\n",
    "road4 = ee.Feature(polygon, {'class': 1, 'name': 'road4'});\n",
    "Map.addLayer(road4, {'fill_color':'grey', 'outline': 1}, name='road4')\n",
    "\n",
    "\n",
    "#Fifth road\n",
    "polygon = Map.user_roi\n",
    "\n",
    "# // Create an ee.Geometry.\n",
    "polygon = ee.Geometry.Polygon([\n",
    "                   [-78.665, 35.758],\n",
    "                   [-78.663, 35.758],\n",
    "                   [-78.663, 35.757],\n",
    "                   [-78.665, 35.757]]);\n",
    "                   \n",
    "\n",
    "# // Create a Feature from the Geometry.\n",
    "road5 = ee.Feature(polygon, {'class': 1, 'name': 'road5'});\n",
    "Map.addLayer(road5, {'fill_color':'grey', 'outline': 1}, name='road5')\n",
    "Map"
   ]
  },
  {
   "cell_type": "code",
   "execution_count": 6,
   "id": "100fbb73-80fc-45a8-9cae-64038e5b46bb",
   "metadata": {},
   "outputs": [
    {
     "data": {
      "application/vnd.jupyter.widget-view+json": {
       "model_id": "3072857133dd4df485d46bad69327750",
       "version_major": 2,
       "version_minor": 0
      },
      "text/plain": [
       "Map(bottom=103421.0, center=[35.799336436832874, -78.78645704174697], controls=(WidgetControl(options=['positi…"
      ]
     },
     "metadata": {},
     "output_type": "display_data"
    }
   ],
   "source": [
    "# FOR Agricultural Fields: \\\n",
    "\n",
    "# First farmland\n",
    "polygon = Map.user_roi\n",
    "\n",
    "\n",
    "# // Create an ee.Geometry.\n",
    "polygon = ee.Geometry.Polygon([\n",
    "                   [-78.706, 35.584],\n",
    "                   [-78.702, 35.587],\n",
    "                   [-78.702, 35.583],\n",
    "                   [-78.704, 35.582]]);\n",
    "\n",
    "#Create a Feature from the Geometry.\n",
    "farmland = ee.Feature(polygon, {'class': 2, 'name': 'farmland'});\n",
    "Map.addLayer(farmland, {'fill_color':'yellow', 'outline': 1}, name='farmland')\n",
    "\n",
    "\n",
    "#Second farmland\n",
    "polygon = Map.user_roi\n",
    "\n",
    "# // Create an ee.Geometry.\n",
    "polygon = ee.Geometry.Polygon([\n",
    "                   [-78.661, 35.640],\n",
    "                   [-78.656, 35.640],\n",
    "                   [-78.656, 35.635],\n",
    "                   [-78.661, 35.635]]);\n",
    "\n",
    "#Create a Feature from the Geometry.\n",
    "farmland2 = ee.Feature(polygon, {'class': 2, 'name': 'farmland2'});\n",
    "Map.addLayer(farmland2, {'fill_color':'yellow', 'outline': 1}, name='farmland2')\n",
    "\n",
    "\n",
    "#Third farmland\n",
    "polygon = Map.user_roi\n",
    "\n",
    "# // Create an ee.Geometry.\n",
    "polygon = ee.Geometry.Polygon([\n",
    "                   [-78.682, 35.556],\n",
    "                   [-78.678, 35.552],\n",
    "                   [-78.680, 35.551],\n",
    "                   [-78.683, 35.554]]);\n",
    "\n",
    "#Create a Feature from the Geometry.\n",
    "farmland3 = ee.Feature(polygon, {'class': 2, 'name': 'farmland3'});\n",
    "Map.addLayer(farmland3, {'fill_color':'yellow', 'outline': 1}, name='farmland3')\n",
    "\n",
    "\n",
    "#Fourth farmland\n",
    "polygon = Map.user_roi\n",
    "\n",
    "# // Create an ee.Geometry.\n",
    "polygon = ee.Geometry.Polygon([\n",
    "                   [-78.832, 35.599],\n",
    "                   [-78.828, 35.601],\n",
    "                   [-78.827, 35.598],\n",
    "                   [-78.829, 35.597]]);\n",
    "\n",
    "#Create a Feature from the Geometry.\n",
    "farmland4 = ee.Feature(polygon, {'class': 2, 'name': 'farmland4'});\n",
    "Map.addLayer(farmland4, {'fill_color':'yellow', 'outline': 1}, name='farmland4')\n",
    "\n",
    "\n",
    "#Fifth farmland\n",
    "polygon = Map.user_roi\n",
    "\n",
    "# // Create an ee.Geometry.\n",
    "polygon = ee.Geometry.Polygon([\n",
    "                   [-78.821, 35.573],\n",
    "                   [-78.819, 35.573],\n",
    "                   [-78.819, 35.570],\n",
    "                   [-78.821, 35.570]]);\n",
    "\n",
    "#Create a Feature from the Geometry.\n",
    "farmland5 = ee.Feature(polygon, {'class': 2, 'name': 'farmland5'});\n",
    "Map.addLayer(farmland5, {'fill_color':'yellow', 'outline': 1}, name='farmland5')\n",
    "\n",
    "Map"
   ]
  },
  {
   "cell_type": "code",
   "execution_count": 7,
   "id": "75acaee4-1863-4c62-b016-0f5a4c8ede0d",
   "metadata": {},
   "outputs": [
    {
     "data": {
      "application/vnd.jupyter.widget-view+json": {
       "model_id": "3072857133dd4df485d46bad69327750",
       "version_major": 2,
       "version_minor": 0
      },
      "text/plain": [
       "Map(bottom=103421.0, center=[35.799336436832874, -78.78645704174697], controls=(WidgetControl(options=['positi…"
      ]
     },
     "metadata": {},
     "output_type": "display_data"
    }
   ],
   "source": [
    "# FOR Water: \\\n",
    "\n",
    "#First Water\n",
    "polygon = Map.user_roi\n",
    "\n",
    "# Or you can enter defined coordinates as the commented lines below.\n",
    "# // Create an ee.Geometry.\n",
    "polygon = ee.Geometry.Polygon([\n",
    "                   [-79.001, 35.816],\n",
    "                   [-78.987, 35.808],\n",
    "                   [-79.002, 35.794],\n",
    "                   [-79.008, 35.802]]);\n",
    "\n",
    "#Create a Feature from the Geometry.\n",
    "water = ee.Feature(polygon, {'class': 3, 'name': 'water'});\n",
    "Map.addLayer(water, {'fill_color':'blue', 'outline': 1}, name='water')\n",
    "\n",
    "#Second Water\n",
    "polygon = Map.user_roi\n",
    "\n",
    "# // Create an ee.Geometry.\n",
    "polygon = ee.Geometry.Polygon([\n",
    "                   [-78.725, 36.034],\n",
    "                   [-78.709, 36.034],\n",
    "                   [-78.709, 36.017],\n",
    "                   [-78.719, 36.017]]);\n",
    "\n",
    "#Create a Feature from the Geometry.\n",
    "water2 = ee.Feature(polygon, {'class': 3, 'name': 'water2'});\n",
    "Map.addLayer(water2, {'fill_color':'blue', 'outline': 1}, name='water2')\n",
    "\n",
    "\n",
    "#Third Water\n",
    "polygon = Map.user_roi\n",
    "\n",
    "# // Create an ee.Geometry.\n",
    "polygon = ee.Geometry.Polygon([\n",
    "                   [-78.804, 35.838],\n",
    "                   [-78.788, 35.838],\n",
    "                   [-78.788, 35.834],\n",
    "                   [-78.804, 35.834]]);\n",
    "\n",
    "#Create a Feature from the Geometry.\n",
    "water3 = ee.Feature(polygon, {'class': 3, 'name': 'water3'});\n",
    "Map.addLayer(water3, {'fill_color':'blue', 'outline': 1}, name='water3')\n",
    "\n",
    "Map"
   ]
  },
  {
   "cell_type": "code",
   "execution_count": 8,
   "id": "25603d4b-29de-466b-b2d6-9d28a095049c",
   "metadata": {},
   "outputs": [
    {
     "data": {
      "application/vnd.jupyter.widget-view+json": {
       "model_id": "3072857133dd4df485d46bad69327750",
       "version_major": 2,
       "version_minor": 0
      },
      "text/plain": [
       "Map(bottom=103421.0, center=[35.799336436832874, -78.78645704174697], controls=(WidgetControl(options=['positi…"
      ]
     },
     "metadata": {},
     "output_type": "display_data"
    }
   ],
   "source": [
    "# FOR Forest: \\\n",
    "\n",
    "#First Forest\n",
    "polygon = Map.user_roi\n",
    "\n",
    "# Or you can enter defined coordinates as the commented lines below.\n",
    "# // Create an ee.Geometry.\n",
    "polygon = ee.Geometry.Polygon([\n",
    "                   [-78.772, 35.853],\n",
    "                   [-78.756, 35.861],\n",
    "                   [-78.743, 35.844],\n",
    "                   [-78.760, 35.839]]);\n",
    "\n",
    "#Create a Feature from the Geometry.\n",
    "forest = ee.Feature(polygon, {'class': 4, 'name': 'forest'});\n",
    "Map.addLayer(forest, {'fill_color':'green', 'outline': 1}, name='forest')\n",
    "\n",
    "\n",
    "#Second Forest\n",
    "polygon = Map.user_roi\n",
    "\n",
    "# // Create an ee.Geometry.\n",
    "polygon = ee.Geometry.Polygon([\n",
    "                   [-78.638, 35.998],\n",
    "                   [-78.621, 35.999],\n",
    "                   [-78.621, 35.990],\n",
    "                   [-78.634, 35.991]]);\n",
    "\n",
    "#Create a Feature from the Geometry.\n",
    "forest2 = ee.Feature(polygon, {'class': 4, 'name': 'forest2'});\n",
    "Map.addLayer(forest2, {'fill_color':'green', 'outline': 1}, name='forest2')\n",
    "\n",
    "\n",
    "#Third Forest\n",
    "polygon = Map.user_roi\n",
    "\n",
    "# // Create an ee.Geometry.\n",
    "polygon = ee.Geometry.Polygon([\n",
    "                   [-78.995, 35.628],\n",
    "                   [-78.985, 35.628],\n",
    "                   [-78.985, 35.618],\n",
    "                   [-78.995, 35.618]]);\n",
    "\n",
    "#Create a Feature from the Geometry.\n",
    "forest3 = ee.Feature(polygon, {'class': 4, 'name': 'forest3'});\n",
    "Map.addLayer(forest3, {'fill_color':'green', 'outline': 1}, name='forest3')\n",
    "\n",
    "\n",
    "#Fourth Forest\n",
    "polygon = Map.user_roi\n",
    "\n",
    "# // Create an ee.Geometry.\n",
    "polygon = ee.Geometry.Polygon([\n",
    "                   [-78.620, 35.962],\n",
    "                   [-78.611, 35.961],\n",
    "                   [-78.612, 35.958],\n",
    "                   [-78.618, 35.959]]);\n",
    "\n",
    "#Create a Feature from the Geometry.\n",
    "forest4 = ee.Feature(polygon, {'class': 4, 'name': 'forest4'});\n",
    "Map.addLayer(forest4, {'fill_color':'green', 'outline': 1}, name='forest4')\n",
    "Map"
   ]
  },
  {
   "cell_type": "code",
   "execution_count": 9,
   "id": "cad65eb3-a6e7-4c7b-bbcd-549b70e2de1c",
   "metadata": {},
   "outputs": [
    {
     "data": {
      "application/vnd.jupyter.widget-view+json": {
       "model_id": "3072857133dd4df485d46bad69327750",
       "version_major": 2,
       "version_minor": 0
      },
      "text/plain": [
       "Map(bottom=103421.0, center=[35.799336436832874, -78.78645704174697], controls=(WidgetControl(options=['positi…"
      ]
     },
     "metadata": {},
     "output_type": "display_data"
    }
   ],
   "source": [
    "# FOR Open Area/Grass: \\\n",
    "\n",
    "#First Grass\n",
    "polygon = Map.user_roi\n",
    "\n",
    "# Or you can enter defined coordinates as the commented lines below.\n",
    "# // Create an ee.Geometry.\n",
    "polygon = ee.Geometry.Polygon([\n",
    "                   [-78.775, 35.866],\n",
    "                   [-78.771, 35.868],\n",
    "                   [-78.767, 35.864],\n",
    "                   [-78.770, 35.862]]);\n",
    "\n",
    "#Create a Feature from the Geometry.\n",
    "grass = ee.Feature(polygon, {'class': 5, 'name': 'grass'});\n",
    "Map.addLayer(grass, {'fill_color':'lightgreen', 'outline': 1}, name='grass')\n",
    "\n",
    "# Second Grass\n",
    "polygon = Map.user_roi\n",
    "\n",
    "# // Create an ee.Geometry.\n",
    "polygon = ee.Geometry.Polygon([\n",
    "                   [-78.719, 35.817],\n",
    "                   [-78.715, 35.814],\n",
    "                   [-78.719, 35.811],\n",
    "                   [-78.721, 35.813]]);\n",
    "\n",
    "#Create a Feature from the Geometry.\n",
    "grass2 = ee.Feature(polygon, {'class': 5, 'name': 'grass2'});\n",
    "Map.addLayer(grass2, {'fill_color':'lightgreen', 'outline': 1}, name='grass2')\n",
    "\n",
    "\n",
    "# Third Grass\n",
    "polygon = Map.user_roi\n",
    "\n",
    "# // Create an ee.Geometry.\n",
    "polygon = ee.Geometry.Polygon([\n",
    "                   [-78.501, 36.036],\n",
    "                   [-78.497, 36.034],\n",
    "                   [-78.499, 36.032],\n",
    "                   [-78.505, 36.031]]);\n",
    "\n",
    "#Create a Feature from the Geometry.\n",
    "grass3 = ee.Feature(polygon, {'class': 5, 'name': 'grass3'});\n",
    "Map.addLayer(grass3, {'fill_color':'lightgreen', 'outline': 1}, name='grass3')\n",
    "\n",
    "\n",
    "# Fourth Grass\n",
    "polygon = Map.user_roi\n",
    "\n",
    "# // Create an ee.Geometry.\n",
    "polygon = ee.Geometry.Polygon([\n",
    "                   [-78.683, 35.730],\n",
    "                   [-78.679, 35.730],\n",
    "                   [-78.680, 35.725],\n",
    "                   [-78.683, 35.725]]);\n",
    "\n",
    "#Create a Feature from the Geometry.\n",
    "grass4 = ee.Feature(polygon, {'class': 5, 'name': 'grass4'});\n",
    "Map.addLayer(grass4, {'fill_color':'lightgreen', 'outline': 1}, name='grass4')\n",
    "Map"
   ]
  },
  {
   "cell_type": "markdown",
   "id": "a147cf51-5198-4662-ad4e-8c4bcd0bd3dd",
   "metadata": {},
   "source": [
    "# Train Computer to recognize land use areas"
   ]
  },
  {
   "cell_type": "code",
   "execution_count": 10,
   "id": "8c7c6f6e-92a1-48aa-97cf-337a8df34214",
   "metadata": {},
   "outputs": [],
   "source": [
    "trainingFeatures = ee.FeatureCollection([building, building2, building3, building4, building5, building6, building7, \n",
    "                                         road, road2, road3, road4, road5, \n",
    "                                         farmland, farmland2, farmland3, farmland4, farmland5, \n",
    "                                         water, water2, water3,\n",
    "                                        forest, forest2, forest3, forest4,\n",
    "                                        grass, grass2, grass3, grass4])"
   ]
  },
  {
   "cell_type": "code",
   "execution_count": 11,
   "id": "e19bbdcc-d396-4e28-92e8-5d016cf8e71d",
   "metadata": {},
   "outputs": [],
   "source": [
    "predictionBands = ['SR_B3', 'SR_B2', 'SR_B1', 'SR_B4', 'SR_B5', 'SR_B7']"
   ]
  },
  {
   "cell_type": "code",
   "execution_count": null,
   "id": "278251d5-c862-4a25-8cb2-f89ba025fe5f",
   "metadata": {},
   "outputs": [],
   "source": [
    "print(trainingFeatures.first().getInfo())"
   ]
  },
  {
   "cell_type": "code",
   "execution_count": 12,
   "id": "94078574-6c96-49e8-84d0-035ffa273f3e",
   "metadata": {},
   "outputs": [],
   "source": [
    "classifierTraining = im2016.select(predictionBands).sampleRegions(\n",
    "      collection= trainingFeatures, \n",
    "      properties= ['class'], \n",
    "      scale= 30\n",
    "    );"
   ]
  },
  {
   "cell_type": "code",
   "execution_count": 13,
   "id": "d391adc6-938a-4416-b0fd-073c468e080e",
   "metadata": {},
   "outputs": [],
   "source": [
    "# // Randomly split the data into 60% for training, and 40% for testing\n",
    "trainingTesting = classifierTraining.randomColumn('random',111009);\n",
    "\n",
    "training = trainingTesting.filter(ee.Filter.lt('random', 0.66));\n",
    "\n",
    "testing = trainingTesting.filter(ee.Filter.gte('random', 0.66));"
   ]
  },
  {
   "cell_type": "markdown",
   "id": "359375d7-30cf-443a-bd5b-f9eaf41fe027",
   "metadata": {},
   "source": [
    "## Random Tree Classification"
   ]
  },
  {
   "cell_type": "code",
   "execution_count": 18,
   "id": "ed49fe42-1d88-4f0b-b4ad-607a1b4b8560",
   "metadata": {},
   "outputs": [],
   "source": [
    "# RANDOM TREES\n",
    "\n",
    "# hyperparameter to tune\n",
    "trees_val=17\n",
    "\n",
    "rfClassification = ee.Classifier.smileRandomForest(numberOfTrees=trees_val, seed=111009).train(\n",
    "      features= training, \n",
    "      classProperty= 'class', \n",
    "      inputProperties= predictionBands\n",
    "    )"
   ]
  },
  {
   "cell_type": "code",
   "execution_count": 19,
   "id": "8f644335-a4c4-4e33-bf94-3cc71c7ddb85",
   "metadata": {},
   "outputs": [
    {
     "data": {
      "application/vnd.jupyter.widget-view+json": {
       "model_id": "3072857133dd4df485d46bad69327750",
       "version_major": 2,
       "version_minor": 0
      },
      "text/plain": [
       "Map(bottom=413032.0, center=[35.72979186282795, -78.60288619995117], controls=(WidgetControl(options=['positio…"
      ]
     },
     "metadata": {},
     "output_type": "display_data"
    }
   ],
   "source": [
    "# // Perform the RF regression on the landsat image\n",
    "rfClassificationImage = im2016.select(predictionBands).classify(rfClassification);\n",
    "    \n",
    "# // Visualize the RF regression\n",
    "Map.addLayer(rfClassificationImage,  {'min': 0, 'max': 5,\n",
    "                                   'palette':['pink','grey','yellow','blue','green','lightgreen']}, 'RF classification');\n",
    "\n",
    "Map"
   ]
  },
  {
   "cell_type": "markdown",
   "id": "ab29fe5a-aa6a-4329-8b74-f8a3a52374b4",
   "metadata": {},
   "source": [
    "## Random Forest Accuracy"
   ]
  },
  {
   "cell_type": "code",
   "execution_count": 20,
   "id": "808bdd20-e269-4162-acc6-b9ff7c1133e7",
   "metadata": {},
   "outputs": [
    {
     "name": "stdout",
     "output_type": "stream",
     "text": [
      "ConfusionMatrix\n",
      "[[ 166   11    1    0    0    3]\n",
      " [   1  135    2    0   23   12]\n",
      " [   0    3  210    0    6   17]\n",
      " [   0    1    0 1937    0    0]\n",
      " [   0   12    7    1 2129    4]\n",
      " [  15    9   36    0   18  219]]\n",
      "Overall Accuracy: 0.963439132181599\n",
      "Producers Accuracy: [[0.9171270718232044], [0.7803468208092486], [0.8898305084745762], [0.999484004127967], [0.9888527635856944], [0.7373737373737373]]\n",
      "Consumers Accuracy: [[0.9120879120879121, 0.7894736842105263, 0.8203125, 0.999484004127967, 0.9784007352941176, 0.8588235294117647]]\n",
      "Kappa: 0.9438700217259907\n"
     ]
    }
   ],
   "source": [
    "# // Perform the RF classification on the test set\n",
    "\n",
    "# print(test.first().getInfo())\n",
    "# // Get a confusion matrix representing expected accuracy.\n",
    "test=testing.classify(rfClassification)\n",
    "testAccuracy = test.errorMatrix('class', 'classification');\n",
    "\n",
    "import numpy as np\n",
    "errormaxtrix=np.array(testAccuracy.array().getInfo())\n",
    "\n",
    "print(testAccuracy.name());\n",
    "print(errormaxtrix)\n",
    "print('Overall Accuracy:', testAccuracy.accuracy().getInfo());\n",
    "print('Producers Accuracy:', testAccuracy.producersAccuracy().getInfo());\n",
    "print('Consumers Accuracy:', testAccuracy.consumersAccuracy().getInfo());\n",
    "print('Kappa:', testAccuracy.kappa().getInfo());"
   ]
  },
  {
   "cell_type": "markdown",
   "id": "7fb7eb39-c4ba-447d-8a1d-9441108f2430",
   "metadata": {},
   "source": [
    "# Figure out how many 'trees' are best for RF Classification"
   ]
  },
  {
   "cell_type": "code",
   "execution_count": 17,
   "id": "23f3c2c9-e87d-4306-be4c-9ce8ec9f9467",
   "metadata": {},
   "outputs": [
    {
     "data": {
      "image/png": "[encoded data removed]",
      "text/plain": [
       "<Figure size 432x288 with 1 Axes>"
      ]
     },
     "metadata": {
      "needs_background": "light"
     },
     "output_type": "display_data"
    }
   ],
   "source": [
    "numTrees = ee.List.sequence(1, 20, 1)\n",
    "\n",
    "\n",
    "def trees(t):\n",
    "    rfclass = ee.Classifier.smileRandomForest(numberOfTrees=t, seed=111009).train(\n",
    "    features= training, \n",
    "    classProperty= 'class', \n",
    "    inputProperties= predictionBands)\n",
    "    \n",
    "    rfTesting = testing.classify(rfclass)\n",
    "    testAccuracy = rfTesting.errorMatrix('class', 'classification');\n",
    "    kappa= testAccuracy.kappa();       \n",
    "    return kappa\n",
    "\n",
    "\n",
    "kappa_trees=numTrees.map(trees)\n",
    "value_info = kappa_trees.getInfo()\n",
    "\n",
    "# print(rmse_trees.getInfo())\n",
    "\n",
    "import pandas as pd\n",
    "df =pd.DataFrame(value_info,columns=['kappa'])\n",
    "df['numTrees'] = numTrees.getInfo() \n",
    "\n",
    "ax =df.plot.line(x='numTrees', \n",
    "             y='kappa',\n",
    "             title= 'Impact of Number of Trees in Random Forest'\n",
    "             )\n",
    "ax.grid()"
   ]
  },
  {
   "cell_type": "markdown",
   "id": "a0d92bf1-8544-4b6d-9ee1-320c5032e727",
   "metadata": {},
   "source": [
    "## Add Legend to map"
   ]
  },
  {
   "cell_type": "code",
   "execution_count": null,
   "id": "ded72153-5eca-4a45-9498-1f1ef1a217a3",
   "metadata": {},
   "outputs": [],
   "source": [
    "#Define the legend labels and colors\n",
    "legend_dict = {\n",
    "    'buildings': '#ff69b4',\n",
    "    'roads': '#808080',\n",
    "    'farmland': '#ffff00',\n",
    "    'water': '#0000ff',\n",
    "    'forest': '#008000',\n",
    "    'grass': '#90ee90',\n",
    "}\n",
    "\n",
    "# Add the legend to the map\n",
    "Map.add_legend(legend_title='Legend', legend_dict=legend_dict)\n",
    "\n",
    "# Display the map\n",
    "Map"
   ]
  },
  {
   "cell_type": "markdown",
   "id": "6eb87830-860a-4a10-9d7c-2a211176f3e4",
   "metadata": {},
   "source": [
    "## Zonal Statistics"
   ]
  },
  {
   "cell_type": "code",
   "execution_count": 21,
   "id": "1b540dc4-82fe-4936-827b-79b303ded8f6",
   "metadata": {},
   "outputs": [
    {
     "name": "stdout",
     "output_type": "stream",
     "text": [
      "Total area by class:\n",
      "{'groups': [{'class': 0, 'sum': 80553349.80209984}, {'class': 1, 'sum': 427389609.98742884}, {'class': 2, 'sum': 271942196.9989421}, {'class': 3, 'sum': 126050429.84723713}, {'class': 4, 'sum': 2284832958.9359803}, {'class': 5, 'sum': 409226647.55671763}]}\n"
     ]
    }
   ],
   "source": [
    "import ee\n",
    "areaImage = ee.Image.pixelArea().addBands(\n",
    "      rfClassificationImage)\n",
    "areas = areaImage.reduceRegion(**{\n",
    "    'reducer': ee.Reducer.sum().group(**{'groupField': 1, 'groupName': 'class'}),\n",
    "    'geometry': rfClassificationImage.geometry(),\n",
    "    'scale': 30,\n",
    "    'maxPixels': 1e10\n",
    "})\n",
    " \n",
    "# Print the results\n",
    "print('Total area by class:')\n",
    "print(areas.getInfo())"
   ]
  },
  {
   "cell_type": "markdown",
   "id": "38ecaf59-b7e1-4032-bce0-0c1280ee87ae",
   "metadata": {
    "tags": []
   },
   "source": [
    "## Convert to CSV Format"
   ]
  },
  {
   "cell_type": "code",
   "execution_count": 22,
   "id": "9ddf21c3-7b59-4841-9da8-95711460ce87",
   "metadata": {},
   "outputs": [
    {
     "name": "stdout",
     "output_type": "stream",
     "text": [
      "class,sum\n",
      "0,80553349.80209984\n",
      "1,427389609.98742884\n",
      "2,271942196.9989421\n",
      "3,126050429.84723713\n",
      "4,2284832958.9359803\n",
      "5,409226647.55671763\n",
      "\n"
     ]
    }
   ],
   "source": [
    "import pandas as pd\n",
    "# Convert the result to a pandas DataFrame\n",
    "df = pd.DataFrame(areas.getInfo()['groups'])\n",
    "\n",
    "# Print the DataFrame\n",
    "print(df.to_csv(index=False))"
   ]
  },
  {
   "cell_type": "code",
   "execution_count": null,
   "id": "cc272fbd-9dd3-4981-b8ce-760ba589240b",
   "metadata": {},
   "outputs": [],
   "source": []
  }
 ],
 "metadata": {
  "kernelspec": {
   "display_name": "Python 3 (ipykernel)",
   "language": "python",
   "name": "python3"
  },
  "language_info": {
   "codemirror_mode": {
    "name": "ipython",
    "version": 3
   },
   "file_extension": ".py",
   "mimetype": "text/x-python",
   "name": "python",
   "nbconvert_exporter": "python",
   "pygments_lexer": "ipython3",
   "version": "3.9.7"
  }
 },
 "nbformat": 4,
 "nbformat_minor": 5
}
