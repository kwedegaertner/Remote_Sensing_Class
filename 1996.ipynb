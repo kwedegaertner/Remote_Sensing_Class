{
 "cells": [
  {
   "cell_type": "markdown",
   "id": "982a4fac-4fbc-485d-abab-6cb74f8fcfc2",
   "metadata": {
    "tags": []
   },
   "source": [
    "## 1. Calling geemap"
   ]
  },
  {
   "cell_type": "code",
   "execution_count": 1,
   "id": "e454779a-713e-4899-8d7f-a7ae43d0053f",
   "metadata": {},
   "outputs": [],
   "source": [
    "import ee\n",
    "ee.Initialize()\n",
    "import os\n",
    "import geemap\n",
    "Map = geemap.Map()"
   ]
  },
  {
   "cell_type": "markdown",
   "id": "faed09dc-f2a1-43aa-adb6-cb49c38be7a9",
   "metadata": {},
   "source": [
    "## 2. Define the POI ( Triangle Region of NC: Durham, Wake, and Orange Counties)"
   ]
  },
  {
   "cell_type": "code",
   "execution_count": 3,
   "id": "8ca1e061-09df-4792-a083-fba2f5f4d2c0",
   "metadata": {},
   "outputs": [
    {
     "name": "stdout",
     "output_type": "stream",
     "text": [
      "{'type': 'Point', 'coordinates': [-79.055847, 35.9132]}\n",
      "Total area of AOI: 3473740563.07451 square meters\n"
     ]
    }
   ],
   "source": [
    "# Define the rectangle geometry\n",
    "latitude = 35.913200\n",
    "longitude= -79.055847\n",
    "rtp = ee.Geometry.Point([longitude, latitude])\n",
    "\n",
    "# define ROI\n",
    "roi = ee.Geometry.Polygon(\n",
    "    [\n",
    "        [\n",
    "            [-79.127376, 36.058690], \n",
    "            [-78.439375, 36.058690], \n",
    "            [-78.439375, 35.541565], \n",
    "            [-79.139617, 35.541565], \n",
    "                        \n",
    "        ]\n",
    "    ],\n",
    "    None,\n",
    "    False,\n",
    ")\n",
    "\n",
    "# Print the geometry to check it\n",
    "print(rtp.getInfo())\n",
    "\n",
    "# Get the pixel area image\n",
    "pixelArea = ee.Image.pixelArea()\n",
    "\n",
    "# Calculate the total area of the AOI in square meters\n",
    "totalArea = pixelArea.reduceRegion(\n",
    "  reducer=ee.Reducer.sum(),\n",
    "  geometry=roi,\n",
    "  scale=roi.projection().nominalScale(),\n",
    "  maxPixels=1e13\n",
    ").get('area')\n",
    "\n",
    "print('Total area of AOI:', totalArea.getInfo(), 'square meters')"
   ]
  },
  {
   "cell_type": "code",
   "execution_count": null,
   "id": "89ab19b9-d02e-4a2d-acfe-cd81eb0cf513",
   "metadata": {},
   "outputs": [],
   "source": []
  },
  {
   "cell_type": "markdown",
   "id": "bbcadc45-c54c-4a96-84d4-2a06bf76b90d",
   "metadata": {},
   "source": [
    "## 3. Calling Satellites "
   ]
  },
  {
   "cell_type": "markdown",
   "id": "e1e6894d-8f48-4337-9e65-a2168930bbe9",
   "metadata": {},
   "source": [
    "## Landsat"
   ]
  },
  {
   "cell_type": "markdown",
   "id": "07d39d5b-1403-4bc4-bc22-fffa547404d4",
   "metadata": {},
   "source": [
    "## Call first year (1996). This image will be used to train the model"
   ]
  },
  {
   "cell_type": "code",
   "execution_count": 5,
   "id": "7fe50855-7156-492d-b8a1-aed9ce2ab8d5",
   "metadata": {},
   "outputs": [
    {
     "data": {
      "application/vnd.jupyter.widget-view+json": {
       "model_id": "6712c4f8966e41989fb8645f991d3563",
       "version_major": 2,
       "version_minor": 0
      },
      "text/plain": [
       "Map(bottom=103482.0, center=[35.799336436832874, -78.78645704174697], controls=(WidgetControl(options=['positi…"
      ]
     },
     "metadata": {},
     "output_type": "display_data"
    }
   ],
   "source": [
    "#1996\n",
    "landsat = ee.ImageCollection(\"LANDSAT/LT05/C02/T1_L2\")\n",
    "landsatImage = landsat.filterDate('1996-07-01', '1996-07-30').filterBounds(rtp)\n",
    "landsatImage = landsatImage.sort('CLOUD_COVER')\n",
    "\n",
    "landsatBands = ['SR_B3', 'SR_B2', 'SR_B1']\n",
    "im1996=landsatImage.first()\n",
    "im1996 = im1996.select('SR_B.').multiply(0.0000275).add(-0.2)\n",
    "\n",
    "im1996=im1996.clip(roi)\n",
    "\n",
    "\n",
    "Map.addLayer(im1996, {'bands': ['SR_B3', 'SR_B2', 'SR_B1'],'min': 0.0, 'max': 0.3}, name='1996')\n",
    "# Map = geemap.Map(center=(lon, lat), zoom=10) this command is creating a new map\n",
    "Map.centerObject(im1996, 10)\n",
    "Map"
   ]
  },
  {
   "cell_type": "markdown",
   "id": "66a4e686-f85e-4130-8bb2-07b0af946d1a",
   "metadata": {},
   "source": [
    "## Make Polygons around Land Use Areas"
   ]
  },
  {
   "cell_type": "code",
   "execution_count": 7,
   "id": "41678fee-3476-4db6-9578-9b9faa6b5a47",
   "metadata": {},
   "outputs": [
    {
     "data": {
      "application/vnd.jupyter.widget-view+json": {
       "model_id": "6712c4f8966e41989fb8645f991d3563",
       "version_major": 2,
       "version_minor": 0
      },
      "text/plain": [
       "Map(bottom=412750.0, center=[35.808347191214935, -78.60958099365236], controls=(WidgetControl(options=['positi…"
      ]
     },
     "metadata": {},
     "output_type": "display_data"
    }
   ],
   "source": [
    "# FOR Buildings: \\\n",
    "# how I did this: \n",
    "# 1. I zoomed into the Landsat image to a building area\n",
    "# 2. Click on the polygon icon of the left, and define an area with points, forming a closed polygon\n",
    "# 3. Run this cell. The last draw polygon is stored in \"Map.user_roi\"\n",
    "polygon = Map.user_roi\n",
    "\n",
    "# Or you can enter defined coordinates as the commented lines below.\n",
    "# // Create an ee.Geometry.\n",
    "polygon = ee.Geometry.Polygon([\n",
    "                   [-78.6828, 35.8410],\n",
    "                   [-78.6812, 35.8422],\n",
    "                   [-78.6779, 35.8398],\n",
    "                   [-78.6799, 35.8386]]);\n",
    "\n",
    "#Create a Feature from the Geometry.\n",
    "building = ee.Feature(polygon, {'class': 0, 'name': 'building'});\n",
    "Map.addLayer(building, {'fill_color':'pink', 'outline': 1}, name='building')\n",
    "\n",
    "\n",
    "#Second building\n",
    "polygon = Map.user_roi\n",
    "\n",
    "# // Create an ee.Geometry.\n",
    "polygon = ee.Geometry.Polygon([\n",
    "                   [-78.9599, 35.9666],\n",
    "                   [-78.9568, 35.9677],\n",
    "                   [-78.9562, 35.9671],\n",
    "                   [-78.9596, 35.9659]]);\n",
    "                   \n",
    "\n",
    "# // Create a Feature from the Geometry.\n",
    "building2 = ee.Feature(polygon, {'class': 0, 'name': 'building2'});\n",
    "Map.addLayer(building2, {'fill_color':'pink', 'outline': 1}, name='building2')\n",
    "\n",
    "\n",
    "\n",
    "#Third building\n",
    "polygon = Map.user_roi\n",
    "\n",
    "# // Create an ee.Geometry.\n",
    "polygon = ee.Geometry.Polygon([\n",
    "                   [-78.6135, 35.8244],\n",
    "                   [-78.6120, 35.8238],\n",
    "                   [-78.6129, 35.8229],\n",
    "                   [-78.6143, 35.8237]]);\n",
    "                   \n",
    "\n",
    "# // Create a Feature from the Geometry.\n",
    "building3 = ee.Feature(polygon, {'class': 0, 'name': 'building3'});\n",
    "Map.addLayer(building3, {'fill_color':'pink', 'outline': 1}, name='building3')\n",
    "\n",
    "\n",
    "\n",
    "#Fourth building\n",
    "polygon = Map.user_roi\n",
    "\n",
    "# // Create an ee.Geometry.\n",
    "polygon = ee.Geometry.Polygon([\n",
    "                   [-78.8101, 35.8387],\n",
    "                   [-78.8066, 35.8373],\n",
    "                   [-78.8074, 35.8362],\n",
    "                   [-78.8107, 35.8375]]);\n",
    "                   \n",
    "\n",
    "# // Create a Feature from the Geometry.\n",
    "building4 = ee.Feature(polygon, {'class': 0, 'name': 'building4'});\n",
    "Map.addLayer(building4, {'fill_color':'pink', 'outline': 1}, name='building4')\n",
    "\n",
    "\n",
    "#Fifth building\n",
    "polygon = Map.user_roi\n",
    "\n",
    "# // Create an ee.Geometry.\n",
    "polygon = ee.Geometry.Polygon([\n",
    "                   [-78.872, 35.971],\n",
    "                   [-78.870, 35.970],\n",
    "                   [-78.872, 35.963],\n",
    "                   [-78.875, 35.963]]);\n",
    "                   \n",
    "\n",
    "# // Create a Feature from the Geometry.\n",
    "building5 = ee.Feature(polygon, {'class': 0, 'name': 'building5'});\n",
    "Map.addLayer(building5, {'fill_color':'pink', 'outline': 1}, name='building5')\n",
    "\n",
    "\n",
    "#Sixth building\n",
    "polygon = Map.user_roi\n",
    "\n",
    "# // Create an ee.Geometry.\n",
    "polygon = ee.Geometry.Polygon([\n",
    "                   [-78.848, 35.871],\n",
    "                   [-78.845, 35.871],\n",
    "                   [-78.845, 35.869],\n",
    "                   [-78.848, 35.869]]);\n",
    "                   \n",
    "\n",
    "# // Create a Feature from the Geometry.\n",
    "building6 = ee.Feature(polygon, {'class': 0, 'name': 'building6'});\n",
    "Map.addLayer(building6, {'fill_color':'pink', 'outline': 1}, name='building6')\n",
    "\n",
    "\n",
    "#Seventh building\n",
    "polygon = Map.user_roi\n",
    "\n",
    "# // Create an ee.Geometry.\n",
    "polygon = ee.Geometry.Polygon([\n",
    "                   [-78.855, 35.917],\n",
    "                   [-78.854, 35.916],\n",
    "                   [-78.856, 35.915],\n",
    "                   [-78.857, 35.915]]);\n",
    "                   \n",
    "\n",
    "# // Create a Feature from the Geometry.\n",
    "building7 = ee.Feature(polygon, {'class': 0, 'name': 'building7'});\n",
    "Map.addLayer(building7, {'fill_color':'pink', 'outline': 1}, name='building7')\n",
    "\n",
    "#Eighth building\n",
    "polygon = Map.user_roi\n",
    "\n",
    "# // Create an ee.Geometry.\n",
    "polygon = ee.Geometry.Polygon([\n",
    "                   [-78.799, 35.871],\n",
    "                   [-78.790, 35.877],\n",
    "                   [-78.787, 35.876],\n",
    "                   [-78.795, 35.869]]);\n",
    "                   \n",
    "\n",
    "# // Create a Feature from the Geometry.\n",
    "building8 = ee.Feature(polygon, {'class': 0, 'name': 'building8'});\n",
    "Map.addLayer(building8, {'fill_color':'pink', 'outline': 1}, name='building8')\n",
    "Map\n"
   ]
  },
  {
   "cell_type": "code",
   "execution_count": 9,
   "id": "ae9b987e-eaa7-4a63-914e-51e18bf9a21f",
   "metadata": {},
   "outputs": [
    {
     "data": {
      "application/vnd.jupyter.widget-view+json": {
       "model_id": "6712c4f8966e41989fb8645f991d3563",
       "version_major": 2,
       "version_minor": 0
      },
      "text/plain": [
       "Map(bottom=103407.0, center=[35.81447235785307, -78.67858886718751], controls=(WidgetControl(options=['positio…"
      ]
     },
     "metadata": {},
     "output_type": "display_data"
    }
   ],
   "source": [
    "# FOR Roads: \\\n",
    "\n",
    "#First Road\n",
    "polygon = Map.user_roi\n",
    "\n",
    "# // Create an ee.Geometry.\n",
    "polygon = ee.Geometry.Polygon([\n",
    "                   [-78.737, 35.767],\n",
    "                   [-78.736, 35.767],\n",
    "                   [-78.733, 35.764],\n",
    "                   [-78.735, 35.763]]);\n",
    "\n",
    "#Create a Feature from the Geometry.\n",
    "road = ee.Feature(polygon, {'class': 1, 'name': 'road'});\n",
    "Map.addLayer(road, {'fill_color':'grey', 'outline': 1}, name='road')\n",
    "\n",
    "\n",
    "#Second road\n",
    "polygon = Map.user_roi\n",
    "\n",
    "# // Create an ee.Geometry.\n",
    "polygon = ee.Geometry.Polygon([\n",
    "                   [-78.910, 35.908],\n",
    "                   [-78.901, 35.908],\n",
    "                   [-78.901, 35.907],\n",
    "                   [-78.909, 35.908]]);\n",
    "                   \n",
    "\n",
    "# // Create a Feature from the Geometry.\n",
    "road2 = ee.Feature(polygon, {'class': 1, 'name': 'road2'});\n",
    "Map.addLayer(road2, {'fill_color':'grey', 'outline': 1}, name='road2')\n",
    "\n",
    "\n",
    "#Third road\n",
    "polygon = Map.user_roi\n",
    "\n",
    "# // Create an ee.Geometry.\n",
    "polygon = ee.Geometry.Polygon([\n",
    "                   [-78.594, 35.747],\n",
    "                   [-78.593, 35.747],\n",
    "                   [-78.586, 35.730],\n",
    "                   [-78.587, 35.730]]);\n",
    "                   \n",
    "\n",
    "# // Create a Feature from the Geometry.\n",
    "road3 = ee.Feature(polygon, {'class': 1, 'name': 'road3'});\n",
    "Map.addLayer(road3, {'fill_color':'grey', 'outline': 1}, name='road3')\n",
    "\n",
    "\n",
    "#Fourth road\n",
    "polygon = Map.user_roi\n",
    "\n",
    "# // Create an ee.Geometry.\n",
    "polygon = ee.Geometry.Polygon([\n",
    "                   [-78.761, 35.830],\n",
    "                   [-78.760, 35.830],\n",
    "                   [-78.743, 35.821],\n",
    "                   [-78.744, 35.820]]);\n",
    "                   \n",
    "\n",
    "# // Create a Feature from the Geometry.\n",
    "road4 = ee.Feature(polygon, {'class': 1, 'name': 'road4'});\n",
    "Map.addLayer(road4, {'fill_color':'grey', 'outline': 1}, name='road4')\n",
    "\n",
    "\n",
    "#Fifth road\n",
    "polygon = Map.user_roi\n",
    "\n",
    "# // Create an ee.Geometry.\n",
    "polygon = ee.Geometry.Polygon([\n",
    "                   [-78.665, 35.758],\n",
    "                   [-78.663, 35.758],\n",
    "                   [-78.663, 35.757],\n",
    "                   [-78.665, 35.757]]);\n",
    "                   \n",
    "\n",
    "# // Create a Feature from the Geometry.\n",
    "road5 = ee.Feature(polygon, {'class': 1, 'name': 'road5'});\n",
    "Map.addLayer(road5, {'fill_color':'grey', 'outline': 1}, name='road5')\n",
    "Map"
   ]
  },
  {
   "cell_type": "code",
   "execution_count": 10,
   "id": "c1cb69c5-d64f-43bc-adf6-c2d65275440e",
   "metadata": {},
   "outputs": [
    {
     "data": {
      "application/vnd.jupyter.widget-view+json": {
       "model_id": "6712c4f8966e41989fb8645f991d3563",
       "version_major": 2,
       "version_minor": 0
      },
      "text/plain": [
       "Map(bottom=103407.0, center=[35.81447235785307, -78.67858886718751], controls=(WidgetControl(options=['positio…"
      ]
     },
     "metadata": {},
     "output_type": "display_data"
    }
   ],
   "source": [
    "# FOR Agricultural Fields: \\\n",
    "\n",
    "# First farmland\n",
    "polygon = Map.user_roi\n",
    "\n",
    "\n",
    "# // Create an ee.Geometry.\n",
    "polygon = ee.Geometry.Polygon([\n",
    "                   [-78.706, 35.584],\n",
    "                   [-78.702, 35.587],\n",
    "                   [-78.702, 35.583],\n",
    "                   [-78.704, 35.582]]);\n",
    "\n",
    "#Create a Feature from the Geometry.\n",
    "farmland = ee.Feature(polygon, {'class': 2, 'name': 'farmland'});\n",
    "Map.addLayer(farmland, {'fill_color':'yellow', 'outline': 1}, name='farmland')\n",
    "\n",
    "\n",
    "#Second farmland\n",
    "polygon = Map.user_roi\n",
    "\n",
    "# // Create an ee.Geometry.\n",
    "polygon = ee.Geometry.Polygon([\n",
    "                   [-78.661, 35.640],\n",
    "                   [-78.656, 35.640],\n",
    "                   [-78.656, 35.635],\n",
    "                   [-78.661, 35.635]]);\n",
    "\n",
    "#Create a Feature from the Geometry.\n",
    "farmland2 = ee.Feature(polygon, {'class': 2, 'name': 'farmland2'});\n",
    "Map.addLayer(farmland2, {'fill_color':'yellow', 'outline': 1}, name='farmland2')\n",
    "\n",
    "\n",
    "#Third farmland\n",
    "polygon = Map.user_roi\n",
    "\n",
    "# // Create an ee.Geometry.\n",
    "polygon = ee.Geometry.Polygon([\n",
    "                   [-78.682, 35.556],\n",
    "                   [-78.678, 35.552],\n",
    "                   [-78.680, 35.551],\n",
    "                   [-78.683, 35.554]]);\n",
    "\n",
    "#Create a Feature from the Geometry.\n",
    "farmland3 = ee.Feature(polygon, {'class': 2, 'name': 'farmland3'});\n",
    "Map.addLayer(farmland3, {'fill_color':'yellow', 'outline': 1}, name='farmland3')\n",
    "\n",
    "\n",
    "#Fourth farmland\n",
    "polygon = Map.user_roi\n",
    "\n",
    "# // Create an ee.Geometry.\n",
    "polygon = ee.Geometry.Polygon([\n",
    "                   [-78.832, 35.599],\n",
    "                   [-78.828, 35.601],\n",
    "                   [-78.827, 35.598],\n",
    "                   [-78.829, 35.597]]);\n",
    "\n",
    "#Create a Feature from the Geometry.\n",
    "farmland4 = ee.Feature(polygon, {'class': 2, 'name': 'farmland4'});\n",
    "Map.addLayer(farmland4, {'fill_color':'yellow', 'outline': 1}, name='farmland4')\n",
    "\n",
    "\n",
    "#Fifth farmland\n",
    "polygon = Map.user_roi\n",
    "\n",
    "# // Create an ee.Geometry.\n",
    "polygon = ee.Geometry.Polygon([\n",
    "                   [-78.821, 35.573],\n",
    "                   [-78.819, 35.573],\n",
    "                   [-78.819, 35.570],\n",
    "                   [-78.821, 35.570]]);\n",
    "\n",
    "#Create a Feature from the Geometry.\n",
    "farmland5 = ee.Feature(polygon, {'class': 2, 'name': 'farmland5'});\n",
    "Map.addLayer(farmland5, {'fill_color':'yellow', 'outline': 1}, name='farmland5')\n",
    "\n",
    "Map"
   ]
  },
  {
   "cell_type": "code",
   "execution_count": 11,
   "id": "30e5d01d-82da-4c70-8262-a4aa459a9ec3",
   "metadata": {},
   "outputs": [
    {
     "data": {
      "application/vnd.jupyter.widget-view+json": {
       "model_id": "6712c4f8966e41989fb8645f991d3563",
       "version_major": 2,
       "version_minor": 0
      },
      "text/plain": [
       "Map(bottom=103407.0, center=[35.81447235785307, -78.67858886718751], controls=(WidgetControl(options=['positio…"
      ]
     },
     "metadata": {},
     "output_type": "display_data"
    }
   ],
   "source": [
    "# FOR Water: \\\n",
    "\n",
    "#First Water\n",
    "polygon = Map.user_roi\n",
    "\n",
    "# Or you can enter defined coordinates as the commented lines below.\n",
    "# // Create an ee.Geometry.\n",
    "polygon = ee.Geometry.Polygon([\n",
    "                   [-79.001, 35.816],\n",
    "                   [-78.987, 35.808],\n",
    "                   [-79.002, 35.794],\n",
    "                   [-79.008, 35.802]]);\n",
    "\n",
    "#Create a Feature from the Geometry.\n",
    "water = ee.Feature(polygon, {'class': 3, 'name': 'water'});\n",
    "Map.addLayer(water, {'fill_color':'blue', 'outline': 1}, name='water')\n",
    "\n",
    "#Second Water\n",
    "polygon = Map.user_roi\n",
    "\n",
    "# // Create an ee.Geometry.\n",
    "polygon = ee.Geometry.Polygon([\n",
    "                   [-78.725, 36.034],\n",
    "                   [-78.709, 36.034],\n",
    "                   [-78.709, 36.017],\n",
    "                   [-78.719, 36.017]]);\n",
    "\n",
    "#Create a Feature from the Geometry.\n",
    "water2 = ee.Feature(polygon, {'class': 3, 'name': 'water2'});\n",
    "Map.addLayer(water2, {'fill_color':'blue', 'outline': 1}, name='water2')\n",
    "\n",
    "\n",
    "#Third Water\n",
    "polygon = Map.user_roi\n",
    "\n",
    "# // Create an ee.Geometry.\n",
    "polygon = ee.Geometry.Polygon([\n",
    "                   [-78.804, 35.838],\n",
    "                   [-78.788, 35.838],\n",
    "                   [-78.788, 35.834],\n",
    "                   [-78.804, 35.834]]);\n",
    "\n",
    "#Create a Feature from the Geometry.\n",
    "water3 = ee.Feature(polygon, {'class': 3, 'name': 'water3'});\n",
    "Map.addLayer(water3, {'fill_color':'blue', 'outline': 1}, name='water3')\n",
    "\n",
    "Map"
   ]
  },
  {
   "cell_type": "code",
   "execution_count": 12,
   "id": "ce7de835-904f-483c-9971-0b836fdc9b5e",
   "metadata": {},
   "outputs": [
    {
     "data": {
      "application/vnd.jupyter.widget-view+json": {
       "model_id": "6712c4f8966e41989fb8645f991d3563",
       "version_major": 2,
       "version_minor": 0
      },
      "text/plain": [
       "Map(bottom=103408.0, center=[35.81335872633351, -78.5687255859375], controls=(WidgetControl(options=['position…"
      ]
     },
     "metadata": {},
     "output_type": "display_data"
    }
   ],
   "source": [
    "# FOR Forest: \\\n",
    "\n",
    "#First Forest\n",
    "polygon = Map.user_roi\n",
    "\n",
    "# Or you can enter defined coordinates as the commented lines below.\n",
    "# // Create an ee.Geometry.\n",
    "polygon = ee.Geometry.Polygon([\n",
    "                   [-78.772, 35.853],\n",
    "                   [-78.756, 35.861],\n",
    "                   [-78.743, 35.844],\n",
    "                   [-78.760, 35.839]]);\n",
    "\n",
    "#Create a Feature from the Geometry.\n",
    "forest = ee.Feature(polygon, {'class': 4, 'name': 'forest'});\n",
    "Map.addLayer(forest, {'fill_color':'green', 'outline': 1}, name='forest')\n",
    "\n",
    "\n",
    "#Second Forest\n",
    "polygon = Map.user_roi\n",
    "\n",
    "# // Create an ee.Geometry.\n",
    "polygon = ee.Geometry.Polygon([\n",
    "                   [-78.638, 35.998],\n",
    "                   [-78.621, 35.999],\n",
    "                   [-78.621, 35.990],\n",
    "                   [-78.634, 35.991]]);\n",
    "\n",
    "#Create a Feature from the Geometry.\n",
    "forest2 = ee.Feature(polygon, {'class': 4, 'name': 'forest2'});\n",
    "Map.addLayer(forest2, {'fill_color':'green', 'outline': 1}, name='forest2')\n",
    "\n",
    "\n",
    "#Third Forest\n",
    "polygon = Map.user_roi\n",
    "\n",
    "# // Create an ee.Geometry.\n",
    "polygon = ee.Geometry.Polygon([\n",
    "                   [-78.995, 35.628],\n",
    "                   [-78.985, 35.628],\n",
    "                   [-78.985, 35.618],\n",
    "                   [-78.995, 35.618]]);\n",
    "\n",
    "#Create a Feature from the Geometry.\n",
    "forest3 = ee.Feature(polygon, {'class': 4, 'name': 'forest3'});\n",
    "Map.addLayer(forest3, {'fill_color':'green', 'outline': 1}, name='forest3')\n",
    "\n",
    "\n",
    "#Fourth Forest\n",
    "polygon = Map.user_roi\n",
    "\n",
    "# // Create an ee.Geometry.\n",
    "polygon = ee.Geometry.Polygon([\n",
    "                   [-78.620, 35.962],\n",
    "                   [-78.611, 35.961],\n",
    "                   [-78.612, 35.958],\n",
    "                   [-78.618, 35.959]]);\n",
    "\n",
    "#Create a Feature from the Geometry.\n",
    "forest4 = ee.Feature(polygon, {'class': 4, 'name': 'forest4'});\n",
    "Map.addLayer(forest4, {'fill_color':'green', 'outline': 1}, name='forest4')\n",
    "Map"
   ]
  },
  {
   "cell_type": "code",
   "execution_count": 14,
   "id": "74c31b41-d990-4ab3-8b82-2b619f402b63",
   "metadata": {},
   "outputs": [
    {
     "data": {
      "application/vnd.jupyter.widget-view+json": {
       "model_id": "6712c4f8966e41989fb8645f991d3563",
       "version_major": 2,
       "version_minor": 0
      },
      "text/plain": [
       "Map(bottom=206795.0, center=[35.65785415813798, -78.71154785156251], controls=(WidgetControl(options=['positio…"
      ]
     },
     "metadata": {},
     "output_type": "display_data"
    }
   ],
   "source": [
    "# FOR Open Area/Grass: \\\n",
    "\n",
    "#First Grass\n",
    "polygon = Map.user_roi\n",
    "\n",
    "# Or you can enter defined coordinates as the commented lines below.\n",
    "# // Create an ee.Geometry.\n",
    "polygon = ee.Geometry.Polygon([\n",
    "                   [-78.775, 35.866],\n",
    "                   [-78.771, 35.868],\n",
    "                   [-78.767, 35.864],\n",
    "                   [-78.770, 35.862]]);\n",
    "\n",
    "#Create a Feature from the Geometry.\n",
    "grass = ee.Feature(polygon, {'class': 5, 'name': 'grass'});\n",
    "Map.addLayer(grass, {'fill_color':'lightgreen', 'outline': 1}, name='grass')\n",
    "\n",
    "# Second Grass\n",
    "polygon = Map.user_roi\n",
    "\n",
    "# // Create an ee.Geometry.\n",
    "polygon = ee.Geometry.Polygon([\n",
    "                   [-78.719, 35.817],\n",
    "                   [-78.715, 35.814],\n",
    "                   [-78.719, 35.811],\n",
    "                   [-78.721, 35.813]]);\n",
    "\n",
    "#Create a Feature from the Geometry.\n",
    "grass2 = ee.Feature(polygon, {'class': 5, 'name': 'grass2'});\n",
    "Map.addLayer(grass2, {'fill_color':'lightgreen', 'outline': 1}, name='grass2')\n",
    "\n",
    "\n",
    "# Third Grass\n",
    "polygon = Map.user_roi\n",
    "\n",
    "# // Create an ee.Geometry.\n",
    "polygon = ee.Geometry.Polygon([\n",
    "                   [-78.501, 36.036],\n",
    "                   [-78.497, 36.034],\n",
    "                   [-78.499, 36.032],\n",
    "                   [-78.505, 36.031]]);\n",
    "\n",
    "#Create a Feature from the Geometry.\n",
    "grass3 = ee.Feature(polygon, {'class': 5, 'name': 'grass3'});\n",
    "Map.addLayer(grass3, {'fill_color':'lightgreen', 'outline': 1}, name='grass3')\n",
    "\n",
    "\n",
    "# Fourth Grass\n",
    "polygon = Map.user_roi\n",
    "\n",
    "# // Create an ee.Geometry.\n",
    "polygon = ee.Geometry.Polygon([\n",
    "                   [-78.683, 35.730],\n",
    "                   [-78.679, 35.730],\n",
    "                   [-78.680, 35.725],\n",
    "                   [-78.683, 35.725]]);\n",
    "\n",
    "#Create a Feature from the Geometry.\n",
    "grass4 = ee.Feature(polygon, {'class': 5, 'name': 'grass4'});\n",
    "Map.addLayer(grass4, {'fill_color':'lightgreen', 'outline': 1}, name='grass4')\n",
    "Map"
   ]
  },
  {
   "cell_type": "markdown",
   "id": "60039b3e-b7eb-4f41-8fee-2e9623711973",
   "metadata": {},
   "source": [
    "# Train Computer to recognize land use areas"
   ]
  },
  {
   "cell_type": "code",
   "execution_count": 16,
   "id": "33f353f6-f707-4b78-8c47-934e18318a21",
   "metadata": {},
   "outputs": [],
   "source": [
    "trainingFeatures = ee.FeatureCollection([building, building2, building3, building4, building5, building6, building7, building8,\n",
    "                                         road, road2, road3, road4, road5, \n",
    "                                         farmland, farmland2, farmland3, farmland4, farmland5, \n",
    "                                         water, water2, water3,\n",
    "                                        forest, forest2, forest3, forest4,\n",
    "                                        grass, grass2, grass3, grass4])"
   ]
  },
  {
   "cell_type": "code",
   "execution_count": 17,
   "id": "73d0df68-04c1-45ca-ae1c-f037ea7464a3",
   "metadata": {},
   "outputs": [],
   "source": [
    "predictionBands = ['SR_B3', 'SR_B2', 'SR_B1', 'SR_B4', 'SR_B5', 'SR_B7']"
   ]
  },
  {
   "cell_type": "code",
   "execution_count": 18,
   "id": "d20af2a3-5eac-4e6d-a3ea-c5dfe39efbf1",
   "metadata": {},
   "outputs": [
    {
     "name": "stdout",
     "output_type": "stream",
     "text": [
      "{'type': 'Feature', 'geometry': {'type': 'Polygon', 'coordinates': [[[-78.6828, 35.841], [-78.6799, 35.8386], [-78.6779, 35.8398], [-78.6812, 35.8422], [-78.6828, 35.841]]]}, 'id': '0', 'properties': {'class': 0, 'name': 'building'}}\n"
     ]
    }
   ],
   "source": [
    "print(trainingFeatures.first().getInfo())"
   ]
  },
  {
   "cell_type": "code",
   "execution_count": 19,
   "id": "65b06e3d-86fd-4588-8cee-e51906345435",
   "metadata": {},
   "outputs": [],
   "source": [
    "classifierTraining = im1996.select(predictionBands).sampleRegions(\n",
    "      collection= trainingFeatures, \n",
    "      properties= ['class'], \n",
    "      scale= 30\n",
    "    );"
   ]
  },
  {
   "cell_type": "code",
   "execution_count": 20,
   "id": "ed772f58-f358-4483-8a0d-0e6a30f6617d",
   "metadata": {},
   "outputs": [],
   "source": [
    "# // Randomly split the data into 60% for training, and 40% for testing\n",
    "trainingTesting = classifierTraining.randomColumn('random',111009);\n",
    "\n",
    "training = trainingTesting.filter(ee.Filter.lt('random', 0.66));\n",
    "\n",
    "testing = trainingTesting.filter(ee.Filter.gte('random', 0.66));"
   ]
  },
  {
   "cell_type": "markdown",
   "id": "16dacd0d-9831-463c-8cf5-e06b1163d1d0",
   "metadata": {},
   "source": [
    "## Random Tree Classification"
   ]
  },
  {
   "cell_type": "code",
   "execution_count": 21,
   "id": "f233b441-b523-498a-9c2d-a80589136d9f",
   "metadata": {},
   "outputs": [],
   "source": [
    "# RANDOM TREES\n",
    "\n",
    "# hyperparameter to tune\n",
    "trees_val=14\n",
    "\n",
    "rfClassification = ee.Classifier.smileRandomForest(numberOfTrees=trees_val, seed=111009).train(\n",
    "      features= training, \n",
    "      classProperty= 'class', \n",
    "      inputProperties= predictionBands\n",
    "    )"
   ]
  },
  {
   "cell_type": "code",
   "execution_count": 23,
   "id": "bb70573a-c890-4783-a760-33d70959fcda",
   "metadata": {},
   "outputs": [
    {
     "data": {
      "application/vnd.jupyter.widget-view+json": {
       "model_id": "6712c4f8966e41989fb8645f991d3563",
       "version_major": 2,
       "version_minor": 0
      },
      "text/plain": [
       "Map(bottom=825590.0, center=[35.75403529302012, -78.79343032836914], controls=(WidgetControl(options=['positio…"
      ]
     },
     "metadata": {},
     "output_type": "display_data"
    }
   ],
   "source": [
    "# // Perform the RF regression on the landsat image\n",
    "rfClassificationImage = im1996.select(predictionBands).classify(rfClassification);\n",
    "    \n",
    "# // Visualize the RF regression\n",
    "Map.addLayer(rfClassificationImage,  {'min': 0, 'max': 5,\n",
    "                                   'palette':['pink','grey','yellow','blue','green','lightgreen']}, 'RF classification');\n",
    "\n",
    "Map"
   ]
  },
  {
   "cell_type": "markdown",
   "id": "1031b957-620a-47eb-a1a6-d7ebb63fd794",
   "metadata": {},
   "source": [
    "## Random Forest Accuracy"
   ]
  },
  {
   "cell_type": "code",
   "execution_count": 24,
   "id": "fae8980a-3d80-4e7e-8523-20ccd07cdd03",
   "metadata": {},
   "outputs": [
    {
     "name": "stdout",
     "output_type": "stream",
     "text": [
      "ConfusionMatrix\n",
      "[[ 283    5    2    0    0    0]\n",
      " [   7  163    4    0    7    4]\n",
      " [   0    4  216    0    1    4]\n",
      " [   0    1    0 1951    0    0]\n",
      " [   0   10    1    0 2192    5]\n",
      " [   0    1    6    0    2  296]]\n",
      "Overall Accuracy: 0.9876089060987415\n",
      "Producers Accuracy: [[0.9758620689655172], [0.8810810810810811], [0.96], [0.9994877049180327], [0.9927536231884058], [0.9704918032786886]]\n",
      "Consumers Accuracy: [[0.9758620689655172, 0.8858695652173914, 0.9432314410480349, 1, 0.9954586739327884, 0.9579288025889967]]\n",
      "Kappa: 0.9813694985393353\n"
     ]
    }
   ],
   "source": [
    "# // Perform the RF classification on the test set\n",
    "\n",
    "# print(test.first().getInfo())\n",
    "# // Get a confusion matrix representing expected accuracy.\n",
    "test=testing.classify(rfClassification)\n",
    "testAccuracy = test.errorMatrix('class', 'classification');\n",
    "\n",
    "import numpy as np\n",
    "errormaxtrix=np.array(testAccuracy.array().getInfo())\n",
    "\n",
    "print(testAccuracy.name());\n",
    "print(errormaxtrix)\n",
    "print('Overall Accuracy:', testAccuracy.accuracy().getInfo());\n",
    "print('Producers Accuracy:', testAccuracy.producersAccuracy().getInfo());\n",
    "print('Consumers Accuracy:', testAccuracy.consumersAccuracy().getInfo());\n",
    "print('Kappa:', testAccuracy.kappa().getInfo());"
   ]
  },
  {
   "cell_type": "markdown",
   "id": "ac069833-01c0-4f4e-8eee-09f83ce54e46",
   "metadata": {},
   "source": [
    "# Figure out how many 'trees' are best for RF Classification"
   ]
  },
  {
   "cell_type": "code",
   "execution_count": 24,
   "id": "4acf07ff-2dea-4e01-8bcd-ce31b40eabe5",
   "metadata": {},
   "outputs": [
    {
     "data": {
      "image/png": "[encoded data removed]",
      "text/plain": [
       "<Figure size 432x288 with 1 Axes>"
      ]
     },
     "metadata": {
      "needs_background": "light"
     },
     "output_type": "display_data"
    }
   ],
   "source": [
    "numTrees = ee.List.sequence(1, 20, 1)\n",
    "\n",
    "\n",
    "def trees(t):\n",
    "    rfclass = ee.Classifier.smileRandomForest(numberOfTrees=t, seed=111009).train(\n",
    "    features= training, \n",
    "    classProperty= 'class', \n",
    "    inputProperties= predictionBands)\n",
    "    \n",
    "    rfTesting = testing.classify(rfclass)\n",
    "    testAccuracy = rfTesting.errorMatrix('class', 'classification');\n",
    "    kappa= testAccuracy.kappa();       \n",
    "    return kappa\n",
    "\n",
    "\n",
    "kappa_trees=numTrees.map(trees)\n",
    "value_info = kappa_trees.getInfo()\n",
    "\n",
    "# print(rmse_trees.getInfo())\n",
    "\n",
    "import pandas as pd\n",
    "df =pd.DataFrame(value_info,columns=['kappa'])\n",
    "df['numTrees'] = numTrees.getInfo() \n",
    "\n",
    "ax =df.plot.line(x='numTrees', \n",
    "             y='kappa',\n",
    "             title= 'Impact of Number of Trees in Random Forest'\n",
    "             )\n",
    "ax.grid()"
   ]
  },
  {
   "cell_type": "markdown",
   "id": "80e3558e-480c-4b73-ad4b-4b9d78fb33ab",
   "metadata": {},
   "source": [
    "## Add Legend to map"
   ]
  },
  {
   "cell_type": "code",
   "execution_count": 25,
   "id": "53c722dc-0296-4f8b-a925-3dc8af3ee3cd",
   "metadata": {},
   "outputs": [
    {
     "data": {
      "application/vnd.jupyter.widget-view+json": {
       "model_id": "6712c4f8966e41989fb8645f991d3563",
       "version_major": 2,
       "version_minor": 0
      },
      "text/plain": [
       "Map(bottom=825590.0, center=[35.75403529302012, -78.79343032836914], controls=(WidgetControl(options=['positio…"
      ]
     },
     "metadata": {},
     "output_type": "display_data"
    }
   ],
   "source": [
    "#Define the legend labels and colors\n",
    "legend_dict = {\n",
    "    'buildings': '#ff69b4',\n",
    "    'roads': '#808080',\n",
    "    'farmland': '#ffff00',\n",
    "    'water': '#0000ff',\n",
    "    'forest': '#008000',\n",
    "    'grass': '#90ee90',\n",
    "}\n",
    "\n",
    "# Add the legend to the map\n",
    "Map.add_legend(legend_title='Legend', legend_dict=legend_dict)\n",
    "\n",
    "# Display the map\n",
    "Map"
   ]
  },
  {
   "cell_type": "code",
   "execution_count": 26,
   "id": "ab4e5ccb-d959-4e8c-b76d-a3c20b6ea3c0",
   "metadata": {},
   "outputs": [
    {
     "data": {
      "application/vnd.jupyter.widget-view+json": {
       "model_id": "91918e6b5eb547bba34b06d412694592",
       "version_major": 2,
       "version_minor": 0
      },
      "text/plain": [
       "Map(center=[35.799336436832874, -78.78645704174697], controls=(WidgetControl(options=['position', 'transparent…"
      ]
     },
     "metadata": {},
     "output_type": "display_data"
    }
   ],
   "source": [
    "#Map = geemap.Map()\n",
    "\n",
    "legend_keys = ['Buildings', 'Roads', 'Agriculture', 'Water', 'Forest', 'Grass']\n",
    "# colorS can be defined using either hex code or RGB (0-255, 0-255, 0-255)\n",
    "legend_colors = ['pink','grey','yellow','blue','green','lightgreen']\n",
    "#legend_colors = [(255, 0, 0), (127, 255, 0), (127, 18, 25), (36, 70, 180), (96, 68, 123)]\n",
    "\n",
    "Map.add_legend(\n",
    "    legend_keys=legend_keys, legend_colors=legend_colors, position='bottomleft'\n",
    ")\n",
    "Map"
   ]
  },
  {
   "cell_type": "markdown",
   "id": "a83688b2-8c4e-4f75-8e6c-9c1786aaca6c",
   "metadata": {},
   "source": [
    "## Zonal Statistics"
   ]
  },
  {
   "cell_type": "code",
   "execution_count": 27,
   "id": "95ff6ba1-fca4-4ccd-8e7e-af20862919c9",
   "metadata": {},
   "outputs": [
    {
     "name": "stdout",
     "output_type": "stream",
     "text": [
      "Total area by class:\n",
      "{'groups': [{'class': 0, 'sum': 106248611.5137447}, {'class': 1, 'sum': 652987445.2360651}, {'class': 2, 'sum': 210970076.3232635}, {'class': 3, 'sum': 131780830.32783896}, {'class': 4, 'sum': 1995872333.594553}, {'class': 5, 'sum': 502194841.2943185}]}\n"
     ]
    }
   ],
   "source": [
    "import ee\n",
    "areaImage = ee.Image.pixelArea().addBands(\n",
    "      rfClassificationImage)\n",
    "areas = areaImage.reduceRegion(**{\n",
    "    'reducer': ee.Reducer.sum().group(**{'groupField': 1, 'groupName': 'class'}),\n",
    "    'geometry': rfClassificationImage.geometry(),\n",
    "    'scale': 30,\n",
    "    'maxPixels': 1e10\n",
    "})\n",
    " \n",
    "# Print the results\n",
    "print('Total area by class:')\n",
    "print(areas.getInfo())"
   ]
  },
  {
   "cell_type": "markdown",
   "id": "91845d87-773c-4bca-83c3-4d5edc48d580",
   "metadata": {
    "tags": []
   },
   "source": [
    "## Convert to CSV Format"
   ]
  },
  {
   "cell_type": "code",
   "execution_count": 28,
   "id": "ae6a2448-1947-4771-96c2-072436d471f1",
   "metadata": {},
   "outputs": [
    {
     "name": "stdout",
     "output_type": "stream",
     "text": [
      "class,sum\n",
      "0,106248611.5137447\n",
      "1,652987445.2360651\n",
      "2,210970076.3232635\n",
      "3,131780830.32783896\n",
      "4,1995872333.594553\n",
      "5,502194841.2943185\n",
      "\n"
     ]
    }
   ],
   "source": [
    "import pandas as pd\n",
    "# Convert the result to a pandas DataFrame\n",
    "df = pd.DataFrame(areas.getInfo()['groups'])\n",
    "\n",
    "# Print the DataFrame\n",
    "print(df.to_csv(index=False))"
   ]
  },
  {
   "cell_type": "code",
   "execution_count": null,
   "id": "cbd8b53c-53cc-4a29-93b7-6ca7a6eb27c3",
   "metadata": {},
   "outputs": [],
   "source": []
  }
 ],
 "metadata": {
  "kernelspec": {
   "display_name": "Python 3 (ipykernel)",
   "language": "python",
   "name": "python3"
  },
  "language_info": {
   "codemirror_mode": {
    "name": "ipython",
    "version": 3
   },
   "file_extension": ".py",
   "mimetype": "text/x-python",
   "name": "python",
   "nbconvert_exporter": "python",
   "pygments_lexer": "ipython3",
   "version": "3.9.7"
  }
 },
 "nbformat": 4,
 "nbformat_minor": 5
}
